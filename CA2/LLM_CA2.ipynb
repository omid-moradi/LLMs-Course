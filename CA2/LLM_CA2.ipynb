{
 "cells": [
  {
   "cell_type": "markdown",
   "metadata": {
    "id": "xLJYAhNjjFUF"
   },
   "source": [
    "# **CA 2, LLMs Spring 2025**\n",
    "\n",
    "- **Name:OMID**\n",
    "- **Student ID:!**\n",
    "\n",
    "---\n",
    "#### Your submission should be named using the following format: `CA2_LASTNAME_STUDENTID.ipynb`.\n",
    "\n",
    "---\n",
    "\n",
    "##### *How to do this problem set:*\n",
    "\n",
    "- Some questions require writing Python code and computing results, and the rest of them have written answers. For coding problems, you will have to fill out all code blocks that say `YOUR CODE HERE`.\n",
    "\n",
    "- For text-based answers, you should replace the text that says ```Your Answer Here``` with your actual answer.\n",
    "\n",
    "- There is no penalty for using AI assistance on this homework as long as you fully disclose it in the final cell of this notebook (this includes storing any prompts that you feed to large language models). That said, anyone caught using AI assistance without proper disclosure will receive a zero on the assignment (we have several automatic tools to detect such cases). We're literally allowing you to use it with no limitations, so there is no reason to lie!\n",
    "\n",
    "---\n",
    "\n",
    "##### *Academic honesty*\n",
    "\n",
    "- We will audit the Colab notebooks from a set number of students, chosen at random. The audits will check that the code you wrote actually generates the answers in your notebook. If you turn in correct answers on your notebook without code that actually generates those answers, we will consider this a serious case of cheating.\n",
    "\n",
    "- We will also run automatic checks of Colab notebooks for plagiarism. Copying code from others is also considered a serious case of cheating.\n",
    "\n",
    "---\n",
    "\n",
    "If you have any further questions or concerns, contact the TAs via email: m.salmani78@ut.ac.ir / mehrabi.m@ut.ac.ir"
   ]
  },
  {
   "cell_type": "markdown",
   "metadata": {
    "id": "tAV1HzrhLd7c"
   },
   "source": [
    "## Preliminaries"
   ]
  },
  {
   "cell_type": "code",
   "execution_count": null,
   "metadata": {
    "colab": {
     "base_uri": "https://localhost:8080/",
     "height": 335
    },
    "id": "0ZSiIyBCXxzn",
    "outputId": "bf95c8fb-577c-42c0-9392-1d1cdff6c867"
   },
   "outputs": [
    {
     "ename": "MessageError",
     "evalue": "Error: credential propagation was unsuccessful",
     "output_type": "error",
     "traceback": [
      "\u001b[0;31m---------------------------------------------------------------------------\u001b[0m",
      "\u001b[0;31mMessageError\u001b[0m                              Traceback (most recent call last)",
      "\u001b[0;32m<ipython-input-1-d5df0069828e>\u001b[0m in \u001b[0;36m<cell line: 0>\u001b[0;34m()\u001b[0m\n\u001b[1;32m      1\u001b[0m \u001b[0;32mfrom\u001b[0m \u001b[0mgoogle\u001b[0m\u001b[0;34m.\u001b[0m\u001b[0mcolab\u001b[0m \u001b[0;32mimport\u001b[0m \u001b[0mdrive\u001b[0m\u001b[0;34m\u001b[0m\u001b[0;34m\u001b[0m\u001b[0m\n\u001b[0;32m----> 2\u001b[0;31m \u001b[0mdrive\u001b[0m\u001b[0;34m.\u001b[0m\u001b[0mmount\u001b[0m\u001b[0;34m(\u001b[0m\u001b[0;34m'/content/drive'\u001b[0m\u001b[0;34m)\u001b[0m\u001b[0;34m\u001b[0m\u001b[0;34m\u001b[0m\u001b[0m\n\u001b[0m",
      "\u001b[0;32m/usr/local/lib/python3.11/dist-packages/google/colab/drive.py\u001b[0m in \u001b[0;36mmount\u001b[0;34m(mountpoint, force_remount, timeout_ms, readonly)\u001b[0m\n\u001b[1;32m     98\u001b[0m \u001b[0;32mdef\u001b[0m \u001b[0mmount\u001b[0m\u001b[0;34m(\u001b[0m\u001b[0mmountpoint\u001b[0m\u001b[0;34m,\u001b[0m \u001b[0mforce_remount\u001b[0m\u001b[0;34m=\u001b[0m\u001b[0;32mFalse\u001b[0m\u001b[0;34m,\u001b[0m \u001b[0mtimeout_ms\u001b[0m\u001b[0;34m=\u001b[0m\u001b[0;36m120000\u001b[0m\u001b[0;34m,\u001b[0m \u001b[0mreadonly\u001b[0m\u001b[0;34m=\u001b[0m\u001b[0;32mFalse\u001b[0m\u001b[0;34m)\u001b[0m\u001b[0;34m:\u001b[0m\u001b[0;34m\u001b[0m\u001b[0;34m\u001b[0m\u001b[0m\n\u001b[1;32m     99\u001b[0m   \u001b[0;34m\"\"\"Mount your Google Drive at the specified mountpoint path.\"\"\"\u001b[0m\u001b[0;34m\u001b[0m\u001b[0;34m\u001b[0m\u001b[0m\n\u001b[0;32m--> 100\u001b[0;31m   return _mount(\n\u001b[0m\u001b[1;32m    101\u001b[0m       \u001b[0mmountpoint\u001b[0m\u001b[0;34m,\u001b[0m\u001b[0;34m\u001b[0m\u001b[0;34m\u001b[0m\u001b[0m\n\u001b[1;32m    102\u001b[0m       \u001b[0mforce_remount\u001b[0m\u001b[0;34m=\u001b[0m\u001b[0mforce_remount\u001b[0m\u001b[0;34m,\u001b[0m\u001b[0;34m\u001b[0m\u001b[0;34m\u001b[0m\u001b[0m\n",
      "\u001b[0;32m/usr/local/lib/python3.11/dist-packages/google/colab/drive.py\u001b[0m in \u001b[0;36m_mount\u001b[0;34m(mountpoint, force_remount, timeout_ms, ephemeral, readonly)\u001b[0m\n\u001b[1;32m    135\u001b[0m   )\n\u001b[1;32m    136\u001b[0m   \u001b[0;32mif\u001b[0m \u001b[0mephemeral\u001b[0m\u001b[0;34m:\u001b[0m\u001b[0;34m\u001b[0m\u001b[0;34m\u001b[0m\u001b[0m\n\u001b[0;32m--> 137\u001b[0;31m     _message.blocking_request(\n\u001b[0m\u001b[1;32m    138\u001b[0m         \u001b[0;34m'request_auth'\u001b[0m\u001b[0;34m,\u001b[0m\u001b[0;34m\u001b[0m\u001b[0;34m\u001b[0m\u001b[0m\n\u001b[1;32m    139\u001b[0m         \u001b[0mrequest\u001b[0m\u001b[0;34m=\u001b[0m\u001b[0;34m{\u001b[0m\u001b[0;34m'authType'\u001b[0m\u001b[0;34m:\u001b[0m \u001b[0;34m'dfs_ephemeral'\u001b[0m\u001b[0;34m}\u001b[0m\u001b[0;34m,\u001b[0m\u001b[0;34m\u001b[0m\u001b[0;34m\u001b[0m\u001b[0m\n",
      "\u001b[0;32m/usr/local/lib/python3.11/dist-packages/google/colab/_message.py\u001b[0m in \u001b[0;36mblocking_request\u001b[0;34m(request_type, request, timeout_sec, parent)\u001b[0m\n\u001b[1;32m    174\u001b[0m       \u001b[0mrequest_type\u001b[0m\u001b[0;34m,\u001b[0m \u001b[0mrequest\u001b[0m\u001b[0;34m,\u001b[0m \u001b[0mparent\u001b[0m\u001b[0;34m=\u001b[0m\u001b[0mparent\u001b[0m\u001b[0;34m,\u001b[0m \u001b[0mexpect_reply\u001b[0m\u001b[0;34m=\u001b[0m\u001b[0;32mTrue\u001b[0m\u001b[0;34m\u001b[0m\u001b[0;34m\u001b[0m\u001b[0m\n\u001b[1;32m    175\u001b[0m   )\n\u001b[0;32m--> 176\u001b[0;31m   \u001b[0;32mreturn\u001b[0m \u001b[0mread_reply_from_input\u001b[0m\u001b[0;34m(\u001b[0m\u001b[0mrequest_id\u001b[0m\u001b[0;34m,\u001b[0m \u001b[0mtimeout_sec\u001b[0m\u001b[0;34m)\u001b[0m\u001b[0;34m\u001b[0m\u001b[0;34m\u001b[0m\u001b[0m\n\u001b[0m",
      "\u001b[0;32m/usr/local/lib/python3.11/dist-packages/google/colab/_message.py\u001b[0m in \u001b[0;36mread_reply_from_input\u001b[0;34m(message_id, timeout_sec)\u001b[0m\n\u001b[1;32m    101\u001b[0m     ):\n\u001b[1;32m    102\u001b[0m       \u001b[0;32mif\u001b[0m \u001b[0;34m'error'\u001b[0m \u001b[0;32min\u001b[0m \u001b[0mreply\u001b[0m\u001b[0;34m:\u001b[0m\u001b[0;34m\u001b[0m\u001b[0;34m\u001b[0m\u001b[0m\n\u001b[0;32m--> 103\u001b[0;31m         \u001b[0;32mraise\u001b[0m \u001b[0mMessageError\u001b[0m\u001b[0;34m(\u001b[0m\u001b[0mreply\u001b[0m\u001b[0;34m[\u001b[0m\u001b[0;34m'error'\u001b[0m\u001b[0;34m]\u001b[0m\u001b[0;34m)\u001b[0m\u001b[0;34m\u001b[0m\u001b[0;34m\u001b[0m\u001b[0m\n\u001b[0m\u001b[1;32m    104\u001b[0m       \u001b[0;32mreturn\u001b[0m \u001b[0mreply\u001b[0m\u001b[0;34m.\u001b[0m\u001b[0mget\u001b[0m\u001b[0;34m(\u001b[0m\u001b[0;34m'data'\u001b[0m\u001b[0;34m,\u001b[0m \u001b[0;32mNone\u001b[0m\u001b[0;34m)\u001b[0m\u001b[0;34m\u001b[0m\u001b[0;34m\u001b[0m\u001b[0m\n\u001b[1;32m    105\u001b[0m \u001b[0;34m\u001b[0m\u001b[0m\n",
      "\u001b[0;31mMessageError\u001b[0m: Error: credential propagation was unsuccessful"
     ]
    }
   ],
   "source": [
    "from google.colab import drive\n",
    "drive.mount('/content/drive')"
   ]
  },
  {
   "cell_type": "code",
   "execution_count": 9,
   "metadata": {
    "colab": {
     "base_uri": "https://localhost:8080/"
    },
    "execution": {
     "iopub.execute_input": "2025-04-21T08:12:54.790858Z",
     "iopub.status.busy": "2025-04-21T08:12:54.790172Z",
     "iopub.status.idle": "2025-04-21T08:12:58.149841Z",
     "shell.execute_reply": "2025-04-21T08:12:58.149033Z",
     "shell.execute_reply.started": "2025-04-21T08:12:54.790825Z"
    },
    "id": "OaKl_QyBX9LJ",
    "outputId": "4ecebd33-946e-4699-a73c-e272740464f6",
    "trusted": true
   },
   "outputs": [
    {
     "name": "stdout",
     "output_type": "stream",
     "text": [
      "Requirement already satisfied: bitsandbytes in /usr/local/lib/python3.11/dist-packages (0.45.5)\n",
      "Requirement already satisfied: torch<3,>=2.0 in /usr/local/lib/python3.11/dist-packages (from bitsandbytes) (2.5.1+cu124)\n",
      "Requirement already satisfied: numpy>=1.17 in /usr/local/lib/python3.11/dist-packages (from bitsandbytes) (1.26.4)\n",
      "Requirement already satisfied: mkl_fft in /usr/local/lib/python3.11/dist-packages (from numpy>=1.17->bitsandbytes) (1.3.8)\n",
      "Requirement already satisfied: mkl_random in /usr/local/lib/python3.11/dist-packages (from numpy>=1.17->bitsandbytes) (1.2.4)\n",
      "Requirement already satisfied: mkl_umath in /usr/local/lib/python3.11/dist-packages (from numpy>=1.17->bitsandbytes) (0.1.1)\n",
      "Requirement already satisfied: mkl in /usr/local/lib/python3.11/dist-packages (from numpy>=1.17->bitsandbytes) (2025.1.0)\n",
      "Requirement already satisfied: tbb4py in /usr/local/lib/python3.11/dist-packages (from numpy>=1.17->bitsandbytes) (2022.1.0)\n",
      "Requirement already satisfied: mkl-service in /usr/local/lib/python3.11/dist-packages (from numpy>=1.17->bitsandbytes) (2.4.1)\n",
      "Requirement already satisfied: filelock in /usr/local/lib/python3.11/dist-packages (from torch<3,>=2.0->bitsandbytes) (3.18.0)\n",
      "Requirement already satisfied: typing-extensions>=4.8.0 in /usr/local/lib/python3.11/dist-packages (from torch<3,>=2.0->bitsandbytes) (4.13.1)\n",
      "Requirement already satisfied: networkx in /usr/local/lib/python3.11/dist-packages (from torch<3,>=2.0->bitsandbytes) (3.4.2)\n",
      "Requirement already satisfied: jinja2 in /usr/local/lib/python3.11/dist-packages (from torch<3,>=2.0->bitsandbytes) (3.1.6)\n",
      "Requirement already satisfied: fsspec in /usr/local/lib/python3.11/dist-packages (from torch<3,>=2.0->bitsandbytes) (2024.12.0)\n",
      "Requirement already satisfied: nvidia-cuda-nvrtc-cu12==12.4.127 in /usr/local/lib/python3.11/dist-packages (from torch<3,>=2.0->bitsandbytes) (12.4.127)\n",
      "Requirement already satisfied: nvidia-cuda-runtime-cu12==12.4.127 in /usr/local/lib/python3.11/dist-packages (from torch<3,>=2.0->bitsandbytes) (12.4.127)\n",
      "Requirement already satisfied: nvidia-cuda-cupti-cu12==12.4.127 in /usr/local/lib/python3.11/dist-packages (from torch<3,>=2.0->bitsandbytes) (12.4.127)\n",
      "Requirement already satisfied: nvidia-cudnn-cu12==9.1.0.70 in /usr/local/lib/python3.11/dist-packages (from torch<3,>=2.0->bitsandbytes) (9.1.0.70)\n",
      "Requirement already satisfied: nvidia-cublas-cu12==12.4.5.8 in /usr/local/lib/python3.11/dist-packages (from torch<3,>=2.0->bitsandbytes) (12.4.5.8)\n",
      "Requirement already satisfied: nvidia-cufft-cu12==11.2.1.3 in /usr/local/lib/python3.11/dist-packages (from torch<3,>=2.0->bitsandbytes) (11.2.1.3)\n",
      "Requirement already satisfied: nvidia-curand-cu12==10.3.5.147 in /usr/local/lib/python3.11/dist-packages (from torch<3,>=2.0->bitsandbytes) (10.3.5.147)\n",
      "Requirement already satisfied: nvidia-cusolver-cu12==11.6.1.9 in /usr/local/lib/python3.11/dist-packages (from torch<3,>=2.0->bitsandbytes) (11.6.1.9)\n",
      "Requirement already satisfied: nvidia-cusparse-cu12==12.3.1.170 in /usr/local/lib/python3.11/dist-packages (from torch<3,>=2.0->bitsandbytes) (12.3.1.170)\n",
      "Requirement already satisfied: nvidia-nccl-cu12==2.21.5 in /usr/local/lib/python3.11/dist-packages (from torch<3,>=2.0->bitsandbytes) (2.21.5)\n",
      "Requirement already satisfied: nvidia-nvtx-cu12==12.4.127 in /usr/local/lib/python3.11/dist-packages (from torch<3,>=2.0->bitsandbytes) (12.4.127)\n",
      "Requirement already satisfied: nvidia-nvjitlink-cu12==12.4.127 in /usr/local/lib/python3.11/dist-packages (from torch<3,>=2.0->bitsandbytes) (12.4.127)\n",
      "Requirement already satisfied: triton==3.1.0 in /usr/local/lib/python3.11/dist-packages (from torch<3,>=2.0->bitsandbytes) (3.1.0)\n",
      "Requirement already satisfied: sympy==1.13.1 in /usr/local/lib/python3.11/dist-packages (from torch<3,>=2.0->bitsandbytes) (1.13.1)\n",
      "Requirement already satisfied: mpmath<1.4,>=1.1.0 in /usr/local/lib/python3.11/dist-packages (from sympy==1.13.1->torch<3,>=2.0->bitsandbytes) (1.3.0)\n",
      "Requirement already satisfied: MarkupSafe>=2.0 in /usr/local/lib/python3.11/dist-packages (from jinja2->torch<3,>=2.0->bitsandbytes) (3.0.2)\n",
      "Requirement already satisfied: intel-openmp<2026,>=2024 in /usr/local/lib/python3.11/dist-packages (from mkl->numpy>=1.17->bitsandbytes) (2024.2.0)\n",
      "Requirement already satisfied: tbb==2022.* in /usr/local/lib/python3.11/dist-packages (from mkl->numpy>=1.17->bitsandbytes) (2022.1.0)\n",
      "Requirement already satisfied: tcmlib==1.* in /usr/local/lib/python3.11/dist-packages (from tbb==2022.*->mkl->numpy>=1.17->bitsandbytes) (1.2.0)\n",
      "Requirement already satisfied: intel-cmplr-lib-rt in /usr/local/lib/python3.11/dist-packages (from mkl_umath->numpy>=1.17->bitsandbytes) (2024.2.0)\n",
      "Requirement already satisfied: intel-cmplr-lib-ur==2024.2.0 in /usr/local/lib/python3.11/dist-packages (from intel-openmp<2026,>=2024->mkl->numpy>=1.17->bitsandbytes) (2024.2.0)\n"
     ]
    }
   ],
   "source": [
    "#!pip install bitsandbytes"
   ]
  },
  {
   "cell_type": "code",
   "execution_count": 4,
   "metadata": {
    "colab": {
     "base_uri": "https://localhost:8080/"
    },
    "execution": {
     "iopub.execute_input": "2025-04-21T08:14:21.812358Z",
     "iopub.status.busy": "2025-04-21T08:14:21.812127Z",
     "iopub.status.idle": "2025-04-21T08:15:36.930833Z",
     "shell.execute_reply": "2025-04-21T08:15:36.930148Z",
     "shell.execute_reply.started": "2025-04-21T08:14:21.812336Z"
    },
    "id": "0pzeeGG72Ecu",
    "outputId": "b938777d-7a7a-4b2f-e37c-2701a2e6a473",
    "trusted": true
   },
   "outputs": [
    {
     "name": "stdout",
     "output_type": "stream",
     "text": [
      "Requirement already satisfied: datasets in /usr/local/lib/python3.11/dist-packages (3.5.0)\n",
      "Collecting Levenshtein\n",
      "  Downloading levenshtein-0.27.1-cp311-cp311-manylinux_2_17_x86_64.manylinux2014_x86_64.whl.metadata (3.6 kB)\n",
      "Requirement already satisfied: filelock in /usr/local/lib/python3.11/dist-packages (from datasets) (3.18.0)\n",
      "Requirement already satisfied: numpy>=1.17 in /usr/local/lib/python3.11/dist-packages (from datasets) (1.26.4)\n",
      "Requirement already satisfied: pyarrow>=15.0.0 in /usr/local/lib/python3.11/dist-packages (from datasets) (19.0.1)\n",
      "Requirement already satisfied: dill<0.3.9,>=0.3.0 in /usr/local/lib/python3.11/dist-packages (from datasets) (0.3.8)\n",
      "Requirement already satisfied: pandas in /usr/local/lib/python3.11/dist-packages (from datasets) (2.2.3)\n",
      "Requirement already satisfied: requests>=2.32.2 in /usr/local/lib/python3.11/dist-packages (from datasets) (2.32.3)\n",
      "Requirement already satisfied: tqdm>=4.66.3 in /usr/local/lib/python3.11/dist-packages (from datasets) (4.67.1)\n",
      "Requirement already satisfied: xxhash in /usr/local/lib/python3.11/dist-packages (from datasets) (3.5.0)\n",
      "Requirement already satisfied: multiprocess<0.70.17 in /usr/local/lib/python3.11/dist-packages (from datasets) (0.70.16)\n",
      "Requirement already satisfied: fsspec<=2024.12.0,>=2023.1.0 in /usr/local/lib/python3.11/dist-packages (from fsspec[http]<=2024.12.0,>=2023.1.0->datasets) (2024.12.0)\n",
      "Requirement already satisfied: aiohttp in /usr/local/lib/python3.11/dist-packages (from datasets) (3.11.16)\n",
      "Requirement already satisfied: huggingface-hub>=0.24.0 in /usr/local/lib/python3.11/dist-packages (from datasets) (0.30.2)\n",
      "Requirement already satisfied: packaging in /usr/local/lib/python3.11/dist-packages (from datasets) (24.2)\n",
      "Requirement already satisfied: pyyaml>=5.1 in /usr/local/lib/python3.11/dist-packages (from datasets) (6.0.2)\n",
      "Collecting rapidfuzz<4.0.0,>=3.9.0 (from Levenshtein)\n",
      "  Downloading rapidfuzz-3.13.0-cp311-cp311-manylinux_2_17_x86_64.manylinux2014_x86_64.whl.metadata (12 kB)\n",
      "Requirement already satisfied: aiohappyeyeballs>=2.3.0 in /usr/local/lib/python3.11/dist-packages (from aiohttp->datasets) (2.6.1)\n",
      "Requirement already satisfied: aiosignal>=1.1.2 in /usr/local/lib/python3.11/dist-packages (from aiohttp->datasets) (1.3.2)\n",
      "Requirement already satisfied: attrs>=17.3.0 in /usr/local/lib/python3.11/dist-packages (from aiohttp->datasets) (25.3.0)\n",
      "Requirement already satisfied: frozenlist>=1.1.1 in /usr/local/lib/python3.11/dist-packages (from aiohttp->datasets) (1.5.0)\n",
      "Requirement already satisfied: multidict<7.0,>=4.5 in /usr/local/lib/python3.11/dist-packages (from aiohttp->datasets) (6.2.0)\n",
      "Requirement already satisfied: propcache>=0.2.0 in /usr/local/lib/python3.11/dist-packages (from aiohttp->datasets) (0.3.1)\n",
      "Requirement already satisfied: yarl<2.0,>=1.17.0 in /usr/local/lib/python3.11/dist-packages (from aiohttp->datasets) (1.19.0)\n",
      "Requirement already satisfied: typing-extensions>=3.7.4.3 in /usr/local/lib/python3.11/dist-packages (from huggingface-hub>=0.24.0->datasets) (4.13.1)\n",
      "Requirement already satisfied: mkl_fft in /usr/local/lib/python3.11/dist-packages (from numpy>=1.17->datasets) (1.3.8)\n",
      "Requirement already satisfied: mkl_random in /usr/local/lib/python3.11/dist-packages (from numpy>=1.17->datasets) (1.2.4)\n",
      "Requirement already satisfied: mkl_umath in /usr/local/lib/python3.11/dist-packages (from numpy>=1.17->datasets) (0.1.1)\n",
      "Requirement already satisfied: mkl in /usr/local/lib/python3.11/dist-packages (from numpy>=1.17->datasets) (2025.1.0)\n",
      "Requirement already satisfied: tbb4py in /usr/local/lib/python3.11/dist-packages (from numpy>=1.17->datasets) (2022.1.0)\n",
      "Requirement already satisfied: mkl-service in /usr/local/lib/python3.11/dist-packages (from numpy>=1.17->datasets) (2.4.1)\n",
      "Requirement already satisfied: charset-normalizer<4,>=2 in /usr/local/lib/python3.11/dist-packages (from requests>=2.32.2->datasets) (3.4.1)\n",
      "Requirement already satisfied: idna<4,>=2.5 in /usr/local/lib/python3.11/dist-packages (from requests>=2.32.2->datasets) (3.10)\n",
      "Requirement already satisfied: urllib3<3,>=1.21.1 in /usr/local/lib/python3.11/dist-packages (from requests>=2.32.2->datasets) (2.3.0)\n",
      "Requirement already satisfied: certifi>=2017.4.17 in /usr/local/lib/python3.11/dist-packages (from requests>=2.32.2->datasets) (2025.1.31)\n",
      "Requirement already satisfied: python-dateutil>=2.8.2 in /usr/local/lib/python3.11/dist-packages (from pandas->datasets) (2.9.0.post0)\n",
      "Requirement already satisfied: pytz>=2020.1 in /usr/local/lib/python3.11/dist-packages (from pandas->datasets) (2025.2)\n",
      "Requirement already satisfied: tzdata>=2022.7 in /usr/local/lib/python3.11/dist-packages (from pandas->datasets) (2025.2)\n",
      "Requirement already satisfied: six>=1.5 in /usr/local/lib/python3.11/dist-packages (from python-dateutil>=2.8.2->pandas->datasets) (1.17.0)\n",
      "Requirement already satisfied: intel-openmp<2026,>=2024 in /usr/local/lib/python3.11/dist-packages (from mkl->numpy>=1.17->datasets) (2024.2.0)\n",
      "Requirement already satisfied: tbb==2022.* in /usr/local/lib/python3.11/dist-packages (from mkl->numpy>=1.17->datasets) (2022.1.0)\n",
      "Requirement already satisfied: tcmlib==1.* in /usr/local/lib/python3.11/dist-packages (from tbb==2022.*->mkl->numpy>=1.17->datasets) (1.2.0)\n",
      "Requirement already satisfied: intel-cmplr-lib-rt in /usr/local/lib/python3.11/dist-packages (from mkl_umath->numpy>=1.17->datasets) (2024.2.0)\n",
      "Requirement already satisfied: intel-cmplr-lib-ur==2024.2.0 in /usr/local/lib/python3.11/dist-packages (from intel-openmp<2026,>=2024->mkl->numpy>=1.17->datasets) (2024.2.0)\n",
      "Downloading levenshtein-0.27.1-cp311-cp311-manylinux_2_17_x86_64.manylinux2014_x86_64.whl (161 kB)\n",
      "\u001b[2K   \u001b[90m━━━━━━━━━━━━━━━━━━━━━━━━━━━━━━━━━━━━━━━━\u001b[0m \u001b[32m161.7/161.7 kB\u001b[0m \u001b[31m3.7 MB/s\u001b[0m eta \u001b[36m0:00:00\u001b[0ma \u001b[36m0:00:01\u001b[0m\n",
      "\u001b[?25hDownloading rapidfuzz-3.13.0-cp311-cp311-manylinux_2_17_x86_64.manylinux2014_x86_64.whl (3.1 MB)\n",
      "\u001b[2K   \u001b[90m━━━━━━━━━━━━━━━━━━━━━━━━━━━━━━━━━━━━━━━━\u001b[0m \u001b[32m3.1/3.1 MB\u001b[0m \u001b[31m45.8 MB/s\u001b[0m eta \u001b[36m0:00:00\u001b[0ma \u001b[36m0:00:01\u001b[0m\n",
      "\u001b[?25hInstalling collected packages: rapidfuzz, Levenshtein\n",
      "Successfully installed Levenshtein-0.27.1 rapidfuzz-3.13.0\n",
      "Requirement already satisfied: trl in /usr/local/lib/python3.11/dist-packages (0.16.1)\n",
      "Requirement already satisfied: accelerate>=0.34.0 in /usr/local/lib/python3.11/dist-packages (from trl) (1.3.0)\n",
      "Requirement already satisfied: datasets>=3.0.0 in /usr/local/lib/python3.11/dist-packages (from trl) (3.5.0)\n",
      "Requirement already satisfied: rich in /usr/local/lib/python3.11/dist-packages (from trl) (14.0.0)\n",
      "Requirement already satisfied: transformers>=4.46.0 in /usr/local/lib/python3.11/dist-packages (from trl) (4.51.1)\n",
      "Requirement already satisfied: numpy<3.0.0,>=1.17 in /usr/local/lib/python3.11/dist-packages (from accelerate>=0.34.0->trl) (1.26.4)\n",
      "Requirement already satisfied: packaging>=20.0 in /usr/local/lib/python3.11/dist-packages (from accelerate>=0.34.0->trl) (24.2)\n",
      "Requirement already satisfied: psutil in /usr/local/lib/python3.11/dist-packages (from accelerate>=0.34.0->trl) (7.0.0)\n",
      "Requirement already satisfied: pyyaml in /usr/local/lib/python3.11/dist-packages (from accelerate>=0.34.0->trl) (6.0.2)\n",
      "Requirement already satisfied: torch>=2.0.0 in /usr/local/lib/python3.11/dist-packages (from accelerate>=0.34.0->trl) (2.5.1+cu124)\n",
      "Requirement already satisfied: huggingface-hub>=0.21.0 in /usr/local/lib/python3.11/dist-packages (from accelerate>=0.34.0->trl) (0.30.2)\n",
      "Requirement already satisfied: safetensors>=0.4.3 in /usr/local/lib/python3.11/dist-packages (from accelerate>=0.34.0->trl) (0.5.2)\n",
      "Requirement already satisfied: filelock in /usr/local/lib/python3.11/dist-packages (from datasets>=3.0.0->trl) (3.18.0)\n",
      "Requirement already satisfied: pyarrow>=15.0.0 in /usr/local/lib/python3.11/dist-packages (from datasets>=3.0.0->trl) (19.0.1)\n",
      "Requirement already satisfied: dill<0.3.9,>=0.3.0 in /usr/local/lib/python3.11/dist-packages (from datasets>=3.0.0->trl) (0.3.8)\n",
      "Requirement already satisfied: pandas in /usr/local/lib/python3.11/dist-packages (from datasets>=3.0.0->trl) (2.2.3)\n",
      "Requirement already satisfied: requests>=2.32.2 in /usr/local/lib/python3.11/dist-packages (from datasets>=3.0.0->trl) (2.32.3)\n",
      "Requirement already satisfied: tqdm>=4.66.3 in /usr/local/lib/python3.11/dist-packages (from datasets>=3.0.0->trl) (4.67.1)\n",
      "Requirement already satisfied: xxhash in /usr/local/lib/python3.11/dist-packages (from datasets>=3.0.0->trl) (3.5.0)\n",
      "Requirement already satisfied: multiprocess<0.70.17 in /usr/local/lib/python3.11/dist-packages (from datasets>=3.0.0->trl) (0.70.16)\n",
      "Requirement already satisfied: fsspec<=2024.12.0,>=2023.1.0 in /usr/local/lib/python3.11/dist-packages (from fsspec[http]<=2024.12.0,>=2023.1.0->datasets>=3.0.0->trl) (2024.12.0)\n",
      "Requirement already satisfied: aiohttp in /usr/local/lib/python3.11/dist-packages (from datasets>=3.0.0->trl) (3.11.16)\n",
      "Requirement already satisfied: regex!=2019.12.17 in /usr/local/lib/python3.11/dist-packages (from transformers>=4.46.0->trl) (2024.11.6)\n",
      "Requirement already satisfied: tokenizers<0.22,>=0.21 in /usr/local/lib/python3.11/dist-packages (from transformers>=4.46.0->trl) (0.21.0)\n",
      "Requirement already satisfied: markdown-it-py>=2.2.0 in /usr/local/lib/python3.11/dist-packages (from rich->trl) (3.0.0)\n",
      "Requirement already satisfied: pygments<3.0.0,>=2.13.0 in /usr/local/lib/python3.11/dist-packages (from rich->trl) (2.19.1)\n",
      "Requirement already satisfied: aiohappyeyeballs>=2.3.0 in /usr/local/lib/python3.11/dist-packages (from aiohttp->datasets>=3.0.0->trl) (2.6.1)\n",
      "Requirement already satisfied: aiosignal>=1.1.2 in /usr/local/lib/python3.11/dist-packages (from aiohttp->datasets>=3.0.0->trl) (1.3.2)\n",
      "Requirement already satisfied: attrs>=17.3.0 in /usr/local/lib/python3.11/dist-packages (from aiohttp->datasets>=3.0.0->trl) (25.3.0)\n",
      "Requirement already satisfied: frozenlist>=1.1.1 in /usr/local/lib/python3.11/dist-packages (from aiohttp->datasets>=3.0.0->trl) (1.5.0)\n",
      "Requirement already satisfied: multidict<7.0,>=4.5 in /usr/local/lib/python3.11/dist-packages (from aiohttp->datasets>=3.0.0->trl) (6.2.0)\n",
      "Requirement already satisfied: propcache>=0.2.0 in /usr/local/lib/python3.11/dist-packages (from aiohttp->datasets>=3.0.0->trl) (0.3.1)\n",
      "Requirement already satisfied: yarl<2.0,>=1.17.0 in /usr/local/lib/python3.11/dist-packages (from aiohttp->datasets>=3.0.0->trl) (1.19.0)\n",
      "Requirement already satisfied: typing-extensions>=3.7.4.3 in /usr/local/lib/python3.11/dist-packages (from huggingface-hub>=0.21.0->accelerate>=0.34.0->trl) (4.13.1)\n",
      "Requirement already satisfied: mdurl~=0.1 in /usr/local/lib/python3.11/dist-packages (from markdown-it-py>=2.2.0->rich->trl) (0.1.2)\n",
      "Requirement already satisfied: mkl_fft in /usr/local/lib/python3.11/dist-packages (from numpy<3.0.0,>=1.17->accelerate>=0.34.0->trl) (1.3.8)\n",
      "Requirement already satisfied: mkl_random in /usr/local/lib/python3.11/dist-packages (from numpy<3.0.0,>=1.17->accelerate>=0.34.0->trl) (1.2.4)\n",
      "Requirement already satisfied: mkl_umath in /usr/local/lib/python3.11/dist-packages (from numpy<3.0.0,>=1.17->accelerate>=0.34.0->trl) (0.1.1)\n",
      "Requirement already satisfied: mkl in /usr/local/lib/python3.11/dist-packages (from numpy<3.0.0,>=1.17->accelerate>=0.34.0->trl) (2025.1.0)\n",
      "Requirement already satisfied: tbb4py in /usr/local/lib/python3.11/dist-packages (from numpy<3.0.0,>=1.17->accelerate>=0.34.0->trl) (2022.1.0)\n",
      "Requirement already satisfied: mkl-service in /usr/local/lib/python3.11/dist-packages (from numpy<3.0.0,>=1.17->accelerate>=0.34.0->trl) (2.4.1)\n",
      "Requirement already satisfied: charset-normalizer<4,>=2 in /usr/local/lib/python3.11/dist-packages (from requests>=2.32.2->datasets>=3.0.0->trl) (3.4.1)\n",
      "Requirement already satisfied: idna<4,>=2.5 in /usr/local/lib/python3.11/dist-packages (from requests>=2.32.2->datasets>=3.0.0->trl) (3.10)\n",
      "Requirement already satisfied: urllib3<3,>=1.21.1 in /usr/local/lib/python3.11/dist-packages (from requests>=2.32.2->datasets>=3.0.0->trl) (2.3.0)\n",
      "Requirement already satisfied: certifi>=2017.4.17 in /usr/local/lib/python3.11/dist-packages (from requests>=2.32.2->datasets>=3.0.0->trl) (2025.1.31)\n",
      "Requirement already satisfied: networkx in /usr/local/lib/python3.11/dist-packages (from torch>=2.0.0->accelerate>=0.34.0->trl) (3.4.2)\n",
      "Requirement already satisfied: jinja2 in /usr/local/lib/python3.11/dist-packages (from torch>=2.0.0->accelerate>=0.34.0->trl) (3.1.6)\n",
      "Requirement already satisfied: nvidia-cuda-nvrtc-cu12==12.4.127 in /usr/local/lib/python3.11/dist-packages (from torch>=2.0.0->accelerate>=0.34.0->trl) (12.4.127)\n",
      "Requirement already satisfied: nvidia-cuda-runtime-cu12==12.4.127 in /usr/local/lib/python3.11/dist-packages (from torch>=2.0.0->accelerate>=0.34.0->trl) (12.4.127)\n",
      "Requirement already satisfied: nvidia-cuda-cupti-cu12==12.4.127 in /usr/local/lib/python3.11/dist-packages (from torch>=2.0.0->accelerate>=0.34.0->trl) (12.4.127)\n",
      "Collecting nvidia-cudnn-cu12==9.1.0.70 (from torch>=2.0.0->accelerate>=0.34.0->trl)\n",
      "  Downloading nvidia_cudnn_cu12-9.1.0.70-py3-none-manylinux2014_x86_64.whl.metadata (1.6 kB)\n",
      "Collecting nvidia-cublas-cu12==12.4.5.8 (from torch>=2.0.0->accelerate>=0.34.0->trl)\n",
      "  Downloading nvidia_cublas_cu12-12.4.5.8-py3-none-manylinux2014_x86_64.whl.metadata (1.5 kB)\n",
      "Collecting nvidia-cufft-cu12==11.2.1.3 (from torch>=2.0.0->accelerate>=0.34.0->trl)\n",
      "  Downloading nvidia_cufft_cu12-11.2.1.3-py3-none-manylinux2014_x86_64.whl.metadata (1.5 kB)\n",
      "Collecting nvidia-curand-cu12==10.3.5.147 (from torch>=2.0.0->accelerate>=0.34.0->trl)\n",
      "  Downloading nvidia_curand_cu12-10.3.5.147-py3-none-manylinux2014_x86_64.whl.metadata (1.5 kB)\n",
      "Collecting nvidia-cusolver-cu12==11.6.1.9 (from torch>=2.0.0->accelerate>=0.34.0->trl)\n",
      "  Downloading nvidia_cusolver_cu12-11.6.1.9-py3-none-manylinux2014_x86_64.whl.metadata (1.6 kB)\n",
      "Collecting nvidia-cusparse-cu12==12.3.1.170 (from torch>=2.0.0->accelerate>=0.34.0->trl)\n",
      "  Downloading nvidia_cusparse_cu12-12.3.1.170-py3-none-manylinux2014_x86_64.whl.metadata (1.6 kB)\n",
      "Requirement already satisfied: nvidia-nccl-cu12==2.21.5 in /usr/local/lib/python3.11/dist-packages (from torch>=2.0.0->accelerate>=0.34.0->trl) (2.21.5)\n",
      "Requirement already satisfied: nvidia-nvtx-cu12==12.4.127 in /usr/local/lib/python3.11/dist-packages (from torch>=2.0.0->accelerate>=0.34.0->trl) (12.4.127)\n",
      "Collecting nvidia-nvjitlink-cu12==12.4.127 (from torch>=2.0.0->accelerate>=0.34.0->trl)\n",
      "  Downloading nvidia_nvjitlink_cu12-12.4.127-py3-none-manylinux2014_x86_64.whl.metadata (1.5 kB)\n",
      "Requirement already satisfied: triton==3.1.0 in /usr/local/lib/python3.11/dist-packages (from torch>=2.0.0->accelerate>=0.34.0->trl) (3.1.0)\n",
      "Requirement already satisfied: sympy==1.13.1 in /usr/local/lib/python3.11/dist-packages (from torch>=2.0.0->accelerate>=0.34.0->trl) (1.13.1)\n",
      "Requirement already satisfied: mpmath<1.4,>=1.1.0 in /usr/local/lib/python3.11/dist-packages (from sympy==1.13.1->torch>=2.0.0->accelerate>=0.34.0->trl) (1.3.0)\n",
      "Requirement already satisfied: python-dateutil>=2.8.2 in /usr/local/lib/python3.11/dist-packages (from pandas->datasets>=3.0.0->trl) (2.9.0.post0)\n",
      "Requirement already satisfied: pytz>=2020.1 in /usr/local/lib/python3.11/dist-packages (from pandas->datasets>=3.0.0->trl) (2025.2)\n",
      "Requirement already satisfied: tzdata>=2022.7 in /usr/local/lib/python3.11/dist-packages (from pandas->datasets>=3.0.0->trl) (2025.2)\n",
      "Requirement already satisfied: six>=1.5 in /usr/local/lib/python3.11/dist-packages (from python-dateutil>=2.8.2->pandas->datasets>=3.0.0->trl) (1.17.0)\n",
      "Requirement already satisfied: MarkupSafe>=2.0 in /usr/local/lib/python3.11/dist-packages (from jinja2->torch>=2.0.0->accelerate>=0.34.0->trl) (3.0.2)\n",
      "Requirement already satisfied: intel-openmp<2026,>=2024 in /usr/local/lib/python3.11/dist-packages (from mkl->numpy<3.0.0,>=1.17->accelerate>=0.34.0->trl) (2024.2.0)\n",
      "Requirement already satisfied: tbb==2022.* in /usr/local/lib/python3.11/dist-packages (from mkl->numpy<3.0.0,>=1.17->accelerate>=0.34.0->trl) (2022.1.0)\n",
      "Requirement already satisfied: tcmlib==1.* in /usr/local/lib/python3.11/dist-packages (from tbb==2022.*->mkl->numpy<3.0.0,>=1.17->accelerate>=0.34.0->trl) (1.2.0)\n",
      "Requirement already satisfied: intel-cmplr-lib-rt in /usr/local/lib/python3.11/dist-packages (from mkl_umath->numpy<3.0.0,>=1.17->accelerate>=0.34.0->trl) (2024.2.0)\n",
      "Requirement already satisfied: intel-cmplr-lib-ur==2024.2.0 in /usr/local/lib/python3.11/dist-packages (from intel-openmp<2026,>=2024->mkl->numpy<3.0.0,>=1.17->accelerate>=0.34.0->trl) (2024.2.0)\n",
      "Downloading nvidia_cublas_cu12-12.4.5.8-py3-none-manylinux2014_x86_64.whl (363.4 MB)\n",
      "\u001b[2K   \u001b[90m━━━━━━━━━━━━━━━━━━━━━━━━━━━━━━━━━━━━━━━━\u001b[0m \u001b[32m363.4/363.4 MB\u001b[0m \u001b[31m4.7 MB/s\u001b[0m eta \u001b[36m0:00:00\u001b[0m0:00:01\u001b[0m00:01\u001b[0m\n",
      "\u001b[?25hDownloading nvidia_cudnn_cu12-9.1.0.70-py3-none-manylinux2014_x86_64.whl (664.8 MB)\n",
      "\u001b[2K   \u001b[90m━━━━━━━━━━━━━━━━━━━━━━━━━━━━━━━━━━━━━━━━\u001b[0m \u001b[32m664.8/664.8 MB\u001b[0m \u001b[31m2.2 MB/s\u001b[0m eta \u001b[36m0:00:00\u001b[0m0:00:01\u001b[0m00:01\u001b[0m\n",
      "\u001b[?25hDownloading nvidia_cufft_cu12-11.2.1.3-py3-none-manylinux2014_x86_64.whl (211.5 MB)\n",
      "\u001b[2K   \u001b[90m━━━━━━━━━━━━━━━━━━━━━━━━━━━━━━━━━━━━━━━━\u001b[0m \u001b[32m211.5/211.5 MB\u001b[0m \u001b[31m2.0 MB/s\u001b[0m eta \u001b[36m0:00:00\u001b[0m0:00:01\u001b[0m00:01\u001b[0m\n",
      "\u001b[?25hDownloading nvidia_curand_cu12-10.3.5.147-py3-none-manylinux2014_x86_64.whl (56.3 MB)\n",
      "\u001b[2K   \u001b[90m━━━━━━━━━━━━━━━━━━━━━━━━━━━━━━━━━━━━━━━━\u001b[0m \u001b[32m56.3/56.3 MB\u001b[0m \u001b[31m31.5 MB/s\u001b[0m eta \u001b[36m0:00:00\u001b[0m:00:01\u001b[0m00:01\u001b[0m\n",
      "\u001b[?25hDownloading nvidia_cusolver_cu12-11.6.1.9-py3-none-manylinux2014_x86_64.whl (127.9 MB)\n",
      "\u001b[2K   \u001b[90m━━━━━━━━━━━━━━━━━━━━━━━━━━━━━━━━━━━━━━━━\u001b[0m \u001b[32m127.9/127.9 MB\u001b[0m \u001b[31m13.5 MB/s\u001b[0m eta \u001b[36m0:00:00\u001b[0m:00:01\u001b[0m00:01\u001b[0m\n",
      "\u001b[?25hDownloading nvidia_cusparse_cu12-12.3.1.170-py3-none-manylinux2014_x86_64.whl (207.5 MB)\n",
      "\u001b[2K   \u001b[90m━━━━━━━━━━━━━━━━━━━━━━━━━━━━━━━━━━━━━━━━\u001b[0m \u001b[32m207.5/207.5 MB\u001b[0m \u001b[31m8.3 MB/s\u001b[0m eta \u001b[36m0:00:00\u001b[0m0:00:01\u001b[0m00:01\u001b[0m\n",
      "\u001b[?25hDownloading nvidia_nvjitlink_cu12-12.4.127-py3-none-manylinux2014_x86_64.whl (21.1 MB)\n",
      "\u001b[2K   \u001b[90m━━━━━━━━━━━━━━━━━━━━━━━━━━━━━━━━━━━━━━━━\u001b[0m \u001b[32m21.1/21.1 MB\u001b[0m \u001b[31m73.2 MB/s\u001b[0m eta \u001b[36m0:00:00\u001b[0m:00:01\u001b[0m00:01\u001b[0m\n",
      "\u001b[?25hInstalling collected packages: nvidia-nvjitlink-cu12, nvidia-curand-cu12, nvidia-cufft-cu12, nvidia-cublas-cu12, nvidia-cusparse-cu12, nvidia-cudnn-cu12, nvidia-cusolver-cu12\n",
      "  Attempting uninstall: nvidia-nvjitlink-cu12\n",
      "    Found existing installation: nvidia-nvjitlink-cu12 12.8.93\n",
      "    Uninstalling nvidia-nvjitlink-cu12-12.8.93:\n",
      "      Successfully uninstalled nvidia-nvjitlink-cu12-12.8.93\n",
      "  Attempting uninstall: nvidia-curand-cu12\n",
      "    Found existing installation: nvidia-curand-cu12 10.3.9.90\n",
      "    Uninstalling nvidia-curand-cu12-10.3.9.90:\n",
      "      Successfully uninstalled nvidia-curand-cu12-10.3.9.90\n",
      "  Attempting uninstall: nvidia-cufft-cu12\n",
      "    Found existing installation: nvidia-cufft-cu12 11.3.3.83\n",
      "    Uninstalling nvidia-cufft-cu12-11.3.3.83:\n",
      "      Successfully uninstalled nvidia-cufft-cu12-11.3.3.83\n",
      "  Attempting uninstall: nvidia-cublas-cu12\n",
      "    Found existing installation: nvidia-cublas-cu12 12.8.4.1\n",
      "    Uninstalling nvidia-cublas-cu12-12.8.4.1:\n",
      "      Successfully uninstalled nvidia-cublas-cu12-12.8.4.1\n",
      "  Attempting uninstall: nvidia-cusparse-cu12\n",
      "    Found existing installation: nvidia-cusparse-cu12 12.5.8.93\n",
      "    Uninstalling nvidia-cusparse-cu12-12.5.8.93:\n",
      "      Successfully uninstalled nvidia-cusparse-cu12-12.5.8.93\n",
      "  Attempting uninstall: nvidia-cudnn-cu12\n",
      "    Found existing installation: nvidia-cudnn-cu12 9.3.0.75\n",
      "    Uninstalling nvidia-cudnn-cu12-9.3.0.75:\n",
      "      Successfully uninstalled nvidia-cudnn-cu12-9.3.0.75\n",
      "  Attempting uninstall: nvidia-cusolver-cu12\n",
      "    Found existing installation: nvidia-cusolver-cu12 11.7.3.90\n",
      "    Uninstalling nvidia-cusolver-cu12-11.7.3.90:\n",
      "      Successfully uninstalled nvidia-cusolver-cu12-11.7.3.90\n",
      "\u001b[31mERROR: pip's dependency resolver does not currently take into account all the packages that are installed. This behaviour is the source of the following dependency conflicts.\n",
      "pylibcugraph-cu12 24.12.0 requires pylibraft-cu12==24.12.*, but you have pylibraft-cu12 25.2.0 which is incompatible.\n",
      "pylibcugraph-cu12 24.12.0 requires rmm-cu12==24.12.*, but you have rmm-cu12 25.2.0 which is incompatible.\u001b[0m\u001b[31m\n",
      "\u001b[0mSuccessfully installed nvidia-cublas-cu12-12.4.5.8 nvidia-cudnn-cu12-9.1.0.70 nvidia-cufft-cu12-11.2.1.3 nvidia-curand-cu12-10.3.5.147 nvidia-cusolver-cu12-11.6.1.9 nvidia-cusparse-cu12-12.3.1.170 nvidia-nvjitlink-cu12-12.4.127\n"
     ]
    }
   ],
   "source": [
    "!pip install datasets Levenshtein\n",
    "!pip install trl"
   ]
  },
  {
   "cell_type": "code",
   "execution_count": 5,
   "metadata": {
    "execution": {
     "iopub.execute_input": "2025-04-21T08:15:36.932039Z",
     "iopub.status.busy": "2025-04-21T08:15:36.931797Z",
     "iopub.status.idle": "2025-04-21T08:15:36.957491Z",
     "shell.execute_reply": "2025-04-21T08:15:36.957004Z",
     "shell.execute_reply.started": "2025-04-21T08:15:36.932018Z"
    },
    "id": "sfDbur2dfcjy",
    "trusted": true
   },
   "outputs": [],
   "source": [
    "import torch\n",
    "import numpy as np\n",
    "import re\n",
    "import time\n",
    "from tqdm import tqdm\n",
    "import pandas as pd\n",
    "import matplotlib.pyplot as plt\n",
    "from Levenshtein import ratio\n",
    "from collections import defaultdict\n",
    "from datasets import load_dataset\n",
    "from trl import ORPOConfig, ORPOTrainer\n",
    "from transformers import AutoModelForSequenceClassification, AutoTokenizer"
   ]
  },
  {
   "cell_type": "code",
   "execution_count": null,
   "metadata": {
    "colab": {
     "base_uri": "https://localhost:8080/"
    },
    "execution": {
     "iopub.execute_input": "2025-04-21T08:15:36.958384Z",
     "iopub.status.busy": "2025-04-21T08:15:36.958188Z",
     "iopub.status.idle": "2025-04-21T08:15:37.616812Z",
     "shell.execute_reply": "2025-04-21T08:15:37.616135Z",
     "shell.execute_reply.started": "2025-04-21T08:15:36.958369Z"
    },
    "id": "iNY4jz4Lkwtb",
    "outputId": "974a696e-27ec-439f-e108-cdab429186fe",
    "trusted": true
   },
   "outputs": [],
   "source": [
    "\"token = '[REMOVED]'\""
   ]
  },
  {
   "cell_type": "code",
   "execution_count": 7,
   "metadata": {
    "execution": {
     "iopub.execute_input": "2025-04-21T08:15:37.619462Z",
     "iopub.status.busy": "2025-04-21T08:15:37.619245Z",
     "iopub.status.idle": "2025-04-21T08:15:37.624696Z",
     "shell.execute_reply": "2025-04-21T08:15:37.624070Z",
     "shell.execute_reply.started": "2025-04-21T08:15:37.619444Z"
    },
    "id": "CSKRoHpW7Qd-",
    "trusted": true
   },
   "outputs": [],
   "source": [
    "class CONFIG:\n",
    "    seed = 42\n",
    "    device = torch.device('cuda' if torch.cuda.is_available() else 'cpu')\n",
    "\n",
    "    model_name = \"unsloth/Llama-3.2-3B-Instruct-bnb-4bit\"\n",
    "    reward_model_name = \"nicolinho/QRM-Llama3.1-8B-v2\"\n",
    "    benchmark_name = \"openai/gsm8k\"\n",
    "    dataset_name = \"mlabonne/orpo-dpo-mix-40k\"\n",
    "\n",
    "    train_data_size = 1600\n",
    "    benchmark_subset_size = 50\n",
    "    max_seq_length = 1024\n",
    "    train_batch_size = 2\n",
    "    gradient_accumulation_steps = 4\n",
    "    epochs = 1\n",
    "\n",
    "    # LoRA Configs\n",
    "    lora_rank = 64\n",
    "    lora_alpha = 64\n",
    "    use_gradient_checkpointing = \"unsloth\"\n",
    "    target_modules = [\"q_proj\", \"k_proj\", \"v_proj\", \"o_proj\",\n",
    "                      \"gate_proj\", \"up_proj\", \"down_proj\",],\n",
    "\n",
    "    dpo_output_dir = \"llama-3.2-3b-dpo-checkpoint\"\n",
    "    orpo_output_dir = \"llama-3.2-3b-orpo-checkpoint\"\n",
    "\n",
    "device = CONFIG.device"
   ]
  },
  {
   "cell_type": "markdown",
   "metadata": {
    "id": "SRuSzJeqJYsJ"
   },
   "source": [
    "### Introductions to unsloth\n",
    "\n",
    "Modern large language models (LLMs) require significant computational resources for fine-tuning and inference. The `unsloth` library is designed to optimize these processes by making training up to 30× faster and reducing memory usage by 60%, enabling more efficient model adaptation on consumer-grade GPUs."
   ]
  },
  {
   "cell_type": "markdown",
   "metadata": {
    "id": "rgSHp25MMnhL"
   },
   "source": [
    "---\n",
    "\n",
    "**Learn More:**\n",
    "\n",
    "<a href=\"https://unsloth.ai/\"><img src=\"https://github.com/unslothai/unsloth/raw/main/images/unsloth%20new%20logo.png\" width=\"115\"></a>\n",
    "<a href=\"https://docs.unsloth.ai/\"><img src=\"https://github.com/unslothai/unsloth/blob/main/images/documentation%20green%20button.png?raw=true\" width=\"125\"></a>"
   ]
  },
  {
   "cell_type": "markdown",
   "metadata": {
    "id": "9Eb4IM4iLbW9"
   },
   "source": [
    "### Install and Setup"
   ]
  },
  {
   "cell_type": "code",
   "execution_count": 8,
   "metadata": {
    "execution": {
     "iopub.execute_input": "2025-04-21T08:15:37.625449Z",
     "iopub.status.busy": "2025-04-21T08:15:37.625281Z",
     "iopub.status.idle": "2025-04-21T08:15:48.409483Z",
     "shell.execute_reply": "2025-04-21T08:15:48.408440Z",
     "shell.execute_reply.started": "2025-04-21T08:15:37.625432Z"
    },
    "id": "j_roQDImZJE5",
    "trusted": true
   },
   "outputs": [],
   "source": [
    "%%capture\n",
    "import os\n",
    "!pip install datasets\n",
    "if \"COLAB_\" not in \"\".join(os.environ.keys()):\n",
    "    !pip install unsloth\n",
    "else:\n",
    "    !pip install --no-deps bitsandbytes accelerate xformers==0.0.29 peft trl triton\n",
    "    !pip install --no-deps cut_cross_entropy unsloth_zoo\n",
    "    !pip install sentencepiece protobuf datasets huggingface_hub hf_transfer\n",
    "    !pip install --no-deps unsloth"
   ]
  },
  {
   "cell_type": "code",
   "execution_count": 9,
   "metadata": {
    "colab": {
     "base_uri": "https://localhost:8080/"
    },
    "execution": {
     "iopub.execute_input": "2025-04-21T08:15:48.410804Z",
     "iopub.status.busy": "2025-04-21T08:15:48.410567Z",
     "iopub.status.idle": "2025-04-21T08:15:48.415745Z",
     "shell.execute_reply": "2025-04-21T08:15:48.414905Z",
     "shell.execute_reply.started": "2025-04-21T08:15:48.410782Z"
    },
    "id": "neZPEJBplk3w",
    "outputId": "bfb1c379-ce6d-4a48-f6d5-05c7c6195a3b",
    "trusted": true
   },
   "outputs": [
    {
     "name": "stdout",
     "output_type": "stream",
     "text": [
      "2025.3.19\n"
     ]
    }
   ],
   "source": [
    "import unsloth\n",
    "print(unsloth.__version__)"
   ]
  },
  {
   "cell_type": "markdown",
   "metadata": {
    "id": "YiWagCG4pjww"
   },
   "source": [
    "# In-context Learning (30 Points)"
   ]
  },
  {
   "cell_type": "markdown",
   "metadata": {
    "id": "6fjyU22wCiOd"
   },
   "source": [
    "### Question 1 (5 points):\n",
    "\n",
    "**a)** What is In-Context Learning (ICL), and how does it differ from fine-tuning? What are its limitations compared to fine-tuning?\n",
    "\n",
    "**b)** Explain what [Chain-of-Thought (CoT)](https://arxiv.org/abs/2201.11903) prompting is and how it works."
   ]
  },
  {
   "cell_type": "markdown",
   "metadata": {
    "id": "laSJdBpgqE-M"
   },
   "source": [
    "a) In-Context Learning (ICL) is a method where large language models learn to perform tasks by seeing examples in the input prompt, without any change to the model’s parameters. It differs from fine-tuning in that fine-tuning involves updating the model's internal weights using a labeled dataset to permanently improve performance on specific tasks. ICL is faster and requires fewer resources because it avoids retraining, but it has limitations: it relies on temporary memory (only during inference), is constrained by the maximum input length (token limit), and is generally less accurate or robust for complex or specialized tasks compared to fine-tuned models. Fine-tuning allows for deeper, lasting adaptation, while ICL is more like “on-the-fly” learning.\n",
    "\n",
    "b) Chain-of-Thought (CoT) prompting is a technique used to improve the reasoning abilities of language models by encouraging them to generate intermediate steps when solving a problem. Instead of asking the model to directly produce an answer, CoT prompting provides examples where problems are solved step-by-step, guiding the model to mimic that reasoning pattern. This approach helps especially in multi-step problems like math, logic, or commonsense reasoning, as it allows the model to “think out loud” before reaching the final answer. CoT is particularly effective in large models and often leads to more accurate and explainable responses."
   ]
  },
  {
   "cell_type": "markdown",
   "metadata": {
    "id": "npgTNJf7lEAq"
   },
   "source": [
    "### Load Model & Tokenizer (2.5 points)\n",
    "\n",
    "- Load `Llama-3.2-3B-Instruct-bnb-4bit` model using `unsloth` for inference."
   ]
  },
  {
   "cell_type": "code",
   "execution_count": 10,
   "metadata": {
    "execution": {
     "iopub.execute_input": "2025-04-21T08:15:48.416921Z",
     "iopub.status.busy": "2025-04-21T08:15:48.416632Z",
     "iopub.status.idle": "2025-04-21T08:15:48.430343Z",
     "shell.execute_reply": "2025-04-21T08:15:48.429803Z",
     "shell.execute_reply.started": "2025-04-21T08:15:48.416902Z"
    },
    "id": "Z2JUGaj4lB3w",
    "trusted": true
   },
   "outputs": [],
   "source": [
    "from unsloth import FastLanguageModel\n",
    "\n",
    "def load_model_and_tokenizer(model_id, max_seq_length):\n",
    "    print(\"Loading model and tokenizer using unsloth...\")\n",
    "    model, tokenizer = FastLanguageModel.from_pretrained(\n",
    "        model_name = model_id,\n",
    "        max_seq_length = max_seq_length,\n",
    "        dtype = None,\n",
    "        load_in_4bit = True,\n",
    "    )\n",
    "    return model, tokenizer"
   ]
  },
  {
   "cell_type": "code",
   "execution_count": 11,
   "metadata": {
    "colab": {
     "base_uri": "https://localhost:8080/",
     "height": 305,
     "referenced_widgets": [
      "b41bcee17e33463391b1ca832e2d3c71",
      "0612843e4d304b9f9bc0c89cea6fbc3c",
      "cf2e2fe63ff0499480f478a2bcaf2a94",
      "caa7f5ccd720495b9af77eeca0294219",
      "0846cd64feb44b1fa5fc33b188c0755d",
      "0d9070489e8b44889e0c4f409b1340be",
      "651da32bfe134cf9845fa318cf04e716",
      "a5a3c0b389864cc6bbcaccc3f519dbc5",
      "a78233d89a92478c91818dff2f67138a",
      "00964d737c354efcbce326eccda219a1",
      "dc6f62009a984f2abaa675b511bb4f8c",
      "b07cb45dfdb64b25bc083a5c7727f18a",
      "b835edc321f34219b3a37bc07f6c7471",
      "79b9037619a94baea5487d7b66d472f3",
      "13a7a2364e53499db9f29eec0544a5a2",
      "950173ed4ad5430b93f8ae5fcc52967c",
      "6b9ec0dac1a74172b4f949d93de287ed",
      "28476c2c0e0f4a83bed551117bc1d1dc",
      "5ad66c7663e44fd480395abea91cdb93",
      "082f5017a8c64bd8b1c11d4f0f405f59",
      "86849434a00f46db99407be1938ebfd6",
      "84b172e4aa5a488a8461c1decf53ab51",
      "0c7ac508219b4c388a1ef84bd6cb1897",
      "fab46e310cef44ebaa2b18be6e24c7ba",
      "c2bff709a9864f65bd95ffe01c6c533e",
      "30cf2b626c45486f82e4b2f5232ef1d6",
      "acaad390c905486f886cc4354f2c9a1b",
      "5c75c6f589584190aceb8b090fa526f1",
      "51f19e2792454b86a98b72718619eea0",
      "37ff068ff04b4b9f83f1221752d1047d",
      "9142be3b09d14e108552b0dbf66d6bf4",
      "d4bff4a5291248f78a8fb868392f210d",
      "ee7a1a54b43b491bba5989eba9e77acc",
      "47f4a57313264b498d441ecdaf203700",
      "d54473e003ea4b7ea0a6578f6311b6d7",
      "dce7fec9cba44b12832635c70fd538af",
      "d1e47ee29b29457fac8bdafc1e9740c2",
      "14e8dd8e402144b3b8755584ec4cf538",
      "aff39f283df241c8abb65ff7b789a107",
      "68d62e278599468488378f0d27e8c328",
      "ef6a513b7ea94315ae01dac1229f2d67",
      "83a4fb5c98c74ed2be7567f0036b7371",
      "6b6833ce1b494e679ff2b3d83762896b",
      "d1dc6e96edc14fcdb6ec0c864bcc6107",
      "081d5eb2928b45c48a0abdecaf1e02d3",
      "0b73481fc22a43a2b43d65e89d5989db",
      "ef19d63d75004ad9b7e3837355cd3d18",
      "5ea755ac7bec4fdfbb39f654bdb73f8c",
      "5d96ae9f72734778a9aef19c8f030cec",
      "155dcf5e2d9543fabc3504414d7027c5",
      "a2ccbc7f37ee455887f5c3a5dd628897",
      "3580e5df1022450a9d361490b64e1010",
      "4cb8358e945b43499833d5927851e725",
      "baf6584f6dbc44e8a2590c1b137c0014",
      "c965c166ca8542e4a7875710bfc2e198"
     ]
    },
    "execution": {
     "iopub.execute_input": "2025-04-21T08:15:48.431347Z",
     "iopub.status.busy": "2025-04-21T08:15:48.431093Z",
     "iopub.status.idle": "2025-04-21T08:16:01.280513Z",
     "shell.execute_reply": "2025-04-21T08:16:01.279723Z",
     "shell.execute_reply.started": "2025-04-21T08:15:48.431324Z"
    },
    "id": "8bDLhdusm0m3",
    "outputId": "66e82caf-5d9d-426c-f829-d7394fb976ee",
    "trusted": true
   },
   "outputs": [
    {
     "name": "stdout",
     "output_type": "stream",
     "text": [
      "Loading model and tokenizer using unsloth...\n",
      "==((====))==  Unsloth 2025.3.19: Fast Llama patching. Transformers: 4.51.1.\n",
      "   \\\\   /|    Tesla T4. Num GPUs = 2. Max memory: 14.741 GB. Platform: Linux.\n",
      "O^O/ \\_/ \\    Torch: 2.5.1+cu124. CUDA: 7.5. CUDA Toolkit: 12.4. Triton: 3.1.0\n",
      "\\        /    Bfloat16 = FALSE. FA [Xformers = 0.0.29. FA2 = False]\n",
      " \"-____-\"     Free license: http://github.com/unslothai/unsloth\n",
      "Unsloth: Fast downloading is enabled - ignore downloading bars which are red colored!\n"
     ]
    },
    {
     "data": {
      "application/vnd.jupyter.widget-view+json": {
       "model_id": "ff8e1793efa84867ac01dfe79d14ea45",
       "version_major": 2,
       "version_minor": 0
      },
      "text/plain": [
       "model.safetensors:   0%|          | 0.00/2.24G [00:00<?, ?B/s]"
      ]
     },
     "metadata": {},
     "output_type": "display_data"
    },
    {
     "data": {
      "application/vnd.jupyter.widget-view+json": {
       "model_id": "747ff9e4eb9840979716620581e0027c",
       "version_major": 2,
       "version_minor": 0
      },
      "text/plain": [
       "generation_config.json:   0%|          | 0.00/234 [00:00<?, ?B/s]"
      ]
     },
     "metadata": {},
     "output_type": "display_data"
    },
    {
     "data": {
      "application/vnd.jupyter.widget-view+json": {
       "model_id": "73708cc3b3ce47f5aa23e32be1a59ef9",
       "version_major": 2,
       "version_minor": 0
      },
      "text/plain": [
       "tokenizer_config.json:   0%|          | 0.00/54.7k [00:00<?, ?B/s]"
      ]
     },
     "metadata": {},
     "output_type": "display_data"
    },
    {
     "data": {
      "application/vnd.jupyter.widget-view+json": {
       "model_id": "391794735eb646ea9fed9836ce43563e",
       "version_major": 2,
       "version_minor": 0
      },
      "text/plain": [
       "tokenizer.json:   0%|          | 0.00/17.2M [00:00<?, ?B/s]"
      ]
     },
     "metadata": {},
     "output_type": "display_data"
    },
    {
     "data": {
      "application/vnd.jupyter.widget-view+json": {
       "model_id": "02650abd937b43df9fde8cb5a492e80c",
       "version_major": 2,
       "version_minor": 0
      },
      "text/plain": [
       "special_tokens_map.json:   0%|          | 0.00/454 [00:00<?, ?B/s]"
      ]
     },
     "metadata": {},
     "output_type": "display_data"
    }
   ],
   "source": [
    "model, tokenizer = load_model_and_tokenizer(CONFIG.model_name, CONFIG.max_seq_length)"
   ]
  },
  {
   "cell_type": "markdown",
   "metadata": {
    "id": "h_1wFWx7rWUo"
   },
   "source": [
    "### Load benchmark (2.5 points)"
   ]
  },
  {
   "cell_type": "markdown",
   "metadata": {
    "id": "ftAg-qauF8HW"
   },
   "source": [
    "1. Load the `GSM8K` benchmark dataset.\n",
    "2. Randomly select a subset of `50` samples from the dataset.\n",
    "3. Display one sample from the selected subset.\n",
    "<a id=\"gsm8k_benchmark\"></a>"
   ]
  },
  {
   "cell_type": "code",
   "execution_count": 12,
   "metadata": {
    "execution": {
     "iopub.execute_input": "2025-04-21T08:16:01.285061Z",
     "iopub.status.busy": "2025-04-21T08:16:01.284743Z",
     "iopub.status.idle": "2025-04-21T08:16:01.289241Z",
     "shell.execute_reply": "2025-04-21T08:16:01.288419Z",
     "shell.execute_reply.started": "2025-04-21T08:16:01.285038Z"
    },
    "id": "Jfzk-b4Dm8Hi",
    "trusted": true
   },
   "outputs": [],
   "source": [
    "import random\n",
    "\n",
    "def load_gsm8k_dataset():\n",
    "    \"\"\"Load the GSM8K dataset from HuggingFace.\"\"\"\n",
    "    dataset = load_dataset(\"gsm8k\", \"main\")\n",
    "    return dataset\n",
    "\n",
    "def create_sample_dataset(dataset, num_samples, seed):\n",
    "    \"\"\"Create a fixed sample dataset for evaluation.\"\"\"\n",
    "    sample_test = dataset[\"train\"].shuffle(seed=seed).select(range(num_samples))\n",
    "    return sample_test"
   ]
  },
  {
   "cell_type": "code",
   "execution_count": 13,
   "metadata": {
    "colab": {
     "base_uri": "https://localhost:8080/",
     "height": 205,
     "referenced_widgets": [
      "b76f3a70b19d46109c78d492b0327cfa",
      "0705e7f45edc4501880498aad2c7f06c",
      "db6ec8ae31254d9cb8c6de73f209f93b",
      "8d63425a627b4d798185acb59d5f361f",
      "e3c8450ede574352a9b6eff81008b280",
      "077fdf19f9f54afab15e87d4bd18edf7",
      "984446109cc1470780c356b9988aa60c",
      "de7fe2271fcb4b9eb5286fd3c14689ca",
      "089a77048d41437594967c8c1759f568",
      "c7daaf5ee66a4688a1595efd926d31ce",
      "cee881f0e3d14a64b71542b0b57bb97c",
      "bd23f42005964f8488cb904eb5027c36",
      "4e54a84fc1144102a95d6b2a6ab42a77",
      "d85221592c58470ea305eb4e996bb002",
      "70089eca200841768ea64ec33c1b5d94",
      "9a4c61e162d9499790d41b6cc92b5b81",
      "95e1020181b8494dbd65600333a1dc54",
      "eb6b46c8d4b3431899ed8e754c3d07a5",
      "12b0fa8d9fbb4670bb7796099ba26250",
      "5a85574ae25a4dc9910136b29903d256",
      "03ddc69226b349bebf7bb3ebe78ca01f",
      "c18abc503cd64f11b263f0922e562009",
      "2938f6c3dd9b464790f1a9b2ab3e5672",
      "0e0ffda9894e4773abdf538bfa8d4811",
      "82b121f88ade49d5b64ccf179f79aa4b",
      "005a6d7ec5344a9f926f7157f5d75a06",
      "37dcc6fdad6d4a5e8c94ed575a939ba6",
      "361d6d40aafa41a0b8591232086e54e4",
      "23ad4a26db6145d69eb1671e99670b90",
      "bc38191cb5a84c9d825b133f78b40ca9",
      "442086c893e94eaba3c4e117dc1fcddf",
      "5ce9970ee69c4d3dbf3881d863c8a354",
      "cf70775646da4d8fa11a3ddb990788c6",
      "f9d50d7662b74bc88bc6509519cb63cf",
      "aebcce44c41646ee9471fd356ed84d64",
      "518473d60fd44ab3a176ea49f1f6e291",
      "a2bb5d172d1549cf8e9689d13b65d6ff",
      "f1894a7066e94bec9fe84da332321f04",
      "587802ca722f46d28d9dbdb0c6284806",
      "cf0b9cdce9ec48aba3af2f4719e1d232",
      "fab1b1e49b454642aaf08506676a0182",
      "917ae4c008084d5eb48016a1fc58bd2b",
      "7d835c098d374be69351e85d399187b6",
      "a2e7b6cc5bc6417dad120958272d15d7",
      "d91cc0de25904ec79605d5f37db37c0f",
      "acdd429a1e5e4ac7955b4fb0c82768c3",
      "898a561ff98240ae90e8ee8a671fd031",
      "a0de0976617647caaeaf03d01cd4f275",
      "a7343f69d34c4017863976dd0d042d81",
      "1e67985ae7e249db813d35f9da7d4ae8",
      "18cdd1db75664e9cac95ae3b090de00a",
      "8a316d6a3f604cc7a8df85ebb9429589",
      "8f0dc8bf7cc74e84a73381f94cc04227",
      "6ea2f52e36b84bde93bda43afac77ccd",
      "a1a747d019cf481d9acc0fcb650dedb8"
     ]
    },
    "execution": {
     "iopub.execute_input": "2025-04-21T08:16:01.290231Z",
     "iopub.status.busy": "2025-04-21T08:16:01.290009Z",
     "iopub.status.idle": "2025-04-21T08:16:03.621683Z",
     "shell.execute_reply": "2025-04-21T08:16:03.621034Z",
     "shell.execute_reply.started": "2025-04-21T08:16:01.290214Z"
    },
    "id": "kL3-SUvTkpom",
    "outputId": "c7aa982f-ca25-4a26-8078-18eb65a9fccd",
    "trusted": true
   },
   "outputs": [
    {
     "data": {
      "application/vnd.jupyter.widget-view+json": {
       "model_id": "3854d29ca8e244acb99e1d1f72572393",
       "version_major": 2,
       "version_minor": 0
      },
      "text/plain": [
       "README.md:   0%|          | 0.00/7.94k [00:00<?, ?B/s]"
      ]
     },
     "metadata": {},
     "output_type": "display_data"
    },
    {
     "data": {
      "application/vnd.jupyter.widget-view+json": {
       "model_id": "85c2032877fe4fe4aa0ae67edb07f260",
       "version_major": 2,
       "version_minor": 0
      },
      "text/plain": [
       "train-00000-of-00001.parquet:   0%|          | 0.00/2.31M [00:00<?, ?B/s]"
      ]
     },
     "metadata": {},
     "output_type": "display_data"
    },
    {
     "data": {
      "application/vnd.jupyter.widget-view+json": {
       "model_id": "904ae2bc439a474d91f54afe3b5c9bfb",
       "version_major": 2,
       "version_minor": 0
      },
      "text/plain": [
       "test-00000-of-00001.parquet:   0%|          | 0.00/419k [00:00<?, ?B/s]"
      ]
     },
     "metadata": {},
     "output_type": "display_data"
    },
    {
     "data": {
      "application/vnd.jupyter.widget-view+json": {
       "model_id": "89a8856328eb48cebab282dc1abc8a70",
       "version_major": 2,
       "version_minor": 0
      },
      "text/plain": [
       "Generating train split:   0%|          | 0/7473 [00:00<?, ? examples/s]"
      ]
     },
     "metadata": {},
     "output_type": "display_data"
    },
    {
     "data": {
      "application/vnd.jupyter.widget-view+json": {
       "model_id": "6a6db2757f3f40eda5849fc833177e99",
       "version_major": 2,
       "version_minor": 0
      },
      "text/plain": [
       "Generating test split:   0%|          | 0/1319 [00:00<?, ? examples/s]"
      ]
     },
     "metadata": {},
     "output_type": "display_data"
    }
   ],
   "source": [
    "# Set seed for reproducibility\n",
    "torch.manual_seed(42)\n",
    "np.random.seed(42)\n",
    "\n",
    "# Load dataset\n",
    "dataset = load_gsm8k_dataset()\n",
    "\n",
    "# Select subset\n",
    "sample_dataset = create_sample_dataset(dataset, num_samples=CONFIG.benchmark_subset_size, seed=CONFIG.seed)\n"
   ]
  },
  {
   "cell_type": "code",
   "execution_count": 14,
   "metadata": {
    "colab": {
     "base_uri": "https://localhost:8080/"
    },
    "execution": {
     "iopub.execute_input": "2025-04-21T08:16:03.622505Z",
     "iopub.status.busy": "2025-04-21T08:16:03.622277Z",
     "iopub.status.idle": "2025-04-21T08:16:03.629366Z",
     "shell.execute_reply": "2025-04-21T08:16:03.628593Z",
     "shell.execute_reply.started": "2025-04-21T08:16:03.622483Z"
    },
    "id": "rqWEEPYgRpip",
    "outputId": "71608a5d-fd58-47bf-9f50-43006eace832",
    "trusted": true
   },
   "outputs": [
    {
     "name": "stdout",
     "output_type": "stream",
     "text": [
      "{'question': 'Mimi picked up 2 dozen seashells on the beach.  Kyle found twice as many shells as Mimi and put them in his pocket. Leigh grabbed one-third of the shells that Kyle found.  How many seashells did Leigh have?', 'answer': 'Mimi has 2 x 12 = <<2*12=24>>24 sea shells.\\nKyle has 24 x 2 = <<24*2=48>>48 sea shells.\\nLeigh has 48 / 3 = <<48/3=16>>16 sea shells.\\n#### 16'}\n"
     ]
    }
   ],
   "source": [
    "# Display one sample\n",
    "print(sample_dataset[0])"
   ]
  },
  {
   "cell_type": "markdown",
   "metadata": {
    "id": "Ry2nMjXwsox_"
   },
   "source": [
    "### Prompt Engineering (10 points)\n",
    "\n",
    "Implement different prompting strategies for in-context learning.\n",
    "At least four of the following methods should be implemented (including baseline):\n",
    "- Zero-shot (**Baseline**)\n",
    "- Role-play prompting [[paper](https://aclanthology.org/2024.naacl-long.228/)]\n",
    "- Zero-shot CoT [[paper](https://arxiv.org/abs/2205.11916)]\n",
    "- Few-shot CoT\n",
    "- Least-to-Most prompting [[paper](https://arxiv.org/abs/2205.10625)]\n",
    "- Generated Knowledge prompting [[paper](https://aclanthology.org/2022.acl-long.225/)]\n",
    "- Any other idea to improve performance (**Optional**)\n",
    "\n",
    "Additionally, if performance exceeds 80%, **two extra points** are awarded for every 5% improvement. You can try other methods or a combination of existing ones.\n",
    "\n",
    "<a id=\"prompt-engineering\"></a>"
   ]
  },
  {
   "cell_type": "code",
   "execution_count": 30,
   "metadata": {
    "execution": {
     "iopub.execute_input": "2025-04-21T09:20:50.325237Z",
     "iopub.status.busy": "2025-04-21T09:20:50.324625Z",
     "iopub.status.idle": "2025-04-21T09:20:50.333655Z",
     "shell.execute_reply": "2025-04-21T09:20:50.333108Z",
     "shell.execute_reply.started": "2025-04-21T09:20:50.325212Z"
    },
    "id": "6RgBpE5vreCN",
    "trusted": true
   },
   "outputs": [],
   "source": [
    "def create_prompts(question, examples=None):\n",
    "    \"\"\"\n",
    "    Build multiple chat-style prompts aligned with medium-to-advanced multi-step word problems.\n",
    "    Answer format is simplified as: [ANSWER]: <final number>\n",
    "    \"\"\"\n",
    "    prompts = {}\n",
    "    final_format_instruction = \"Return only the final numeric answer using this format:\\n[ANSWER]: <your final answer>\"\n",
    "\n",
    "    DEFAULT_FEW_SHOT_EXAMPLES = [\n",
    "        {\n",
    "            \"question\": \"Natalia sold clips to 48 of her friends in April, and then she sold half as many clips in May. How many clips did Natalia sell altogether in April and May?\",\n",
    "            \"answer\": \"Natalia sold 48 clips in April. In May, she sold half as many clips as in April, so she sold 48 / 2 = 24 clips. Altogether, Natalia sold 48 + 24 = 72 clips.\\n[ANSWER]: 72\"\n",
    "        },\n",
    "        {\n",
    "            \"question\": \"Weng earns $12 an hour for babysitting. Yesterday, she just did 50 minutes of babysitting. How much did she earn?\",\n",
    "            \"answer\": \"Weng earns $12 an hour, which is $12 / 60 minutes = $0.20 per minute. Since she babysat for 50 minutes, she earned 50 * $0.20 = $10.\\n[ANSWER]: 10\"\n",
    "        },\n",
    "        {\n",
    "            \"question\": \"Betty is saving money for a new wallet which costs $100. Betty has only half of the money she needs. Her parents decided to give her $15 for that purpose, and her grandparents twice as much as her parents. How much more money does Betty need to buy the wallet?\",\n",
    "            \"answer\": \"The wallet costs $100. Betty has half the money, so she has $100 / 2 = $50. Her parents give her $15. Her grandparents give her twice as much as her parents, so they give her 2 * $15 = $30. In total, Betty has $50 + $15 + $30 = $95. She needs $100 to buy the wallet, so she needs $100 - $95 = $5 more.\\n[ANSWER]: 5\"\n",
    "        }\n",
    "    ]\n",
    "\n",
    "    if examples is None:\n",
    "        examples = DEFAULT_FEW_SHOT_EXAMPLES\n",
    "\n",
    "    # Baseline\n",
    "    prompts[\"Baseline\"] = [\n",
    "        {\"role\": \"system\", \"content\": \"You are a math assistant that only provides final numeric answers.\"},\n",
    "        {\"role\": \"user\", \"content\": (\n",
    "            f\"Problem: {question}\\n\\n\"\n",
    "            f\"Please output only the final numeric result in the following format:\\n[ANSWER]: <your final answer>\"\n",
    "        )}\n",
    "    ]\n",
    "\n",
    "    # Role-Prompting\n",
    "    prompts[\"Role-Prompting\"] = [\n",
    "        {\"role\": \"system\", \"content\": \"You are a brilliant mathematician who solves problems step-by-step with clear logic.\"},\n",
    "        {\"role\": \"user\", \"content\": (\n",
    "            f\"Problem: {question}\\n\"\n",
    "            \"Think through the steps carefully. Then return only the final numeric answer.\\n\"\n",
    "            f\"{final_format_instruction}\"\n",
    "        )}\n",
    "    ]\n",
    "\n",
    "    # Zero-shot CoT\n",
    "    prompts[\"Zero-shot CoT\"] = [\n",
    "        {\"role\": \"system\", \"content\": \"You are a math tutor who solves problems step-by-step.\"},\n",
    "        {\"role\": \"user\", \"content\": (\n",
    "            f\"Problem: {question}\\nLet's think step-by-step.\\n\\n{final_format_instruction}\"\n",
    "        )}\n",
    "    ]\n",
    "\n",
    "    # Few-shot CoT\n",
    "    few_shot_cot_prompt = [{\"role\": \"system\", \"content\": \"You are a helpful math tutor. Think step-by-step and return only the final number in the format: [ANSWER]: <your final answer>\"}]\n",
    "\n",
    "    for ex in examples:\n",
    "        few_shot_cot_prompt.append({\"role\": \"user\", \"content\": f\"Problem: {ex['question']}\\nLet's think step-by-step.\"})\n",
    "        few_shot_cot_prompt.append({\"role\": \"assistant\", \"content\": ex['answer']})\n",
    "\n",
    "    few_shot_cot_prompt.append({\"role\": \"user\", \"content\": f\"Problem: {question}\\nLet's think step-by-step.\\n{final_format_instruction}\"})\n",
    "    prompts[\"Few-shot CoT\"] = few_shot_cot_prompt\n",
    "\n",
    "    # Least-to-Most\n",
    "    prompts[\"Least-to-Most\"] = [\n",
    "        {\"role\": \"system\", \"content\": \"You solve complex problems by breaking them into smaller parts and combining results.\"},\n",
    "        {\"role\": \"user\", \"content\": (\n",
    "            f\"Q: {question}\\nThis problem seems tricky.\\n\"\n",
    "            \"Step 1: Understand the goal.\\n\"\n",
    "            \"Step 2: Solve each part.\\n\"\n",
    "            \"Step 3: Combine all to get the final answer.\\n\\n\"\n",
    "            f\"{final_format_instruction}\"\n",
    "        )}\n",
    "    ]\n",
    "\n",
    "    # Generated Knowledge\n",
    "    prompts[\"Generated Knowledge\"] = [\n",
    "        {\"role\": \"system\", \"content\": \"You are a math solver who uses known formulas and concepts to solve real-world problems.\"},\n",
    "        {\"role\": \"user\", \"content\": (\n",
    "            f\"Q: {question}\\nUseful concepts: percent = part/whole * 100, average = total / count, profit = revenue - cost.\\n\"\n",
    "            \"Apply the needed concepts and solve step-by-step.\\n\\n\"\n",
    "            f\"{final_format_instruction}\"\n",
    "        )}\n",
    "    ]\n",
    "\n",
    "    return prompts"
   ]
  },
  {
   "cell_type": "markdown",
   "metadata": {
    "id": "kbYUEqf_svlx"
   },
   "source": [
    "### Evaluate Prompting Strategies (10 points)\n",
    "\n",
    "1. Implement an evaluation function to assess different prompts.\n",
    "2. Compare the accuracy of various prompting methods.\n",
    "3. Visualize results and show some sample responses."
   ]
  },
  {
   "cell_type": "code",
   "execution_count": 31,
   "metadata": {
    "execution": {
     "iopub.execute_input": "2025-04-21T09:20:54.258881Z",
     "iopub.status.busy": "2025-04-21T09:20:54.258618Z",
     "iopub.status.idle": "2025-04-21T09:20:54.263612Z",
     "shell.execute_reply": "2025-04-21T09:20:54.262674Z",
     "shell.execute_reply.started": "2025-04-21T09:20:54.258862Z"
    },
    "id": "arWJGLhnZRCk",
    "trusted": true
   },
   "outputs": [],
   "source": [
    "import re\n",
    "\n",
    "def extract_answer(text):\n",
    "    \"\"\"\n",
    "    Extract the final numerical answer from the model output.\n",
    "    1. Prefer numbers in the format \\boxed{...}, including negative and decimal numbers.\n",
    "    2. If not found, fallback to the last standalone number (int or float) in the text.\n",
    "    \"\"\"\n",
    "    match = re.search(r\"\\\\boxed\\{([-+]?\\d*\\.?\\d+)\\}\", text)\n",
    "    if match:\n",
    "        return float(match.group(1))\n",
    "\n",
    "    numbers = re.findall(r\"[-+]?\\d*\\.?\\d+\", text)\n",
    "    if numbers:\n",
    "        return float(numbers[-1])\n",
    "\n",
    "    return None\n"
   ]
  },
  {
   "cell_type": "code",
   "execution_count": 32,
   "metadata": {
    "execution": {
     "iopub.execute_input": "2025-04-21T09:20:54.547315Z",
     "iopub.status.busy": "2025-04-21T09:20:54.546814Z",
     "iopub.status.idle": "2025-04-21T09:20:54.556543Z",
     "shell.execute_reply": "2025-04-21T09:20:54.555920Z",
     "shell.execute_reply.started": "2025-04-21T09:20:54.547292Z"
    },
    "id": "1x6PthPerlWN",
    "trusted": true
   },
   "outputs": [],
   "source": [
    "from unsloth.chat_templates import get_chat_template\n",
    "from tqdm import tqdm\n",
    "import torch\n",
    "\n",
    "def evaluate_prompts(model, tokenizer, sample_dataset, seed=42, temperature=0.1, top_p=0.9):\n",
    "    \"\"\"\n",
    "    Evaluates different chat-style prompt types using a compatible chat-template structure.\n",
    "    \"\"\"\n",
    "\n",
    "    # استفاده از تابع درست\n",
    "    prompt_types = list(create_prompts(\"dummy\").keys())\n",
    "    model_ans = {k: [] for k in prompt_types}\n",
    "    all_samples = []\n",
    "\n",
    "    # استخراج پاسخ واقعی\n",
    "    true_ans = [extract_answer(sample[\"answer\"]) for sample in sample_dataset]\n",
    "\n",
    "    # آماده‌سازی قالب چت و مدل\n",
    "    tokenizer = get_chat_template(tokenizer, chat_template=\"llama-3.2\")\n",
    "    model = FastLanguageModel.for_inference(model)\n",
    "\n",
    "    for i, sample in enumerate(tqdm(sample_dataset)):\n",
    "        question = sample[\"question\"]\n",
    "        correct_answer = true_ans[i]\n",
    "        prompts = create_prompts(question)  # <- استفاده از تابع درست\n",
    "\n",
    "        for prompt_type, messages in prompts.items():\n",
    "            # messages همین حالا لیستی از role-content هست\n",
    "\n",
    "            # قالب‌سازی با tokenizer و تبدیل به رشته قابل پردازش\n",
    "            prompt = tokenizer.apply_chat_template(messages, tokenize=False, add_generation_prompt=True)\n",
    "\n",
    "            # توکن‌سازی و inference\n",
    "            inputs = tokenizer(prompt, return_tensors=\"pt\").to(model.device)\n",
    "            outputs = model.generate(**inputs, max_new_tokens=200, temperature=temperature, top_p=top_p)\n",
    "            decoded = tokenizer.decode(outputs[0], skip_special_tokens=True)\n",
    "\n",
    "            predicted_answer = extract_answer(decoded)\n",
    "\n",
    "            model_ans[prompt_type].append(predicted_answer)\n",
    "            all_samples.append({\n",
    "                \"question\": question,\n",
    "                \"prompt_type\": prompt_type,\n",
    "                \"prompt_text\": prompt,\n",
    "                \"true_answer\": correct_answer,\n",
    "                \"predicted_answer\": predicted_answer,\n",
    "                \"is_correct\": (\n",
    "                    predicted_answer is not None and\n",
    "                    correct_answer is not None and\n",
    "                    int(float(predicted_answer)) == int(float(correct_answer))\n",
    "                ),\n",
    "                \"decoded_output\": decoded\n",
    "            })\n",
    "\n",
    "    # محاسبه دقت برای هر پرامپت\n",
    "    correct = {k: 0 for k in prompt_types}\n",
    "    accuracy = {k: 0 for k in prompt_types}\n",
    "    for prompt_type in prompt_types:\n",
    "        for pred, true in zip(model_ans[prompt_type], true_ans):\n",
    "            if pred is not None and true is not None:\n",
    "                if int(float(pred)) == int(float(true)):\n",
    "                    correct[prompt_type] += 1\n",
    "        accuracy[prompt_type] = correct[prompt_type] / len(true_ans)\n",
    "\n",
    "    return accuracy, all_samples\n"
   ]
  },
  {
   "cell_type": "code",
   "execution_count": 22,
   "metadata": {
    "execution": {
     "iopub.execute_input": "2025-04-21T08:50:06.640530Z",
     "iopub.status.busy": "2025-04-21T08:50:06.639784Z",
     "iopub.status.idle": "2025-04-21T08:50:06.645541Z",
     "shell.execute_reply": "2025-04-21T08:50:06.644686Z",
     "shell.execute_reply.started": "2025-04-21T08:50:06.640505Z"
    },
    "id": "pWmZq7zLeia_",
    "trusted": true
   },
   "outputs": [],
   "source": [
    "import json\n",
    "import pandas as pd\n",
    "\n",
    "def save_results(accuracy, all_samples, base_path=\"/content/drive/MyDrive/Colab Notebooks/CA2/\"):\n",
    "    \"\"\"Save accuracy (as JSON) and all_samples (as CSV and JSON) to Google Drive.\"\"\"\n",
    "\n",
    "    # ذخیره accuracy به JSON\n",
    "    acc_path = base_path + \"accuracy.json\"\n",
    "    with open(acc_path, \"w\", encoding=\"utf-8\") as f:\n",
    "        json.dump(accuracy, f, indent=2)\n",
    "\n",
    "    # ذخیره all_samples به CSV\n",
    "    samples_df = pd.DataFrame(all_samples)\n",
    "    samples_df.to_csv(base_path + \"all_samples.csv\", index=False)\n",
    "\n",
    "    # ذخیره all_samples به JSON (اختیاری)\n",
    "    with open(base_path + \"all_samples.json\", \"w\", encoding=\"utf-8\") as f:\n",
    "        json.dump(all_samples, f, indent=2)\n",
    "\n",
    "    print(f\"✔️ Results saved to:\\n- {acc_path}\\n- all_samples.csv\\n- all_samples.json\")\n"
   ]
  },
  {
   "cell_type": "code",
   "execution_count": null,
   "metadata": {
    "id": "FF-MfZ3Ie9VI"
   },
   "outputs": [],
   "source": [
    "# def load_results(base_path=\"/content/drive/MyDrive/Colab Notebooks/CA2/\"):\n",
    "#     \"\"\"Load accuracy and all_samples from previously saved files.\"\"\"\n",
    "#     # بارگذاری accuracy از JSON\n",
    "#     with open(base_path + \"accuracy.json\", \"r\", encoding=\"utf-8\") as f:\n",
    "#         accuracy = json.load(f)\n",
    "\n",
    "#     # بارگذاری all_samples از CSV\n",
    "#     df = pd.read_csv(base_path + \"all_samples.csv\")\n",
    "#     all_samples = df.to_dict(orient=\"records\")\n",
    "\n",
    "#     print(\"✔️ Results loaded successfully.\")\n",
    "#     return accuracy, all_samples"
   ]
  },
  {
   "cell_type": "code",
   "execution_count": 33,
   "metadata": {
    "colab": {
     "base_uri": "https://localhost:8080/"
    },
    "execution": {
     "iopub.execute_input": "2025-04-21T09:21:07.178874Z",
     "iopub.status.busy": "2025-04-21T09:21:07.178578Z",
     "iopub.status.idle": "2025-04-21T09:45:16.480766Z",
     "shell.execute_reply": "2025-04-21T09:45:16.480146Z",
     "shell.execute_reply.started": "2025-04-21T09:21:07.178852Z"
    },
    "id": "dP9_kZlNtBKr",
    "outputId": "f63e7b92-3cc4-4cdd-a851-ef7f0acbe7b2",
    "trusted": true
   },
   "outputs": [
    {
     "name": "stdout",
     "output_type": "stream",
     "text": [
      "Accuracy by prompting method:\n"
     ]
    },
    {
     "name": "stderr",
     "output_type": "stream",
     "text": [
      "100%|██████████| 50/50 [24:09<00:00, 28.99s/it]"
     ]
    },
    {
     "name": "stdout",
     "output_type": "stream",
     "text": [
      "Baseline: 12.00%\n",
      "Role-Prompting: 82.00%\n",
      "Zero-shot CoT: 60.00%\n",
      "Few-shot CoT: 82.00%\n",
      "Least-to-Most: 62.00%\n",
      "Generated Knowledge: 70.00%\n"
     ]
    },
    {
     "name": "stderr",
     "output_type": "stream",
     "text": [
      "\n"
     ]
    }
   ],
   "source": [
    "print(\"Accuracy by prompting method:\")\n",
    "accuracy, all_samples = evaluate_prompts(model, tokenizer, sample_dataset)\n",
    "\n",
    "for prompt_type, acc in accuracy.items():\n",
    "    print(f\"{prompt_type}: {acc:.2%}\")"
   ]
  },
  {
   "cell_type": "code",
   "execution_count": 24,
   "metadata": {
    "execution": {
     "iopub.execute_input": "2025-04-21T08:51:38.577014Z",
     "iopub.status.busy": "2025-04-21T08:51:38.576398Z",
     "iopub.status.idle": "2025-04-21T08:51:38.629529Z",
     "shell.execute_reply": "2025-04-21T08:51:38.628926Z",
     "shell.execute_reply.started": "2025-04-21T08:51:38.576989Z"
    },
    "id": "8GGxcyczPb_r",
    "trusted": true
   },
   "outputs": [
    {
     "name": "stdout",
     "output_type": "stream",
     "text": [
      "✔️ Results saved to:\n",
      "- ./outputs/accuracy.json\n",
      "- all_samples.csv\n",
      "- all_samples.json\n"
     ]
    }
   ],
   "source": [
    "import os\n",
    "import json\n",
    "import pandas as pd\n",
    "\n",
    "def save_results(accuracy, all_samples, base_path=\"./outputs/\"):\n",
    "    \"\"\"\n",
    "    Save accuracy (as JSON) and all_samples (as CSV and JSON) to a local folder (Kaggle-compatible).\n",
    "    \"\"\"\n",
    "    # ساخت مسیر اگر وجود نداشت\n",
    "    os.makedirs(base_path, exist_ok=True)\n",
    "\n",
    "    # ذخیره accuracy به JSON\n",
    "    acc_path = os.path.join(base_path, \"accuracy.json\")\n",
    "    with open(acc_path, \"w\", encoding=\"utf-8\") as f:\n",
    "        json.dump(accuracy, f, indent=2)\n",
    "\n",
    "    # ذخیره all_samples به CSV\n",
    "    samples_df = pd.DataFrame(all_samples)\n",
    "    samples_df.to_csv(os.path.join(base_path, \"all_samples.csv\"), index=False)\n",
    "\n",
    "    # ذخیره all_samples به JSON\n",
    "    with open(os.path.join(base_path, \"all_samples.json\"), \"w\", encoding=\"utf-8\") as f:\n",
    "        json.dump(all_samples, f, indent=2)\n",
    "\n",
    "    print(f\"✔️ Results saved to:\\n- {acc_path}\\n- all_samples.csv\\n- all_samples.json\")\n",
    "\n",
    "# حالا می‌تونی راحت صدا بزنی:\n",
    "save_results(accuracy, all_samples)\n"
   ]
  },
  {
   "cell_type": "code",
   "execution_count": 23,
   "metadata": {
    "execution": {
     "iopub.execute_input": "2025-04-21T08:50:13.934379Z",
     "iopub.status.busy": "2025-04-21T08:50:13.933636Z",
     "iopub.status.idle": "2025-04-21T08:50:13.972339Z",
     "shell.execute_reply": "2025-04-21T08:50:13.971410Z",
     "shell.execute_reply.started": "2025-04-21T08:50:13.934353Z"
    },
    "id": "glDFZrlurbIB",
    "trusted": true
   },
   "outputs": [
    {
     "ename": "FileNotFoundError",
     "evalue": "[Errno 2] No such file or directory: '/content/drive/MyDrive/Colab Notebooks/CA2/accuracy.json'",
     "output_type": "error",
     "traceback": [
      "\u001b[0;31m---------------------------------------------------------------------------\u001b[0m",
      "\u001b[0;31mFileNotFoundError\u001b[0m                         Traceback (most recent call last)",
      "\u001b[0;32m/tmp/ipykernel_31/3988723408.py\u001b[0m in \u001b[0;36m<cell line: 0>\u001b[0;34m()\u001b[0m\n\u001b[0;32m----> 1\u001b[0;31m \u001b[0msave_results\u001b[0m\u001b[0;34m(\u001b[0m\u001b[0maccuracy\u001b[0m\u001b[0;34m,\u001b[0m \u001b[0mall_samples\u001b[0m\u001b[0;34m)\u001b[0m\u001b[0;34m\u001b[0m\u001b[0;34m\u001b[0m\u001b[0m\n\u001b[0m",
      "\u001b[0;32m/tmp/ipykernel_31/3520316333.py\u001b[0m in \u001b[0;36msave_results\u001b[0;34m(accuracy, all_samples, base_path)\u001b[0m\n\u001b[1;32m      7\u001b[0m     \u001b[0;31m# ذخیره accuracy به JSON\u001b[0m\u001b[0;34m\u001b[0m\u001b[0;34m\u001b[0m\u001b[0m\n\u001b[1;32m      8\u001b[0m     \u001b[0macc_path\u001b[0m \u001b[0;34m=\u001b[0m \u001b[0mbase_path\u001b[0m \u001b[0;34m+\u001b[0m \u001b[0;34m\"accuracy.json\"\u001b[0m\u001b[0;34m\u001b[0m\u001b[0;34m\u001b[0m\u001b[0m\n\u001b[0;32m----> 9\u001b[0;31m     \u001b[0;32mwith\u001b[0m \u001b[0mopen\u001b[0m\u001b[0;34m(\u001b[0m\u001b[0macc_path\u001b[0m\u001b[0;34m,\u001b[0m \u001b[0;34m\"w\"\u001b[0m\u001b[0;34m,\u001b[0m \u001b[0mencoding\u001b[0m\u001b[0;34m=\u001b[0m\u001b[0;34m\"utf-8\"\u001b[0m\u001b[0;34m)\u001b[0m \u001b[0;32mas\u001b[0m \u001b[0mf\u001b[0m\u001b[0;34m:\u001b[0m\u001b[0;34m\u001b[0m\u001b[0;34m\u001b[0m\u001b[0m\n\u001b[0m\u001b[1;32m     10\u001b[0m         \u001b[0mjson\u001b[0m\u001b[0;34m.\u001b[0m\u001b[0mdump\u001b[0m\u001b[0;34m(\u001b[0m\u001b[0maccuracy\u001b[0m\u001b[0;34m,\u001b[0m \u001b[0mf\u001b[0m\u001b[0;34m,\u001b[0m \u001b[0mindent\u001b[0m\u001b[0;34m=\u001b[0m\u001b[0;36m2\u001b[0m\u001b[0;34m)\u001b[0m\u001b[0;34m\u001b[0m\u001b[0;34m\u001b[0m\u001b[0m\n\u001b[1;32m     11\u001b[0m \u001b[0;34m\u001b[0m\u001b[0m\n",
      "\u001b[0;31mFileNotFoundError\u001b[0m: [Errno 2] No such file or directory: '/content/drive/MyDrive/Colab Notebooks/CA2/accuracy.json'"
     ]
    }
   ],
   "source": [
    "save_results(accuracy, all_samples)"
   ]
  },
  {
   "cell_type": "code",
   "execution_count": 29,
   "metadata": {
    "execution": {
     "iopub.execute_input": "2025-04-21T09:13:49.013145Z",
     "iopub.status.busy": "2025-04-21T09:13:49.012831Z",
     "iopub.status.idle": "2025-04-21T09:13:49.017547Z",
     "shell.execute_reply": "2025-04-21T09:13:49.017002Z",
     "shell.execute_reply.started": "2025-04-21T09:13:49.013127Z"
    },
    "id": "qLpAor8Os00J",
    "trusted": true
   },
   "outputs": [],
   "source": [
    "def visualize_results(model_name, accuracies):\n",
    "    \"\"\"Create a bar chart of prompt method accuracies.\"\"\"\n",
    "    import matplotlib.pyplot as plt\n",
    "\n",
    "    plt.figure(figsize=(10, 5))\n",
    "    plt.bar(accuracies.keys(), accuracies.values(), color='skyblue')\n",
    "    plt.title(f\"Accuracy by Prompting Method ({model_name})\")\n",
    "    plt.ylabel(\"Accuracy\")\n",
    "    plt.ylim(0, 1)\n",
    "    plt.xticks(rotation=45)\n",
    "    plt.grid(axis=\"y\")\n",
    "\n",
    "    return plt"
   ]
  },
  {
   "cell_type": "code",
   "execution_count": 20,
   "metadata": {
    "colab": {
     "base_uri": "https://localhost:8080/",
     "height": 508
    },
    "execution": {
     "iopub.execute_input": "2025-04-21T08:40:44.269709Z",
     "iopub.status.busy": "2025-04-21T08:40:44.269553Z",
     "iopub.status.idle": "2025-04-21T08:40:44.569611Z",
     "shell.execute_reply": "2025-04-21T08:40:44.568944Z",
     "shell.execute_reply.started": "2025-04-21T08:40:44.269697Z"
    },
    "id": "YP5-UCT_ttKV",
    "outputId": "7a3a3e80-63d0-4fd2-c4b6-8154e1776b42",
    "trusted": true
   },
   "outputs": [
    {
     "data": {
      "image/png": "[encoded data removed]",
      "text/plain": [
       "<Figure size 1000x500 with 1 Axes>"
      ]
     },
     "metadata": {},
     "output_type": "display_data"
    }
   ],
   "source": [
    "plt = visualize_results(CONFIG.model_name, accuracy)\n",
    "plt.show()"
   ]
  },
  {
   "cell_type": "markdown",
   "metadata": {
    "id": "hZkNyO8ZklsM"
   },
   "source": [
    "# Human Preference Alignment (80 Points)"
   ]
  },
  {
   "cell_type": "markdown",
   "metadata": {
    "id": "z66fIMmWq-7o"
   },
   "source": [
    "## RLHF Flow\n",
    "\n",
    "<img src=\"https://huyenchip.com/assets/pics/rlhf/6-sft-rlhf.png\" width=\"80%\">\n",
    "\n",
    "With the rise of **ChatGPT**, **Reinforcement Learning from Human Feedback (RLHF)** has gained significant attention in both academic and industrial language modeling communities.\n",
    "\n",
    "The approach dates back to **OpenAI’s 2019 paper**:  \n",
    "[Fine-Tuning Language Models from Human Preferences](https://arxiv.org/abs/1909.08593).  \n",
    "\n",
    "A year later, OpenAI demonstrated RLHF’s effectiveness in **natural language generation**:  \n",
    "[Learning to Summarize from Human Feedback](https://arxiv.org/abs/2009.01325).  \n",
    "\n",
    "This research showed that fine-tuning alone leads to **suboptimal human-aligned performance**. RLHF optimizes models using human feedback, significantly improving their output quality.\n"
   ]
  },
  {
   "cell_type": "markdown",
   "metadata": {
    "id": "TNOqdRXHh5XY"
   },
   "source": [
    "## Reward Models (20 Points)"
   ]
  },
  {
   "cell_type": "markdown",
   "metadata": {
    "id": "2Sog7dXylZT9"
   },
   "source": [
    "### Question 2 (5 points):\n",
    "<img width=\"50%\" alt=\"image\" src=\"https://github.com/RLHFlow/RLHFlow.github.io/blob/main/assets/BT-and-Pref-RMs.png?raw=true\">\n",
    "\n",
    "In Reinforcement Learning from Human Feedback (RLHF), the reward model is essential for aligning large language models with human preferences. A widely used method, based on the **Bradley-Terry** model, trains the reward model using the following pairwise ranking loss function for a prompt and two responses (<font color='green'><b>chosen</b></font> and <font color='red'><b>rejected</b></font>):\n",
    "\n",
    "$$\n",
    "\\text{loss}(r_{\\theta}) = -\\mathbb{E}_{(x, y_0, y_1, i) \\sim D} \\left[ \\log \\left( \\sigma \\left( r_{\\theta}(x, y_i) - r_{\\theta}(x, y_{1-i}) \\right) \\right) \\right]\n",
    "$$\n",
    "\n",
    "where:\n",
    "- $x$ is the prompt,\n",
    "- $y_0$ and $y_1$ are two responses,\n",
    "- $i$ (0 or 1) indicates the human-preferred response,\n",
    "- $r_{\\theta}(x, y)$ is the reward model’s scalar value for the prompt $ x $ and the response $ y $,\n",
    "- $\\sigma$ is the sigmoid function.\n",
    "\n",
    "**a)** How this loss function encourages higher scores for preferred responses.\n",
    "\n",
    "**b)** Discuss one potential limitation of this approach, such as reward hacking (e.g., favoring longer responses), and suggest a general strategy to mitigate it."
   ]
  },
  {
   "cell_type": "markdown",
   "metadata": {
    "id": "uRAs9mMwhisg"
   },
   "source": [
    "### ✅ (a) How this loss function encourages higher scores for preferred responses\n",
    "\n",
    "The loss function is defined as:\n",
    "\n",
    "$$\n",
    "\\mathcal{L}(r_\\theta) = -\\mathbb{E}_{(x, y_0, y_1, i) \\sim \\mathcal{D}} \\left[ \\log\\left( \\sigma\\left(r_\\theta(x, y_i) - r_\\theta(x, y_{1-i})\\right) \\right) \\right]\n",
    "$$\n",
    "\n",
    "Here, $i$ indicates the human-preferred response among $y_0$ and $y_1$.\n",
    "\n",
    "This function encourages the reward model $r_\\theta$ to assign higher scores to the preferred response $y_i$ compared to the rejected response $y_{1-i}$. When the score difference $r_\\theta(x, y_i) - r_\\theta(x, y_{1-i})$ increases, the sigmoid function $\\sigma(\\cdot)$ approaches 1, making the log term $\\log(\\sigma(\\cdot))$ closer to 0. Since the loss is negative log-likelihood, minimizing the loss requires maximizing this probability.\n",
    "\n",
    "**Conclusion:**  \n",
    "Minimizing $\\mathcal{L}$ directly incentivizes the model to increase the score of the preferred response relative to the rejected one, aligning model outputs with human preferences.\n",
    "\n",
    "### ⚠️ (b) One limitation (e.g., reward hacking) and mitigation strategy\n",
    "\n",
    "A major limitation of this approach is the risk of **reward hacking**, where the model exploits flaws in the reward signal instead of producing genuinely better outputs. Examples include:\n",
    "\n",
    "- Generating overly long responses because they tend to be preferred.\n",
    "- Using excessive politeness or agreeable phrases to gain better reward scores.\n",
    "- Mimicking stylistic patterns without actual content improvement.\n",
    "\n",
    "---\n",
    "\n",
    "#### 💡 Mitigation Strategies:\n",
    "\n",
    "1. **Length Penalty (Normalization):**  \n",
    "   Penalize overly long responses by modifying the reward function:\n",
    "\n",
    "   $$\n",
    "   r'(x, y) = r_\\theta(x, y) - \\lambda \\cdot \\text{length}(y)\n",
    "   $$\n",
    "\n",
    "2. **Multi-objective Rewarding:**  \n",
    "   Incorporate additional objectives like factual correctness, conciseness, or relevance alongside human preference.\n",
    "\n",
    "3. **Adversarial Training:**  \n",
    "   Train the model on counterexamples (e.g., misleading\n"
   ]
  },
  {
   "cell_type": "markdown",
   "metadata": {
    "id": "GWmCEsDvkinK"
   },
   "source": [
    "### Question 3 (5 points):\n",
    "\n",
    "The Bradley-Terry model is widely used in RLHF to train reward models by converting pairwise human preferences into a single scalar value. However, this approach has limitations when capturing complex human values like helpfulness, honesty, and safety, which may require multiple dimensions.\n",
    "\n",
    "**a)** Why a single scalar reward might fail to capture trade-offs between objectives like helpfulness and safety, using a concrete example (e.g., a response to a user query).\n",
    "\n",
    "**b)** Describe one alternative method to the Bradley-Terry model that addresses these limitations, such as by considering multiple objectives, mitigating biases, or improving interpretability. (For inspiration, explore resources like this [repository](https://github.com/RLHFlow/RLHF-Reward-Modeling/) or this [paper](https://arxiv.org/abs/2406.12845)). How does this alternative improve upon the single-scalar approach?"
   ]
  },
  {
   "cell_type": "markdown",
   "metadata": {
    "id": "xX34y9qu_eby"
   },
   "source": [
    "### ✅ (a) Why a single scalar reward might fail to capture trade-offs\n",
    "\n",
    "The Bradley-Terry model produces a single scalar value $r_\\theta(x, y)$ for each prompt-response pair. However, this **scalar reward** may fail to represent nuanced trade-offs between different human values such as:\n",
    "\n",
    "- **Helpfulness** (Is the response useful and informative?)\n",
    "- **Safety** (Does it avoid harmful, toxic, or misleading content?)\n",
    "- **Honesty** (Is the information truthful and based on facts?)\n",
    "\n",
    "---\n",
    "\n",
    "#### 🧠 Example:\n",
    "\n",
    "**Prompt:**  \n",
    "*\"Can I take ibuprofen and alcohol together?\"*\n",
    "\n",
    "**Response A:**  \n",
    "*\"Yes, but only in moderation. It is usually safe if you do not have liver problems.\"*  \n",
    "(score: 4.5)\n",
    "\n",
    "**Response B:**  \n",
    "*\"It is not recommended to combine ibuprofen and alcohol, as it may increase the risk of gastrointestinal bleeding and liver damage.\"*  \n",
    "(score: 4.2)\n",
    "\n",
    "---\n",
    "\n",
    "While Response A might be more *helpful* or *friendly*, Response B prioritizes *safety*. A scalar reward model must choose only one \"better\" answer overall, but **cannot express the tension or trade-off** between these dimensions.\n",
    "\n",
    "So, using only a scalar reward forces a **single-axis optimization**, which can miss the balance required for safe and helpful AI behavior.\n",
    "\n",
    "---\n",
    "---\n",
    "---\n",
    "### ✅ (b) Alternative to Bradley-Terry – Multi-Objective or Decomposed Reward Models\n",
    "\n",
    "An effective alternative to the scalar Bradley-Terry reward is using a **Multi-Objective Reward Model** (also known as Decomposed Reward Model), where the model outputs multiple scalar values — one for each human-aligned objective (e.g., helpfulness, safety, honesty).\n",
    "\n",
    "---\n",
    "\n",
    "#### 📌 Key Idea:\n",
    "\n",
    "Instead of:\n",
    "\n",
    "$$\n",
    "r_\\theta(x, y) \\in \\mathbb{R}\n",
    "$$\n",
    "\n",
    "We model:\n",
    "\n",
    "$$\n",
    "\\vec{r}_\\theta(x, y) = \\left[ r^{\\text{helpfulness}}_\\theta, r^{\\text{safety}}_\\theta, r^{\\text{honesty}}_\\theta, \\dots \\right] \\in \\mathbb{R}^n\n",
    "$$\n",
    "\n",
    "These sub-rewards are then either:\n",
    "\n",
    "- **Aggregated via a weighted sum**, tuned based on human preference:\n",
    "  $$\n",
    "  r_{\\text{total}} = \\sum_i w_i \\cdot r^{(i)}_\\theta\n",
    "  $$\n",
    "- **Or used independently** for multi-objective optimization (e.g., via Pareto front training, constrained reinforcement learning).\n",
    "\n",
    "---\n",
    "\n",
    "#### ✅ Benefits over scalar reward:\n",
    "\n",
    "- 🌱 **More interpretable**: We know *why* a response is rated high or low (e.g., it was helpful but not safe).\n",
    "- 🔧 **Tunable**: We can adjust weights to prioritize different values in different contexts (e.g., safety > helpfulness in healthcare).\n",
    "- 🛡 **Safer**: Allows better handling of trade-offs, reducing reward hacking.\n",
    "- 🧠 **More human-aligned**: Closer to how humans make judgments based on multiple criteria.\n",
    "\n",
    "---\n",
    "\n",
    "#### 📖 Reference:\n",
    "\n",
    "This idea is discussed in:\n",
    "\n",
    "- \"Decomposed Reward Models for Human Alignment\" (OpenAI)  \n",
    "- Anthropic’s Constitutional AI, which uses rule-based scoring per value dimension  \n",
    "- [OpenAI/reward-modeling GitHub repo](https://github.com/openai/reward-modeling)\n",
    "\n",
    "These models show that multiple-objective or interpretable decompositions help in better aligning LLMs with nuanced human preferences.\n",
    "\n"
   ]
  },
  {
   "cell_type": "markdown",
   "metadata": {
    "id": "B7WKTlsevH8I"
   },
   "source": [
    "---\n",
    "\n",
    "**Find More:**\n",
    "<br>[RewardBench LeaderBoard](https://huggingface.co/learn/deep-rl-course/en/unit0/introduction)\n",
    "\n",
    "---"
   ]
  },
  {
   "cell_type": "markdown",
   "metadata": {
    "id": "9ZkpabXSl7q4"
   },
   "source": [
    "### Inference from the Reward Model (10 points)"
   ]
  },
  {
   "cell_type": "markdown",
   "metadata": {
    "id": "Ied3eJK0EX0H"
   },
   "source": [
    "<div align=\"center\"><img width=\"90%\" alt=\"image\" src=\"https://github.com/Nicolinho/QRM/blob/main/assets/method_vis.png?raw=true\"></div>\n",
    "\n",
    "**Quantile Reward Models (QRM)** generates a distribution over rewards by aggregating individual distributions over attribute scores like helpfulness and harmlessness."
   ]
  },
  {
   "cell_type": "markdown",
   "metadata": {
    "id": "j38krUM6xmCa"
   },
   "source": [
    "- Load the [reward model](https://huggingface.co/nicolinho/QRM-Llama3.1-8B-v2) and its tokenization"
   ]
  },
  {
   "cell_type": "code",
   "execution_count": null,
   "metadata": {
    "id": "cGFpVCPIWmvD"
   },
   "outputs": [],
   "source": [
    "# WRITE YOUR CODE HERE"
   ]
  },
  {
   "cell_type": "markdown",
   "metadata": {
    "id": "ETBOFl7rynjz"
   },
   "source": [
    "- Generate reward scores for both responses."
   ]
  },
  {
   "cell_type": "code",
   "execution_count": null,
   "metadata": {
    "id": "CI06X2yJheyK"
   },
   "outputs": [],
   "source": [
    "# Prompt and responses\n",
    "sample_prompt = \"Do wooden pencils contain lead as their core?\"\n",
    "chosen_response = \"No, wooden pencils do not contain lead in their core. The term \\\"lead\\\" is a misnomer, as wooden pencils actually use graphite for their core. Graphite was historically called \\\"black lead\\\" due to its appearance, leading to the common misconception that pencils contain lead.\"\n",
    "rejected_response = \"Yes, wooden pencils typically contain a core made of graphite and clay, which is commonly referred to as \\\"lead\\\" despite not being made of actual lead.\"\n",
    "\n",
    "# WRITE YOUR CODE HERE"
   ]
  },
  {
   "cell_type": "markdown",
   "metadata": {
    "id": "-0g5d58WrSaI"
   },
   "source": [
    "- Visualize the results:\n",
    "\n",
    "    + Create a bar chart comparing the reward scores of the chosen vs. the rejected response for each attribute.\n",
    "    + Overlay a line chart representing the gating output coefficients."
   ]
  },
  {
   "cell_type": "code",
   "execution_count": null,
   "metadata": {
    "id": "XkkyvEBKrQPZ"
   },
   "outputs": [],
   "source": [
    "# The attributes of the 5 reward objectives\n",
    "attributes = ['helpfulness','correctness','coherence', 'complexity','verbosity']\n",
    "\n",
    "# WRITE YOUR CODE HERE"
   ]
  },
  {
   "cell_type": "markdown",
   "metadata": {
    "id": "ka51QlNlkCgo"
   },
   "source": [
    "## PPO (15 Points)"
   ]
  },
  {
   "cell_type": "markdown",
   "metadata": {
    "id": "YVTtkH-XkG08"
   },
   "source": [
    "### Question 4 (5 points):\n",
    "**a)** Describe the Proximal Policy Optimization (PPO) algorithm and explain its role in the Reinforcement Learning from Human Feedback (RLHF) framework.\n",
    "\n",
    "**b)** Specifically, is PPO an on-policy or off-policy algorithm, and why is this characteristic important for its application in RLHF?"
   ]
  },
  {
   "cell_type": "markdown",
   "metadata": {
    "id": "vr50YXvFkp5D"
   },
   "source": [
    "`# WRITE YOUR ANSWER HERE`"
   ]
  },
  {
   "cell_type": "markdown",
   "metadata": {
    "id": "45WO6uGkkuRA"
   },
   "source": [
    "### Question 5 (5 points):\n",
    "\n",
    "**a)** Why is it crucial to prevent drastic changes in the Large Language Model's policy during the PPO optimization process?\n",
    "\n",
    "**b)** Explain how PPO addresses the risk of overoptimization or instability in the context of aligning LLMs with human preferences."
   ]
  },
  {
   "cell_type": "markdown",
   "metadata": {
    "id": "VIhAD8BM1CbA"
   },
   "source": [
    "`# WRITE YOUR ANSWER HERE`"
   ]
  },
  {
   "cell_type": "markdown",
   "metadata": {
    "id": "scEGGwT91bG5"
   },
   "source": [
    "### Question 6 (5 points):\n",
    "\n",
    "Consider the following simplified form of PPO's objective function used in RLHF:\n",
    "\n",
    "$$\n",
    "\\text{objective}(\\phi) = \\mathbb{E}_{(x,y) \\sim D_{\\pi_{\\phi}^{\\text{RL}}}} \\left[ r_{\\theta}(x, y) - \\beta \\log \\left( \\frac{\\pi_{\\phi}^{\\text{RL}}(y \\mid x)}{\\pi^{\\text{SFT}}(y \\mid x)} \\right) \\right] + \\gamma \\mathbb{E}_{x \\sim D_{\\text{pretrain}}} \\left[ \\log(\\pi_{\\phi}^{\\text{RL}}(x)) \\right]\n",
    "$$\n",
    "\n",
    "**a)** Why does the reward term, $r_{\\theta}(x, y)$ , appear in this objective function even though we are differentiating with respect to the policy parameters, $\\phi$?\n",
    "\n",
    "**b)** What is the role of this term in driving the policy improvement?"
   ]
  },
  {
   "cell_type": "markdown",
   "metadata": {
    "id": "fzeuZttF2vfz"
   },
   "source": [
    "`# WRITE YOUR ANSWER HERE`"
   ]
  },
  {
   "cell_type": "markdown",
   "metadata": {
    "id": "M_CkMu18uleE"
   },
   "source": [
    "---\n",
    "**Learn More:**\n",
    "<br>[Huggingface Deep Reinforcement Learning Course](https://huggingface.co/learn/deep-rl-course/en/unit0/introduction)\n",
    "<br>[Research Papers for Reinforcement Learning with Human Feedback ](https://github.com/opendilab/awesome-RLHF)\n",
    "\n",
    "---"
   ]
  },
  {
   "cell_type": "markdown",
   "metadata": {
    "id": "2ZR7dUWP2cdg"
   },
   "source": [
    "## DPO (25 Points)"
   ]
  },
  {
   "cell_type": "markdown",
   "metadata": {
    "id": "Qbmh23R02d4V"
   },
   "source": [
    "### Question 7 (5 points):\n",
    "<div align=\"center\"><img width=\"80%\" alt=\"image\" src=\"https://miro.medium.com/v2/resize:fit:1400/1*GZnOKpza5yE616uN4OlaVg.jpeg\"></div>\n",
    "\n",
    "**a)** How does Direct Preference Optimization (DPO) differ from RLHF in aligning LLMs? Explain the DPO loss function below and its key terms:\n",
    "\n",
    "$$\n",
    "\\text{L}_{\\text{DPO}}(\\pi_\\theta; \\pi_{\\text{ref}}) = -\\mathbb{E}_{(x, y_w, y_l) \\sim D} \\left[ \\log \\sigma \\left( \\beta \\log \\frac{\\pi_\\theta(y_w | x)}{\\pi_{\\text{ref}}(y_w | x)} - \\beta \\log \\frac{\\pi_\\theta(y_l | x)}{\\pi_{\\text{ref}}(y_l | x)} \\right) \\right]\n",
    "$$\n",
    "\n",
    "**b)** What is the role of the $ \\pi_{\\text{ref}} $ in the DPO loss function, and why is it necessary for stable training?"
   ]
  },
  {
   "cell_type": "markdown",
   "metadata": {
    "id": "yE0zRF_V26Ag"
   },
   "source": [
    "`# WRITE YOUR ANSWER HERE`"
   ]
  },
  {
   "cell_type": "markdown",
   "metadata": {
    "id": "jh5So3euzEL2"
   },
   "source": [
    "### Load Model & Tokenizer (2.5 points)"
   ]
  },
  {
   "cell_type": "code",
   "execution_count": null,
   "metadata": {
    "id": "3n6iCFe-2dbx"
   },
   "outputs": [],
   "source": [
    "from unsloth import FastLanguageModel\n",
    "from unsloth.chat_templates import get_chat_template\n",
    "\n",
    "# WRITE YOUR CODE HERE"
   ]
  },
  {
   "cell_type": "markdown",
   "metadata": {
    "id": "F67ax_PdzcLw"
   },
   "source": [
    "### Preparing Data (2.5 points)\n",
    "- Load dataset for training.\n",
    "- Convert data into the expected format."
   ]
  },
  {
   "cell_type": "code",
   "execution_count": null,
   "metadata": {
    "id": "wQ03qXqky_pJ"
   },
   "outputs": [],
   "source": [
    "# Load the dataset\n",
    "dataset = load_dataset(CONFIG.dataset_name, split='train')\n",
    "\n",
    "def filter_responses(row, similarity_threshold=0.6, word_limit=1000):\n",
    "    chosen_text = row['chosen'][-1]['content'] if isinstance(row['chosen'], list) else row['chosen']\n",
    "    rejected_text = row['rejected'][-1]['content'] if isinstance(row['rejected'], list) else row['rejected']\n",
    "\n",
    "    # Compute similarity score\n",
    "    similarity = ratio(chosen_text, rejected_text)\n",
    "\n",
    "    # Count words in each response\n",
    "    chosen_word_count = len(chosen_text.split())\n",
    "    rejected_word_count = len(rejected_text.split())\n",
    "\n",
    "    # Apply filtering conditions\n",
    "    if similarity >= similarity_threshold:  # Remove if too similar\n",
    "        return False\n",
    "    if chosen_word_count >= word_limit or rejected_word_count >= word_limit:  # Remove if too long\n",
    "        return False\n",
    "\n",
    "    return True\n",
    "\n",
    "# Apply filtering\n",
    "dataset = dataset.filter(filter_responses)\n",
    "\n",
    "# Select a subset\n",
    "dataset = dataset.shuffle(seed=CONFIG.seed).select(range(CONFIG.train_data_size))"
   ]
  },
  {
   "cell_type": "code",
   "execution_count": null,
   "metadata": {
    "id": "nHfJWuz82Ec_"
   },
   "outputs": [],
   "source": [
    "def format_dpo_dataset(example):\n",
    "\n",
    "    # WRITE YOUR CODE HERE\n",
    "\n",
    "    return {\n",
    "        \"prompt\": prompt,\n",
    "        \"chosen\": chosen_response,\n",
    "        \"rejected\": rejected_response\n",
    "    }\n",
    "\n",
    "# Process the dataset\n",
    "dataset = dataset.map(\n",
    "    format_dpo_dataset,\n",
    "    num_proc=12,\n",
    "    remove_columns=[\"source\", \"question\", \"chosen\", \"rejected\"],\n",
    "    desc=\"Formatting dataset for DPO training\",\n",
    ")"
   ]
  },
  {
   "cell_type": "markdown",
   "metadata": {
    "id": "xFRcnvyLz8pc"
   },
   "source": [
    "### Applying LoRA Adapters (2.5 points)"
   ]
  },
  {
   "cell_type": "code",
   "execution_count": null,
   "metadata": {
    "id": "VI6bNnlRzhxx"
   },
   "outputs": [],
   "source": [
    "# WRITE YOUR CODE HERE"
   ]
  },
  {
   "cell_type": "markdown",
   "metadata": {
    "id": "yVT8N9891Ubw"
   },
   "source": [
    "### Train the Model (5 points)"
   ]
  },
  {
   "cell_type": "code",
   "execution_count": null,
   "metadata": {
    "id": "gqpZTuCny_f0"
   },
   "outputs": [],
   "source": [
    "# One must patch the DPO Trainer first!\n",
    "from unsloth import PatchDPOTrainer\n",
    "PatchDPOTrainer()"
   ]
  },
  {
   "cell_type": "code",
   "execution_count": null,
   "metadata": {
    "id": "Gay0MUe_1YnU"
   },
   "outputs": [],
   "source": [
    "from trl import DPOTrainer, DPOConfig\n",
    "from unsloth import is_bfloat16_supported\n",
    "\n",
    "# WRITE YOUR CODE HERE"
   ]
  },
  {
   "cell_type": "code",
   "execution_count": null,
   "metadata": {
    "id": "5v1h1ajk10Q3"
   },
   "outputs": [],
   "source": [
    "dpo_trainer.train()"
   ]
  },
  {
   "cell_type": "markdown",
   "metadata": {
    "id": "GNuV5UM22EdA"
   },
   "source": [
    "### Save the Model (2.5 points)"
   ]
  },
  {
   "cell_type": "code",
   "execution_count": null,
   "metadata": {
    "id": "DS3GJPeE2EdA"
   },
   "outputs": [],
   "source": [
    "# WRITE YOUR CODE HERE"
   ]
  },
  {
   "cell_type": "markdown",
   "metadata": {
    "id": "JST2NuBT1wLc"
   },
   "source": [
    "### Inference (2.5 points)\n",
    "- Enable faster inference with Unsloth.\n",
    "- Generate output for two randomly selected samples from the `orpo-dpo-mix-40k` dataset."
   ]
  },
  {
   "cell_type": "code",
   "execution_count": null,
   "metadata": {
    "id": "gp-_ME661Yix"
   },
   "outputs": [],
   "source": [
    "sample_prompts = []\n",
    "dpo_responses = []\n",
    "\n",
    "# WRITE YOUR CODE HERE"
   ]
  },
  {
   "cell_type": "markdown",
   "metadata": {
    "id": "23IyRIAW58rW"
   },
   "source": [
    "### Evaluate with Reward Model (2.5 points)\n",
    "\n",
    "- Estimate the rewards of generated responses.\n",
    "\n",
    "    **Note:** Consider memory management in this section. If you encounter an **Out of Memory** issue, you should save the responses after making inferences from the model, free up GPU memory, and then load the Reward Model."
   ]
  },
  {
   "cell_type": "code",
   "execution_count": null,
   "metadata": {
    "id": "NaCbVjxlyRLm"
   },
   "outputs": [],
   "source": [
    "# WRITE YOUR CODE HERE"
   ]
  },
  {
   "cell_type": "markdown",
   "metadata": {
    "id": "QeYK6BAl4Z0Z"
   },
   "source": [
    "## ORPO (20 Points)"
   ]
  },
  {
   "cell_type": "markdown",
   "metadata": {
    "id": "bPP7HX_q2EdB"
   },
   "source": [
    "<img src=\"https://arxiv.org/html/2403.07691v1/x2.png\" style=\"background-color:white; padding:10px;\">"
   ]
  },
  {
   "cell_type": "markdown",
   "metadata": {
    "id": "TN8X5CH04k5Z"
   },
   "source": [
    "### Question 8 (5 points):\n",
    "\n",
    "Traditional preference alignment methods, such as Reinforcement Learning with Human Feedback (RLHF) and Direct Preference Optimization (DPO), often rely on a separate reference model to guide the optimization process. [ORPO](https://arxiv.org/abs/2403.07691), however, eliminates this dependency.\n",
    "\n",
    "**a.** Explain why removing the reference model simplifies preference optimization in language models.\n",
    "\n",
    "**b.** Discuss the potential advantages and disadvantages of this approach compared to RLHF and DPO."
   ]
  },
  {
   "cell_type": "markdown",
   "metadata": {
    "id": "ASxG3UVH2EdB"
   },
   "source": [
    "`# WRITE YOUR ANSWER HERE`"
   ]
  },
  {
   "cell_type": "markdown",
   "metadata": {
    "id": "YhwpNIbspeDA"
   },
   "source": [
    "### Train the model (5 points)"
   ]
  },
  {
   "cell_type": "markdown",
   "metadata": {
    "id": "lvglmqWe2EdB"
   },
   "source": [
    "- Follow the steps as in the DPO section."
   ]
  },
  {
   "cell_type": "code",
   "execution_count": null,
   "metadata": {
    "id": "rank9Yqt2EdB"
   },
   "outputs": [],
   "source": [
    "# WRITE YOUR CODE HERE"
   ]
  },
  {
   "cell_type": "markdown",
   "metadata": {
    "id": "rF--NrS92EdB"
   },
   "source": [
    "- Set up ORPOTrainer"
   ]
  },
  {
   "cell_type": "code",
   "execution_count": null,
   "metadata": {
    "id": "GYj2-3WNY2MY"
   },
   "outputs": [],
   "source": [
    "from trl import ORPOConfig, ORPOTrainer\n",
    "\n",
    "# WRITE YOUR CODE HERE"
   ]
  },
  {
   "cell_type": "code",
   "execution_count": null,
   "metadata": {
    "id": "xfUxFREMYmq8"
   },
   "outputs": [],
   "source": [
    "orpo_trainer.train()"
   ]
  },
  {
   "cell_type": "markdown",
   "metadata": {
    "id": "ldsGLLOl2EdC"
   },
   "source": [
    "- Save the model"
   ]
  },
  {
   "cell_type": "code",
   "execution_count": null,
   "metadata": {
    "id": "JgbC4k5p2EdC"
   },
   "outputs": [],
   "source": [
    "# WRITE YOUR CODE HERE"
   ]
  },
  {
   "cell_type": "markdown",
   "metadata": {
    "id": "OHqExhtpp-BE"
   },
   "source": [
    "### Inference (2.5 points)\n",
    "- Make an inference on two randomly selected samples (similar to the DPO section)."
   ]
  },
  {
   "cell_type": "code",
   "execution_count": null,
   "metadata": {
    "id": "Ig6ASkWfp6GU"
   },
   "outputs": [],
   "source": [
    "sample_prompts = []\n",
    "orpo_responses = []\n",
    "\n",
    "# WRITE YOUR CODE HERE"
   ]
  },
  {
   "cell_type": "markdown",
   "metadata": {
    "id": "ocUPKwBf2EdC"
   },
   "source": [
    "### Evaluate with Reward Model (5 points)\n",
    "\n",
    "- Estimate the rewards of generated responses.\n",
    "- Compare DPO and ORPO results.\n",
    "\n",
    "    **Note:** Consider memory management in this section. If you encounter an **Out of Memory** issue, you should save the responses after making inferences from the model, free up GPU memory, and then load the Reward Model."
   ]
  },
  {
   "cell_type": "code",
   "execution_count": null,
   "metadata": {
    "id": "aWZvoLSn2EdC"
   },
   "outputs": [],
   "source": [
    "# WRITE YOUR CODE HERE"
   ]
  },
  {
   "cell_type": "markdown",
   "metadata": {
    "id": "hgHZNB0dqrJ6"
   },
   "source": [
    "### Question 9 (2.5 points):\n",
    "\n",
    "Compare DPO and ORPO in terms of execution time and VRAM used."
   ]
  },
  {
   "cell_type": "markdown",
   "metadata": {
    "id": "FCPME8yP9Sh5"
   },
   "source": [
    "`# WRITE YOUR ANSWER HERE`"
   ]
  },
  {
   "cell_type": "markdown",
   "metadata": {
    "id": "nlP-7Q3Y2EdD"
   },
   "source": [
    "# **Optional Section** (10 points):"
   ]
  },
  {
   "cell_type": "markdown",
   "metadata": {
    "id": "WIeFpJWZ2EdD"
   },
   "source": [
    "### **Evaluating the Impact of Alignment on ICL**\n",
    "\n",
    "In this section, you will re-evaluate the **in-context learning (ICL) performance** after aligning the model with **DPO** and **ORPO**. The goal is to analyze how alignment affects the model’s ability to follow different prompting strategies.\n",
    "\n",
    "1. **Use the same evaluation setup** from the [Prompt Engineering](#prompt-engineering) section.\n",
    "2. **Re-run the model** on the same [GSM8K](#gsm8k_benchmark) tasks.\n",
    "3. **Document your observations** in a table:\n",
    "\n",
    "| Model Version  | Accuracy (%) | Common Errors |\n",
    "|---------------|------------|--------------|\n",
    "| Baseline       | XX%        | \\<list errors> |\n",
    "| Post-DPO      | XX%        | \\<list errors> |\n",
    "| Post-ORPO      | XX%        | \\<list errors> |"
   ]
  },
  {
   "cell_type": "code",
   "execution_count": null,
   "metadata": {
    "id": "i5aZ9fLT2EdD"
   },
   "outputs": [],
   "source": [
    "# WRITE YOUR CODE HERE"
   ]
  },
  {
   "cell_type": "markdown",
   "metadata": {
    "id": "1xBHD2fR2EdD"
   },
   "source": [
    "### **Discussion:**\n",
    "- Does preference alignment improve or degrade raw performance?\n",
    "- Does the model respond differently to variations in prompts?\n",
    "- How does alignment impact the model's **reasoning consistency** in prompts like CoT?\n",
    "\n",
    "`# WRITE YOUR ANSWER HERE`"
   ]
  },
  {
   "cell_type": "markdown",
   "metadata": {
    "id": "fDsXcuYW99qc"
   },
   "source": [
    "# AI Disclosure\n",
    "\n",
    "*   Did you use any AI assistance to complete this homework? If so, please also specify what AI you used.\n",
    "    * *Chat GPT*\n",
    "\n",
    "\n",
    "---\n",
    "*(only complete the below questions if you answered yes above)*\n",
    "\n",
    "*   If you used a large language model to assist you, please paste prompts that you used below. Add a separate bullet for each prompt.\n"
   ]
  },
  {
   "cell_type": "markdown",
   "metadata": {
    "id": "NlNAne4F2EdD"
   },
   "source": []
  }
 ],
 "metadata": {
  "accelerator": "GPU",
  "colab": {
   "gpuType": "T4",
   "provenance": []
  },
  "kaggle": {
   "accelerator": "nvidiaTeslaT4",
   "dataSources": [],
   "dockerImageVersionId": 31011,
   "isGpuEnabled": true,
   "isInternetEnabled": true,
   "language": "python",
   "sourceType": "notebook"
  },
  "kernelspec": {
   "display_name": "Python 3",
   "language": "python",
   "name": "python3"
  },
  "language_info": {
   "codemirror_mode": {
    "name": "ipython",
    "version": 3
   },
   "file_extension": ".py",
   "mimetype": "text/x-python",
   "name": "python",
   "nbconvert_exporter": "python",
   "pygments_lexer": "ipython3",
   "version": "3.11.11"
  },
  "widgets": {
   "application/vnd.jupyter.widget-state+json": {
    "005a6d7ec5344a9f926f7157f5d75a06": {
     "model_module": "@jupyter-widgets/controls",
     "model_module_version": "1.5.0",
     "model_name": "HTMLModel",
     "state": {
      "_dom_classes": [],
      "_model_module": "@jupyter-widgets/controls",
      "_model_module_version": "1.5.0",
      "_model_name": "HTMLModel",
      "_view_count": null,
      "_view_module": "@jupyter-widgets/controls",
      "_view_module_version": "1.5.0",
      "_view_name": "HTMLView",
      "description": "",
      "description_tooltip": null,
      "layout": "IPY_MODEL_5ce9970ee69c4d3dbf3881d863c8a354",
      "placeholder": "​",
      "style": "IPY_MODEL_cf70775646da4d8fa11a3ddb990788c6",
      "value": " 419k/419k [00:00&lt;00:00, 19.8MB/s]"
     }
    },
    "00964d737c354efcbce326eccda219a1": {
     "model_module": "@jupyter-widgets/base",
     "model_module_version": "1.2.0",
     "model_name": "LayoutModel",
     "state": {
      "_model_module": "@jupyter-widgets/base",
      "_model_module_version": "1.2.0",
      "_model_name": "LayoutModel",
      "_view_count": null,
      "_view_module": "@jupyter-widgets/base",
      "_view_module_version": "1.2.0",
      "_view_name": "LayoutView",
      "align_content": null,
      "align_items": null,
      "align_self": null,
      "border": null,
      "bottom": null,
      "display": null,
      "flex": null,
      "flex_flow": null,
      "grid_area": null,
      "grid_auto_columns": null,
      "grid_auto_flow": null,
      "grid_auto_rows": null,
      "grid_column": null,
      "grid_gap": null,
      "grid_row": null,
      "grid_template_areas": null,
      "grid_template_columns": null,
      "grid_template_rows": null,
      "height": null,
      "justify_content": null,
      "justify_items": null,
      "left": null,
      "margin": null,
      "max_height": null,
      "max_width": null,
      "min_height": null,
      "min_width": null,
      "object_fit": null,
      "object_position": null,
      "order": null,
      "overflow": null,
      "overflow_x": null,
      "overflow_y": null,
      "padding": null,
      "right": null,
      "top": null,
      "visibility": null,
      "width": null
     }
    },
    "03ddc69226b349bebf7bb3ebe78ca01f": {
     "model_module": "@jupyter-widgets/base",
     "model_module_version": "1.2.0",
     "model_name": "LayoutModel",
     "state": {
      "_model_module": "@jupyter-widgets/base",
      "_model_module_version": "1.2.0",
      "_model_name": "LayoutModel",
      "_view_count": null,
      "_view_module": "@jupyter-widgets/base",
      "_view_module_version": "1.2.0",
      "_view_name": "LayoutView",
      "align_content": null,
      "align_items": null,
      "align_self": null,
      "border": null,
      "bottom": null,
      "display": null,
      "flex": null,
      "flex_flow": null,
      "grid_area": null,
      "grid_auto_columns": null,
      "grid_auto_flow": null,
      "grid_auto_rows": null,
      "grid_column": null,
      "grid_gap": null,
      "grid_row": null,
      "grid_template_areas": null,
      "grid_template_columns": null,
      "grid_template_rows": null,
      "height": null,
      "justify_content": null,
      "justify_items": null,
      "left": null,
      "margin": null,
      "max_height": null,
      "max_width": null,
      "min_height": null,
      "min_width": null,
      "object_fit": null,
      "object_position": null,
      "order": null,
      "overflow": null,
      "overflow_x": null,
      "overflow_y": null,
      "padding": null,
      "right": null,
      "top": null,
      "visibility": null,
      "width": null
     }
    },
    "0612843e4d304b9f9bc0c89cea6fbc3c": {
     "model_module": "@jupyter-widgets/controls",
     "model_module_version": "1.5.0",
     "model_name": "HTMLModel",
     "state": {
      "_dom_classes": [],
      "_model_module": "@jupyter-widgets/controls",
      "_model_module_version": "1.5.0",
      "_model_name": "HTMLModel",
      "_view_count": null,
      "_view_module": "@jupyter-widgets/controls",
      "_view_module_version": "1.5.0",
      "_view_name": "HTMLView",
      "description": "",
      "description_tooltip": null,
      "layout": "IPY_MODEL_0d9070489e8b44889e0c4f409b1340be",
      "placeholder": "​",
      "style": "IPY_MODEL_651da32bfe134cf9845fa318cf04e716",
      "value": "model.safetensors: 100%"
     }
    },
    "0705e7f45edc4501880498aad2c7f06c": {
     "model_module": "@jupyter-widgets/controls",
     "model_module_version": "1.5.0",
     "model_name": "HTMLModel",
     "state": {
      "_dom_classes": [],
      "_model_module": "@jupyter-widgets/controls",
      "_model_module_version": "1.5.0",
      "_model_name": "HTMLModel",
      "_view_count": null,
      "_view_module": "@jupyter-widgets/controls",
      "_view_module_version": "1.5.0",
      "_view_name": "HTMLView",
      "description": "",
      "description_tooltip": null,
      "layout": "IPY_MODEL_077fdf19f9f54afab15e87d4bd18edf7",
      "placeholder": "​",
      "style": "IPY_MODEL_984446109cc1470780c356b9988aa60c",
      "value": "README.md: 100%"
     }
    },
    "077fdf19f9f54afab15e87d4bd18edf7": {
     "model_module": "@jupyter-widgets/base",
     "model_module_version": "1.2.0",
     "model_name": "LayoutModel",
     "state": {
      "_model_module": "@jupyter-widgets/base",
      "_model_module_version": "1.2.0",
      "_model_name": "LayoutModel",
      "_view_count": null,
      "_view_module": "@jupyter-widgets/base",
      "_view_module_version": "1.2.0",
      "_view_name": "LayoutView",
      "align_content": null,
      "align_items": null,
      "align_self": null,
      "border": null,
      "bottom": null,
      "display": null,
      "flex": null,
      "flex_flow": null,
      "grid_area": null,
      "grid_auto_columns": null,
      "grid_auto_flow": null,
      "grid_auto_rows": null,
      "grid_column": null,
      "grid_gap": null,
      "grid_row": null,
      "grid_template_areas": null,
      "grid_template_columns": null,
      "grid_template_rows": null,
      "height": null,
      "justify_content": null,
      "justify_items": null,
      "left": null,
      "margin": null,
      "max_height": null,
      "max_width": null,
      "min_height": null,
      "min_width": null,
      "object_fit": null,
      "object_position": null,
      "order": null,
      "overflow": null,
      "overflow_x": null,
      "overflow_y": null,
      "padding": null,
      "right": null,
      "top": null,
      "visibility": null,
      "width": null
     }
    },
    "081d5eb2928b45c48a0abdecaf1e02d3": {
     "model_module": "@jupyter-widgets/controls",
     "model_module_version": "1.5.0",
     "model_name": "HBoxModel",
     "state": {
      "_dom_classes": [],
      "_model_module": "@jupyter-widgets/controls",
      "_model_module_version": "1.5.0",
      "_model_name": "HBoxModel",
      "_view_count": null,
      "_view_module": "@jupyter-widgets/controls",
      "_view_module_version": "1.5.0",
      "_view_name": "HBoxView",
      "box_style": "",
      "children": [
       "IPY_MODEL_0b73481fc22a43a2b43d65e89d5989db",
       "IPY_MODEL_ef19d63d75004ad9b7e3837355cd3d18",
       "IPY_MODEL_5ea755ac7bec4fdfbb39f654bdb73f8c"
      ],
      "layout": "IPY_MODEL_5d96ae9f72734778a9aef19c8f030cec"
     }
    },
    "082f5017a8c64bd8b1c11d4f0f405f59": {
     "model_module": "@jupyter-widgets/controls",
     "model_module_version": "1.5.0",
     "model_name": "ProgressStyleModel",
     "state": {
      "_model_module": "@jupyter-widgets/controls",
      "_model_module_version": "1.5.0",
      "_model_name": "ProgressStyleModel",
      "_view_count": null,
      "_view_module": "@jupyter-widgets/base",
      "_view_module_version": "1.2.0",
      "_view_name": "StyleView",
      "bar_color": null,
      "description_width": ""
     }
    },
    "0846cd64feb44b1fa5fc33b188c0755d": {
     "model_module": "@jupyter-widgets/base",
     "model_module_version": "1.2.0",
     "model_name": "LayoutModel",
     "state": {
      "_model_module": "@jupyter-widgets/base",
      "_model_module_version": "1.2.0",
      "_model_name": "LayoutModel",
      "_view_count": null,
      "_view_module": "@jupyter-widgets/base",
      "_view_module_version": "1.2.0",
      "_view_name": "LayoutView",
      "align_content": null,
      "align_items": null,
      "align_self": null,
      "border": null,
      "bottom": null,
      "display": null,
      "flex": null,
      "flex_flow": null,
      "grid_area": null,
      "grid_auto_columns": null,
      "grid_auto_flow": null,
      "grid_auto_rows": null,
      "grid_column": null,
      "grid_gap": null,
      "grid_row": null,
      "grid_template_areas": null,
      "grid_template_columns": null,
      "grid_template_rows": null,
      "height": null,
      "justify_content": null,
      "justify_items": null,
      "left": null,
      "margin": null,
      "max_height": null,
      "max_width": null,
      "min_height": null,
      "min_width": null,
      "object_fit": null,
      "object_position": null,
      "order": null,
      "overflow": null,
      "overflow_x": null,
      "overflow_y": null,
      "padding": null,
      "right": null,
      "top": null,
      "visibility": null,
      "width": null
     }
    },
    "089a77048d41437594967c8c1759f568": {
     "model_module": "@jupyter-widgets/controls",
     "model_module_version": "1.5.0",
     "model_name": "ProgressStyleModel",
     "state": {
      "_model_module": "@jupyter-widgets/controls",
      "_model_module_version": "1.5.0",
      "_model_name": "ProgressStyleModel",
      "_view_count": null,
      "_view_module": "@jupyter-widgets/base",
      "_view_module_version": "1.2.0",
      "_view_name": "StyleView",
      "bar_color": null,
      "description_width": ""
     }
    },
    "0b73481fc22a43a2b43d65e89d5989db": {
     "model_module": "@jupyter-widgets/controls",
     "model_module_version": "1.5.0",
     "model_name": "HTMLModel",
     "state": {
      "_dom_classes": [],
      "_model_module": "@jupyter-widgets/controls",
      "_model_module_version": "1.5.0",
      "_model_name": "HTMLModel",
      "_view_count": null,
      "_view_module": "@jupyter-widgets/controls",
      "_view_module_version": "1.5.0",
      "_view_name": "HTMLView",
      "description": "",
      "description_tooltip": null,
      "layout": "IPY_MODEL_155dcf5e2d9543fabc3504414d7027c5",
      "placeholder": "​",
      "style": "IPY_MODEL_a2ccbc7f37ee455887f5c3a5dd628897",
      "value": "special_tokens_map.json: 100%"
     }
    },
    "0c7ac508219b4c388a1ef84bd6cb1897": {
     "model_module": "@jupyter-widgets/controls",
     "model_module_version": "1.5.0",
     "model_name": "HBoxModel",
     "state": {
      "_dom_classes": [],
      "_model_module": "@jupyter-widgets/controls",
      "_model_module_version": "1.5.0",
      "_model_name": "HBoxModel",
      "_view_count": null,
      "_view_module": "@jupyter-widgets/controls",
      "_view_module_version": "1.5.0",
      "_view_name": "HBoxView",
      "box_style": "",
      "children": [
       "IPY_MODEL_fab46e310cef44ebaa2b18be6e24c7ba",
       "IPY_MODEL_c2bff709a9864f65bd95ffe01c6c533e",
       "IPY_MODEL_30cf2b626c45486f82e4b2f5232ef1d6"
      ],
      "layout": "IPY_MODEL_acaad390c905486f886cc4354f2c9a1b"
     }
    },
    "0d9070489e8b44889e0c4f409b1340be": {
     "model_module": "@jupyter-widgets/base",
     "model_module_version": "1.2.0",
     "model_name": "LayoutModel",
     "state": {
      "_model_module": "@jupyter-widgets/base",
      "_model_module_version": "1.2.0",
      "_model_name": "LayoutModel",
      "_view_count": null,
      "_view_module": "@jupyter-widgets/base",
      "_view_module_version": "1.2.0",
      "_view_name": "LayoutView",
      "align_content": null,
      "align_items": null,
      "align_self": null,
      "border": null,
      "bottom": null,
      "display": null,
      "flex": null,
      "flex_flow": null,
      "grid_area": null,
      "grid_auto_columns": null,
      "grid_auto_flow": null,
      "grid_auto_rows": null,
      "grid_column": null,
      "grid_gap": null,
      "grid_row": null,
      "grid_template_areas": null,
      "grid_template_columns": null,
      "grid_template_rows": null,
      "height": null,
      "justify_content": null,
      "justify_items": null,
      "left": null,
      "margin": null,
      "max_height": null,
      "max_width": null,
      "min_height": null,
      "min_width": null,
      "object_fit": null,
      "object_position": null,
      "order": null,
      "overflow": null,
      "overflow_x": null,
      "overflow_y": null,
      "padding": null,
      "right": null,
      "top": null,
      "visibility": null,
      "width": null
     }
    },
    "0e0ffda9894e4773abdf538bfa8d4811": {
     "model_module": "@jupyter-widgets/controls",
     "model_module_version": "1.5.0",
     "model_name": "HTMLModel",
     "state": {
      "_dom_classes": [],
      "_model_module": "@jupyter-widgets/controls",
      "_model_module_version": "1.5.0",
      "_model_name": "HTMLModel",
      "_view_count": null,
      "_view_module": "@jupyter-widgets/controls",
      "_view_module_version": "1.5.0",
      "_view_name": "HTMLView",
      "description": "",
      "description_tooltip": null,
      "layout": "IPY_MODEL_361d6d40aafa41a0b8591232086e54e4",
      "placeholder": "​",
      "style": "IPY_MODEL_23ad4a26db6145d69eb1671e99670b90",
      "value": "test-00000-of-00001.parquet: 100%"
     }
    },
    "12b0fa8d9fbb4670bb7796099ba26250": {
     "model_module": "@jupyter-widgets/base",
     "model_module_version": "1.2.0",
     "model_name": "LayoutModel",
     "state": {
      "_model_module": "@jupyter-widgets/base",
      "_model_module_version": "1.2.0",
      "_model_name": "LayoutModel",
      "_view_count": null,
      "_view_module": "@jupyter-widgets/base",
      "_view_module_version": "1.2.0",
      "_view_name": "LayoutView",
      "align_content": null,
      "align_items": null,
      "align_self": null,
      "border": null,
      "bottom": null,
      "display": null,
      "flex": null,
      "flex_flow": null,
      "grid_area": null,
      "grid_auto_columns": null,
      "grid_auto_flow": null,
      "grid_auto_rows": null,
      "grid_column": null,
      "grid_gap": null,
      "grid_row": null,
      "grid_template_areas": null,
      "grid_template_columns": null,
      "grid_template_rows": null,
      "height": null,
      "justify_content": null,
      "justify_items": null,
      "left": null,
      "margin": null,
      "max_height": null,
      "max_width": null,
      "min_height": null,
      "min_width": null,
      "object_fit": null,
      "object_position": null,
      "order": null,
      "overflow": null,
      "overflow_x": null,
      "overflow_y": null,
      "padding": null,
      "right": null,
      "top": null,
      "visibility": null,
      "width": null
     }
    },
    "13a7a2364e53499db9f29eec0544a5a2": {
     "model_module": "@jupyter-widgets/controls",
     "model_module_version": "1.5.0",
     "model_name": "HTMLModel",
     "state": {
      "_dom_classes": [],
      "_model_module": "@jupyter-widgets/controls",
      "_model_module_version": "1.5.0",
      "_model_name": "HTMLModel",
      "_view_count": null,
      "_view_module": "@jupyter-widgets/controls",
      "_view_module_version": "1.5.0",
      "_view_name": "HTMLView",
      "description": "",
      "description_tooltip": null,
      "layout": "IPY_MODEL_86849434a00f46db99407be1938ebfd6",
      "placeholder": "​",
      "style": "IPY_MODEL_84b172e4aa5a488a8461c1decf53ab51",
      "value": " 234/234 [00:00&lt;00:00, 16.9kB/s]"
     }
    },
    "14e8dd8e402144b3b8755584ec4cf538": {
     "model_module": "@jupyter-widgets/base",
     "model_module_version": "1.2.0",
     "model_name": "LayoutModel",
     "state": {
      "_model_module": "@jupyter-widgets/base",
      "_model_module_version": "1.2.0",
      "_model_name": "LayoutModel",
      "_view_count": null,
      "_view_module": "@jupyter-widgets/base",
      "_view_module_version": "1.2.0",
      "_view_name": "LayoutView",
      "align_content": null,
      "align_items": null,
      "align_self": null,
      "border": null,
      "bottom": null,
      "display": null,
      "flex": null,
      "flex_flow": null,
      "grid_area": null,
      "grid_auto_columns": null,
      "grid_auto_flow": null,
      "grid_auto_rows": null,
      "grid_column": null,
      "grid_gap": null,
      "grid_row": null,
      "grid_template_areas": null,
      "grid_template_columns": null,
      "grid_template_rows": null,
      "height": null,
      "justify_content": null,
      "justify_items": null,
      "left": null,
      "margin": null,
      "max_height": null,
      "max_width": null,
      "min_height": null,
      "min_width": null,
      "object_fit": null,
      "object_position": null,
      "order": null,
      "overflow": null,
      "overflow_x": null,
      "overflow_y": null,
      "padding": null,
      "right": null,
      "top": null,
      "visibility": null,
      "width": null
     }
    },
    "155dcf5e2d9543fabc3504414d7027c5": {
     "model_module": "@jupyter-widgets/base",
     "model_module_version": "1.2.0",
     "model_name": "LayoutModel",
     "state": {
      "_model_module": "@jupyter-widgets/base",
      "_model_module_version": "1.2.0",
      "_model_name": "LayoutModel",
      "_view_count": null,
      "_view_module": "@jupyter-widgets/base",
      "_view_module_version": "1.2.0",
      "_view_name": "LayoutView",
      "align_content": null,
      "align_items": null,
      "align_self": null,
      "border": null,
      "bottom": null,
      "display": null,
      "flex": null,
      "flex_flow": null,
      "grid_area": null,
      "grid_auto_columns": null,
      "grid_auto_flow": null,
      "grid_auto_rows": null,
      "grid_column": null,
      "grid_gap": null,
      "grid_row": null,
      "grid_template_areas": null,
      "grid_template_columns": null,
      "grid_template_rows": null,
      "height": null,
      "justify_content": null,
      "justify_items": null,
      "left": null,
      "margin": null,
      "max_height": null,
      "max_width": null,
      "min_height": null,
      "min_width": null,
      "object_fit": null,
      "object_position": null,
      "order": null,
      "overflow": null,
      "overflow_x": null,
      "overflow_y": null,
      "padding": null,
      "right": null,
      "top": null,
      "visibility": null,
      "width": null
     }
    },
    "18cdd1db75664e9cac95ae3b090de00a": {
     "model_module": "@jupyter-widgets/controls",
     "model_module_version": "1.5.0",
     "model_name": "DescriptionStyleModel",
     "state": {
      "_model_module": "@jupyter-widgets/controls",
      "_model_module_version": "1.5.0",
      "_model_name": "DescriptionStyleModel",
      "_view_count": null,
      "_view_module": "@jupyter-widgets/base",
      "_view_module_version": "1.2.0",
      "_view_name": "StyleView",
      "description_width": ""
     }
    },
    "1e67985ae7e249db813d35f9da7d4ae8": {
     "model_module": "@jupyter-widgets/base",
     "model_module_version": "1.2.0",
     "model_name": "LayoutModel",
     "state": {
      "_model_module": "@jupyter-widgets/base",
      "_model_module_version": "1.2.0",
      "_model_name": "LayoutModel",
      "_view_count": null,
      "_view_module": "@jupyter-widgets/base",
      "_view_module_version": "1.2.0",
      "_view_name": "LayoutView",
      "align_content": null,
      "align_items": null,
      "align_self": null,
      "border": null,
      "bottom": null,
      "display": null,
      "flex": null,
      "flex_flow": null,
      "grid_area": null,
      "grid_auto_columns": null,
      "grid_auto_flow": null,
      "grid_auto_rows": null,
      "grid_column": null,
      "grid_gap": null,
      "grid_row": null,
      "grid_template_areas": null,
      "grid_template_columns": null,
      "grid_template_rows": null,
      "height": null,
      "justify_content": null,
      "justify_items": null,
      "left": null,
      "margin": null,
      "max_height": null,
      "max_width": null,
      "min_height": null,
      "min_width": null,
      "object_fit": null,
      "object_position": null,
      "order": null,
      "overflow": null,
      "overflow_x": null,
      "overflow_y": null,
      "padding": null,
      "right": null,
      "top": null,
      "visibility": null,
      "width": null
     }
    },
    "23ad4a26db6145d69eb1671e99670b90": {
     "model_module": "@jupyter-widgets/controls",
     "model_module_version": "1.5.0",
     "model_name": "DescriptionStyleModel",
     "state": {
      "_model_module": "@jupyter-widgets/controls",
      "_model_module_version": "1.5.0",
      "_model_name": "DescriptionStyleModel",
      "_view_count": null,
      "_view_module": "@jupyter-widgets/base",
      "_view_module_version": "1.2.0",
      "_view_name": "StyleView",
      "description_width": ""
     }
    },
    "28476c2c0e0f4a83bed551117bc1d1dc": {
     "model_module": "@jupyter-widgets/controls",
     "model_module_version": "1.5.0",
     "model_name": "DescriptionStyleModel",
     "state": {
      "_model_module": "@jupyter-widgets/controls",
      "_model_module_version": "1.5.0",
      "_model_name": "DescriptionStyleModel",
      "_view_count": null,
      "_view_module": "@jupyter-widgets/base",
      "_view_module_version": "1.2.0",
      "_view_name": "StyleView",
      "description_width": ""
     }
    },
    "2938f6c3dd9b464790f1a9b2ab3e5672": {
     "model_module": "@jupyter-widgets/controls",
     "model_module_version": "1.5.0",
     "model_name": "HBoxModel",
     "state": {
      "_dom_classes": [],
      "_model_module": "@jupyter-widgets/controls",
      "_model_module_version": "1.5.0",
      "_model_name": "HBoxModel",
      "_view_count": null,
      "_view_module": "@jupyter-widgets/controls",
      "_view_module_version": "1.5.0",
      "_view_name": "HBoxView",
      "box_style": "",
      "children": [
       "IPY_MODEL_0e0ffda9894e4773abdf538bfa8d4811",
       "IPY_MODEL_82b121f88ade49d5b64ccf179f79aa4b",
       "IPY_MODEL_005a6d7ec5344a9f926f7157f5d75a06"
      ],
      "layout": "IPY_MODEL_37dcc6fdad6d4a5e8c94ed575a939ba6"
     }
    },
    "30cf2b626c45486f82e4b2f5232ef1d6": {
     "model_module": "@jupyter-widgets/controls",
     "model_module_version": "1.5.0",
     "model_name": "HTMLModel",
     "state": {
      "_dom_classes": [],
      "_model_module": "@jupyter-widgets/controls",
      "_model_module_version": "1.5.0",
      "_model_name": "HTMLModel",
      "_view_count": null,
      "_view_module": "@jupyter-widgets/controls",
      "_view_module_version": "1.5.0",
      "_view_name": "HTMLView",
      "description": "",
      "description_tooltip": null,
      "layout": "IPY_MODEL_d4bff4a5291248f78a8fb868392f210d",
      "placeholder": "​",
      "style": "IPY_MODEL_ee7a1a54b43b491bba5989eba9e77acc",
      "value": " 54.7k/54.7k [00:00&lt;00:00, 5.19MB/s]"
     }
    },
    "3580e5df1022450a9d361490b64e1010": {
     "model_module": "@jupyter-widgets/base",
     "model_module_version": "1.2.0",
     "model_name": "LayoutModel",
     "state": {
      "_model_module": "@jupyter-widgets/base",
      "_model_module_version": "1.2.0",
      "_model_name": "LayoutModel",
      "_view_count": null,
      "_view_module": "@jupyter-widgets/base",
      "_view_module_version": "1.2.0",
      "_view_name": "LayoutView",
      "align_content": null,
      "align_items": null,
      "align_self": null,
      "border": null,
      "bottom": null,
      "display": null,
      "flex": null,
      "flex_flow": null,
      "grid_area": null,
      "grid_auto_columns": null,
      "grid_auto_flow": null,
      "grid_auto_rows": null,
      "grid_column": null,
      "grid_gap": null,
      "grid_row": null,
      "grid_template_areas": null,
      "grid_template_columns": null,
      "grid_template_rows": null,
      "height": null,
      "justify_content": null,
      "justify_items": null,
      "left": null,
      "margin": null,
      "max_height": null,
      "max_width": null,
      "min_height": null,
      "min_width": null,
      "object_fit": null,
      "object_position": null,
      "order": null,
      "overflow": null,
      "overflow_x": null,
      "overflow_y": null,
      "padding": null,
      "right": null,
      "top": null,
      "visibility": null,
      "width": null
     }
    },
    "361d6d40aafa41a0b8591232086e54e4": {
     "model_module": "@jupyter-widgets/base",
     "model_module_version": "1.2.0",
     "model_name": "LayoutModel",
     "state": {
      "_model_module": "@jupyter-widgets/base",
      "_model_module_version": "1.2.0",
      "_model_name": "LayoutModel",
      "_view_count": null,
      "_view_module": "@jupyter-widgets/base",
      "_view_module_version": "1.2.0",
      "_view_name": "LayoutView",
      "align_content": null,
      "align_items": null,
      "align_self": null,
      "border": null,
      "bottom": null,
      "display": null,
      "flex": null,
      "flex_flow": null,
      "grid_area": null,
      "grid_auto_columns": null,
      "grid_auto_flow": null,
      "grid_auto_rows": null,
      "grid_column": null,
      "grid_gap": null,
      "grid_row": null,
      "grid_template_areas": null,
      "grid_template_columns": null,
      "grid_template_rows": null,
      "height": null,
      "justify_content": null,
      "justify_items": null,
      "left": null,
      "margin": null,
      "max_height": null,
      "max_width": null,
      "min_height": null,
      "min_width": null,
      "object_fit": null,
      "object_position": null,
      "order": null,
      "overflow": null,
      "overflow_x": null,
      "overflow_y": null,
      "padding": null,
      "right": null,
      "top": null,
      "visibility": null,
      "width": null
     }
    },
    "37dcc6fdad6d4a5e8c94ed575a939ba6": {
     "model_module": "@jupyter-widgets/base",
     "model_module_version": "1.2.0",
     "model_name": "LayoutModel",
     "state": {
      "_model_module": "@jupyter-widgets/base",
      "_model_module_version": "1.2.0",
      "_model_name": "LayoutModel",
      "_view_count": null,
      "_view_module": "@jupyter-widgets/base",
      "_view_module_version": "1.2.0",
      "_view_name": "LayoutView",
      "align_content": null,
      "align_items": null,
      "align_self": null,
      "border": null,
      "bottom": null,
      "display": null,
      "flex": null,
      "flex_flow": null,
      "grid_area": null,
      "grid_auto_columns": null,
      "grid_auto_flow": null,
      "grid_auto_rows": null,
      "grid_column": null,
      "grid_gap": null,
      "grid_row": null,
      "grid_template_areas": null,
      "grid_template_columns": null,
      "grid_template_rows": null,
      "height": null,
      "justify_content": null,
      "justify_items": null,
      "left": null,
      "margin": null,
      "max_height": null,
      "max_width": null,
      "min_height": null,
      "min_width": null,
      "object_fit": null,
      "object_position": null,
      "order": null,
      "overflow": null,
      "overflow_x": null,
      "overflow_y": null,
      "padding": null,
      "right": null,
      "top": null,
      "visibility": null,
      "width": null
     }
    },
    "37ff068ff04b4b9f83f1221752d1047d": {
     "model_module": "@jupyter-widgets/base",
     "model_module_version": "1.2.0",
     "model_name": "LayoutModel",
     "state": {
      "_model_module": "@jupyter-widgets/base",
      "_model_module_version": "1.2.0",
      "_model_name": "LayoutModel",
      "_view_count": null,
      "_view_module": "@jupyter-widgets/base",
      "_view_module_version": "1.2.0",
      "_view_name": "LayoutView",
      "align_content": null,
      "align_items": null,
      "align_self": null,
      "border": null,
      "bottom": null,
      "display": null,
      "flex": null,
      "flex_flow": null,
      "grid_area": null,
      "grid_auto_columns": null,
      "grid_auto_flow": null,
      "grid_auto_rows": null,
      "grid_column": null,
      "grid_gap": null,
      "grid_row": null,
      "grid_template_areas": null,
      "grid_template_columns": null,
      "grid_template_rows": null,
      "height": null,
      "justify_content": null,
      "justify_items": null,
      "left": null,
      "margin": null,
      "max_height": null,
      "max_width": null,
      "min_height": null,
      "min_width": null,
      "object_fit": null,
      "object_position": null,
      "order": null,
      "overflow": null,
      "overflow_x": null,
      "overflow_y": null,
      "padding": null,
      "right": null,
      "top": null,
      "visibility": null,
      "width": null
     }
    },
    "442086c893e94eaba3c4e117dc1fcddf": {
     "model_module": "@jupyter-widgets/controls",
     "model_module_version": "1.5.0",
     "model_name": "ProgressStyleModel",
     "state": {
      "_model_module": "@jupyter-widgets/controls",
      "_model_module_version": "1.5.0",
      "_model_name": "ProgressStyleModel",
      "_view_count": null,
      "_view_module": "@jupyter-widgets/base",
      "_view_module_version": "1.2.0",
      "_view_name": "StyleView",
      "bar_color": null,
      "description_width": ""
     }
    },
    "47f4a57313264b498d441ecdaf203700": {
     "model_module": "@jupyter-widgets/controls",
     "model_module_version": "1.5.0",
     "model_name": "HBoxModel",
     "state": {
      "_dom_classes": [],
      "_model_module": "@jupyter-widgets/controls",
      "_model_module_version": "1.5.0",
      "_model_name": "HBoxModel",
      "_view_count": null,
      "_view_module": "@jupyter-widgets/controls",
      "_view_module_version": "1.5.0",
      "_view_name": "HBoxView",
      "box_style": "",
      "children": [
       "IPY_MODEL_d54473e003ea4b7ea0a6578f6311b6d7",
       "IPY_MODEL_dce7fec9cba44b12832635c70fd538af",
       "IPY_MODEL_d1e47ee29b29457fac8bdafc1e9740c2"
      ],
      "layout": "IPY_MODEL_14e8dd8e402144b3b8755584ec4cf538"
     }
    },
    "4cb8358e945b43499833d5927851e725": {
     "model_module": "@jupyter-widgets/controls",
     "model_module_version": "1.5.0",
     "model_name": "ProgressStyleModel",
     "state": {
      "_model_module": "@jupyter-widgets/controls",
      "_model_module_version": "1.5.0",
      "_model_name": "ProgressStyleModel",
      "_view_count": null,
      "_view_module": "@jupyter-widgets/base",
      "_view_module_version": "1.2.0",
      "_view_name": "StyleView",
      "bar_color": null,
      "description_width": ""
     }
    },
    "4e54a84fc1144102a95d6b2a6ab42a77": {
     "model_module": "@jupyter-widgets/controls",
     "model_module_version": "1.5.0",
     "model_name": "HTMLModel",
     "state": {
      "_dom_classes": [],
      "_model_module": "@jupyter-widgets/controls",
      "_model_module_version": "1.5.0",
      "_model_name": "HTMLModel",
      "_view_count": null,
      "_view_module": "@jupyter-widgets/controls",
      "_view_module_version": "1.5.0",
      "_view_name": "HTMLView",
      "description": "",
      "description_tooltip": null,
      "layout": "IPY_MODEL_95e1020181b8494dbd65600333a1dc54",
      "placeholder": "​",
      "style": "IPY_MODEL_eb6b46c8d4b3431899ed8e754c3d07a5",
      "value": "train-00000-of-00001.parquet: 100%"
     }
    },
    "518473d60fd44ab3a176ea49f1f6e291": {
     "model_module": "@jupyter-widgets/controls",
     "model_module_version": "1.5.0",
     "model_name": "FloatProgressModel",
     "state": {
      "_dom_classes": [],
      "_model_module": "@jupyter-widgets/controls",
      "_model_module_version": "1.5.0",
      "_model_name": "FloatProgressModel",
      "_view_count": null,
      "_view_module": "@jupyter-widgets/controls",
      "_view_module_version": "1.5.0",
      "_view_name": "ProgressView",
      "bar_style": "success",
      "description": "",
      "description_tooltip": null,
      "layout": "IPY_MODEL_fab1b1e49b454642aaf08506676a0182",
      "max": 7473,
      "min": 0,
      "orientation": "horizontal",
      "style": "IPY_MODEL_917ae4c008084d5eb48016a1fc58bd2b",
      "value": 7473
     }
    },
    "51f19e2792454b86a98b72718619eea0": {
     "model_module": "@jupyter-widgets/controls",
     "model_module_version": "1.5.0",
     "model_name": "DescriptionStyleModel",
     "state": {
      "_model_module": "@jupyter-widgets/controls",
      "_model_module_version": "1.5.0",
      "_model_name": "DescriptionStyleModel",
      "_view_count": null,
      "_view_module": "@jupyter-widgets/base",
      "_view_module_version": "1.2.0",
      "_view_name": "StyleView",
      "description_width": ""
     }
    },
    "587802ca722f46d28d9dbdb0c6284806": {
     "model_module": "@jupyter-widgets/base",
     "model_module_version": "1.2.0",
     "model_name": "LayoutModel",
     "state": {
      "_model_module": "@jupyter-widgets/base",
      "_model_module_version": "1.2.0",
      "_model_name": "LayoutModel",
      "_view_count": null,
      "_view_module": "@jupyter-widgets/base",
      "_view_module_version": "1.2.0",
      "_view_name": "LayoutView",
      "align_content": null,
      "align_items": null,
      "align_self": null,
      "border": null,
      "bottom": null,
      "display": null,
      "flex": null,
      "flex_flow": null,
      "grid_area": null,
      "grid_auto_columns": null,
      "grid_auto_flow": null,
      "grid_auto_rows": null,
      "grid_column": null,
      "grid_gap": null,
      "grid_row": null,
      "grid_template_areas": null,
      "grid_template_columns": null,
      "grid_template_rows": null,
      "height": null,
      "justify_content": null,
      "justify_items": null,
      "left": null,
      "margin": null,
      "max_height": null,
      "max_width": null,
      "min_height": null,
      "min_width": null,
      "object_fit": null,
      "object_position": null,
      "order": null,
      "overflow": null,
      "overflow_x": null,
      "overflow_y": null,
      "padding": null,
      "right": null,
      "top": null,
      "visibility": null,
      "width": null
     }
    },
    "5a85574ae25a4dc9910136b29903d256": {
     "model_module": "@jupyter-widgets/controls",
     "model_module_version": "1.5.0",
     "model_name": "ProgressStyleModel",
     "state": {
      "_model_module": "@jupyter-widgets/controls",
      "_model_module_version": "1.5.0",
      "_model_name": "ProgressStyleModel",
      "_view_count": null,
      "_view_module": "@jupyter-widgets/base",
      "_view_module_version": "1.2.0",
      "_view_name": "StyleView",
      "bar_color": null,
      "description_width": ""
     }
    },
    "5ad66c7663e44fd480395abea91cdb93": {
     "model_module": "@jupyter-widgets/base",
     "model_module_version": "1.2.0",
     "model_name": "LayoutModel",
     "state": {
      "_model_module": "@jupyter-widgets/base",
      "_model_module_version": "1.2.0",
      "_model_name": "LayoutModel",
      "_view_count": null,
      "_view_module": "@jupyter-widgets/base",
      "_view_module_version": "1.2.0",
      "_view_name": "LayoutView",
      "align_content": null,
      "align_items": null,
      "align_self": null,
      "border": null,
      "bottom": null,
      "display": null,
      "flex": null,
      "flex_flow": null,
      "grid_area": null,
      "grid_auto_columns": null,
      "grid_auto_flow": null,
      "grid_auto_rows": null,
      "grid_column": null,
      "grid_gap": null,
      "grid_row": null,
      "grid_template_areas": null,
      "grid_template_columns": null,
      "grid_template_rows": null,
      "height": null,
      "justify_content": null,
      "justify_items": null,
      "left": null,
      "margin": null,
      "max_height": null,
      "max_width": null,
      "min_height": null,
      "min_width": null,
      "object_fit": null,
      "object_position": null,
      "order": null,
      "overflow": null,
      "overflow_x": null,
      "overflow_y": null,
      "padding": null,
      "right": null,
      "top": null,
      "visibility": null,
      "width": null
     }
    },
    "5c75c6f589584190aceb8b090fa526f1": {
     "model_module": "@jupyter-widgets/base",
     "model_module_version": "1.2.0",
     "model_name": "LayoutModel",
     "state": {
      "_model_module": "@jupyter-widgets/base",
      "_model_module_version": "1.2.0",
      "_model_name": "LayoutModel",
      "_view_count": null,
      "_view_module": "@jupyter-widgets/base",
      "_view_module_version": "1.2.0",
      "_view_name": "LayoutView",
      "align_content": null,
      "align_items": null,
      "align_self": null,
      "border": null,
      "bottom": null,
      "display": null,
      "flex": null,
      "flex_flow": null,
      "grid_area": null,
      "grid_auto_columns": null,
      "grid_auto_flow": null,
      "grid_auto_rows": null,
      "grid_column": null,
      "grid_gap": null,
      "grid_row": null,
      "grid_template_areas": null,
      "grid_template_columns": null,
      "grid_template_rows": null,
      "height": null,
      "justify_content": null,
      "justify_items": null,
      "left": null,
      "margin": null,
      "max_height": null,
      "max_width": null,
      "min_height": null,
      "min_width": null,
      "object_fit": null,
      "object_position": null,
      "order": null,
      "overflow": null,
      "overflow_x": null,
      "overflow_y": null,
      "padding": null,
      "right": null,
      "top": null,
      "visibility": null,
      "width": null
     }
    },
    "5ce9970ee69c4d3dbf3881d863c8a354": {
     "model_module": "@jupyter-widgets/base",
     "model_module_version": "1.2.0",
     "model_name": "LayoutModel",
     "state": {
      "_model_module": "@jupyter-widgets/base",
      "_model_module_version": "1.2.0",
      "_model_name": "LayoutModel",
      "_view_count": null,
      "_view_module": "@jupyter-widgets/base",
      "_view_module_version": "1.2.0",
      "_view_name": "LayoutView",
      "align_content": null,
      "align_items": null,
      "align_self": null,
      "border": null,
      "bottom": null,
      "display": null,
      "flex": null,
      "flex_flow": null,
      "grid_area": null,
      "grid_auto_columns": null,
      "grid_auto_flow": null,
      "grid_auto_rows": null,
      "grid_column": null,
      "grid_gap": null,
      "grid_row": null,
      "grid_template_areas": null,
      "grid_template_columns": null,
      "grid_template_rows": null,
      "height": null,
      "justify_content": null,
      "justify_items": null,
      "left": null,
      "margin": null,
      "max_height": null,
      "max_width": null,
      "min_height": null,
      "min_width": null,
      "object_fit": null,
      "object_position": null,
      "order": null,
      "overflow": null,
      "overflow_x": null,
      "overflow_y": null,
      "padding": null,
      "right": null,
      "top": null,
      "visibility": null,
      "width": null
     }
    },
    "5d96ae9f72734778a9aef19c8f030cec": {
     "model_module": "@jupyter-widgets/base",
     "model_module_version": "1.2.0",
     "model_name": "LayoutModel",
     "state": {
      "_model_module": "@jupyter-widgets/base",
      "_model_module_version": "1.2.0",
      "_model_name": "LayoutModel",
      "_view_count": null,
      "_view_module": "@jupyter-widgets/base",
      "_view_module_version": "1.2.0",
      "_view_name": "LayoutView",
      "align_content": null,
      "align_items": null,
      "align_self": null,
      "border": null,
      "bottom": null,
      "display": null,
      "flex": null,
      "flex_flow": null,
      "grid_area": null,
      "grid_auto_columns": null,
      "grid_auto_flow": null,
      "grid_auto_rows": null,
      "grid_column": null,
      "grid_gap": null,
      "grid_row": null,
      "grid_template_areas": null,
      "grid_template_columns": null,
      "grid_template_rows": null,
      "height": null,
      "justify_content": null,
      "justify_items": null,
      "left": null,
      "margin": null,
      "max_height": null,
      "max_width": null,
      "min_height": null,
      "min_width": null,
      "object_fit": null,
      "object_position": null,
      "order": null,
      "overflow": null,
      "overflow_x": null,
      "overflow_y": null,
      "padding": null,
      "right": null,
      "top": null,
      "visibility": null,
      "width": null
     }
    },
    "5ea755ac7bec4fdfbb39f654bdb73f8c": {
     "model_module": "@jupyter-widgets/controls",
     "model_module_version": "1.5.0",
     "model_name": "HTMLModel",
     "state": {
      "_dom_classes": [],
      "_model_module": "@jupyter-widgets/controls",
      "_model_module_version": "1.5.0",
      "_model_name": "HTMLModel",
      "_view_count": null,
      "_view_module": "@jupyter-widgets/controls",
      "_view_module_version": "1.5.0",
      "_view_name": "HTMLView",
      "description": "",
      "description_tooltip": null,
      "layout": "IPY_MODEL_baf6584f6dbc44e8a2590c1b137c0014",
      "placeholder": "​",
      "style": "IPY_MODEL_c965c166ca8542e4a7875710bfc2e198",
      "value": " 454/454 [00:00&lt;00:00, 25.7kB/s]"
     }
    },
    "651da32bfe134cf9845fa318cf04e716": {
     "model_module": "@jupyter-widgets/controls",
     "model_module_version": "1.5.0",
     "model_name": "DescriptionStyleModel",
     "state": {
      "_model_module": "@jupyter-widgets/controls",
      "_model_module_version": "1.5.0",
      "_model_name": "DescriptionStyleModel",
      "_view_count": null,
      "_view_module": "@jupyter-widgets/base",
      "_view_module_version": "1.2.0",
      "_view_name": "StyleView",
      "description_width": ""
     }
    },
    "68d62e278599468488378f0d27e8c328": {
     "model_module": "@jupyter-widgets/controls",
     "model_module_version": "1.5.0",
     "model_name": "DescriptionStyleModel",
     "state": {
      "_model_module": "@jupyter-widgets/controls",
      "_model_module_version": "1.5.0",
      "_model_name": "DescriptionStyleModel",
      "_view_count": null,
      "_view_module": "@jupyter-widgets/base",
      "_view_module_version": "1.2.0",
      "_view_name": "StyleView",
      "description_width": ""
     }
    },
    "6b6833ce1b494e679ff2b3d83762896b": {
     "model_module": "@jupyter-widgets/base",
     "model_module_version": "1.2.0",
     "model_name": "LayoutModel",
     "state": {
      "_model_module": "@jupyter-widgets/base",
      "_model_module_version": "1.2.0",
      "_model_name": "LayoutModel",
      "_view_count": null,
      "_view_module": "@jupyter-widgets/base",
      "_view_module_version": "1.2.0",
      "_view_name": "LayoutView",
      "align_content": null,
      "align_items": null,
      "align_self": null,
      "border": null,
      "bottom": null,
      "display": null,
      "flex": null,
      "flex_flow": null,
      "grid_area": null,
      "grid_auto_columns": null,
      "grid_auto_flow": null,
      "grid_auto_rows": null,
      "grid_column": null,
      "grid_gap": null,
      "grid_row": null,
      "grid_template_areas": null,
      "grid_template_columns": null,
      "grid_template_rows": null,
      "height": null,
      "justify_content": null,
      "justify_items": null,
      "left": null,
      "margin": null,
      "max_height": null,
      "max_width": null,
      "min_height": null,
      "min_width": null,
      "object_fit": null,
      "object_position": null,
      "order": null,
      "overflow": null,
      "overflow_x": null,
      "overflow_y": null,
      "padding": null,
      "right": null,
      "top": null,
      "visibility": null,
      "width": null
     }
    },
    "6b9ec0dac1a74172b4f949d93de287ed": {
     "model_module": "@jupyter-widgets/base",
     "model_module_version": "1.2.0",
     "model_name": "LayoutModel",
     "state": {
      "_model_module": "@jupyter-widgets/base",
      "_model_module_version": "1.2.0",
      "_model_name": "LayoutModel",
      "_view_count": null,
      "_view_module": "@jupyter-widgets/base",
      "_view_module_version": "1.2.0",
      "_view_name": "LayoutView",
      "align_content": null,
      "align_items": null,
      "align_self": null,
      "border": null,
      "bottom": null,
      "display": null,
      "flex": null,
      "flex_flow": null,
      "grid_area": null,
      "grid_auto_columns": null,
      "grid_auto_flow": null,
      "grid_auto_rows": null,
      "grid_column": null,
      "grid_gap": null,
      "grid_row": null,
      "grid_template_areas": null,
      "grid_template_columns": null,
      "grid_template_rows": null,
      "height": null,
      "justify_content": null,
      "justify_items": null,
      "left": null,
      "margin": null,
      "max_height": null,
      "max_width": null,
      "min_height": null,
      "min_width": null,
      "object_fit": null,
      "object_position": null,
      "order": null,
      "overflow": null,
      "overflow_x": null,
      "overflow_y": null,
      "padding": null,
      "right": null,
      "top": null,
      "visibility": null,
      "width": null
     }
    },
    "6ea2f52e36b84bde93bda43afac77ccd": {
     "model_module": "@jupyter-widgets/base",
     "model_module_version": "1.2.0",
     "model_name": "LayoutModel",
     "state": {
      "_model_module": "@jupyter-widgets/base",
      "_model_module_version": "1.2.0",
      "_model_name": "LayoutModel",
      "_view_count": null,
      "_view_module": "@jupyter-widgets/base",
      "_view_module_version": "1.2.0",
      "_view_name": "LayoutView",
      "align_content": null,
      "align_items": null,
      "align_self": null,
      "border": null,
      "bottom": null,
      "display": null,
      "flex": null,
      "flex_flow": null,
      "grid_area": null,
      "grid_auto_columns": null,
      "grid_auto_flow": null,
      "grid_auto_rows": null,
      "grid_column": null,
      "grid_gap": null,
      "grid_row": null,
      "grid_template_areas": null,
      "grid_template_columns": null,
      "grid_template_rows": null,
      "height": null,
      "justify_content": null,
      "justify_items": null,
      "left": null,
      "margin": null,
      "max_height": null,
      "max_width": null,
      "min_height": null,
      "min_width": null,
      "object_fit": null,
      "object_position": null,
      "order": null,
      "overflow": null,
      "overflow_x": null,
      "overflow_y": null,
      "padding": null,
      "right": null,
      "top": null,
      "visibility": null,
      "width": null
     }
    },
    "70089eca200841768ea64ec33c1b5d94": {
     "model_module": "@jupyter-widgets/controls",
     "model_module_version": "1.5.0",
     "model_name": "HTMLModel",
     "state": {
      "_dom_classes": [],
      "_model_module": "@jupyter-widgets/controls",
      "_model_module_version": "1.5.0",
      "_model_name": "HTMLModel",
      "_view_count": null,
      "_view_module": "@jupyter-widgets/controls",
      "_view_module_version": "1.5.0",
      "_view_name": "HTMLView",
      "description": "",
      "description_tooltip": null,
      "layout": "IPY_MODEL_03ddc69226b349bebf7bb3ebe78ca01f",
      "placeholder": "​",
      "style": "IPY_MODEL_c18abc503cd64f11b263f0922e562009",
      "value": " 2.31M/2.31M [00:00&lt;00:00, 46.4MB/s]"
     }
    },
    "79b9037619a94baea5487d7b66d472f3": {
     "model_module": "@jupyter-widgets/controls",
     "model_module_version": "1.5.0",
     "model_name": "FloatProgressModel",
     "state": {
      "_dom_classes": [],
      "_model_module": "@jupyter-widgets/controls",
      "_model_module_version": "1.5.0",
      "_model_name": "FloatProgressModel",
      "_view_count": null,
      "_view_module": "@jupyter-widgets/controls",
      "_view_module_version": "1.5.0",
      "_view_name": "ProgressView",
      "bar_style": "success",
      "description": "",
      "description_tooltip": null,
      "layout": "IPY_MODEL_5ad66c7663e44fd480395abea91cdb93",
      "max": 234,
      "min": 0,
      "orientation": "horizontal",
      "style": "IPY_MODEL_082f5017a8c64bd8b1c11d4f0f405f59",
      "value": 234
     }
    },
    "7d835c098d374be69351e85d399187b6": {
     "model_module": "@jupyter-widgets/base",
     "model_module_version": "1.2.0",
     "model_name": "LayoutModel",
     "state": {
      "_model_module": "@jupyter-widgets/base",
      "_model_module_version": "1.2.0",
      "_model_name": "LayoutModel",
      "_view_count": null,
      "_view_module": "@jupyter-widgets/base",
      "_view_module_version": "1.2.0",
      "_view_name": "LayoutView",
      "align_content": null,
      "align_items": null,
      "align_self": null,
      "border": null,
      "bottom": null,
      "display": null,
      "flex": null,
      "flex_flow": null,
      "grid_area": null,
      "grid_auto_columns": null,
      "grid_auto_flow": null,
      "grid_auto_rows": null,
      "grid_column": null,
      "grid_gap": null,
      "grid_row": null,
      "grid_template_areas": null,
      "grid_template_columns": null,
      "grid_template_rows": null,
      "height": null,
      "justify_content": null,
      "justify_items": null,
      "left": null,
      "margin": null,
      "max_height": null,
      "max_width": null,
      "min_height": null,
      "min_width": null,
      "object_fit": null,
      "object_position": null,
      "order": null,
      "overflow": null,
      "overflow_x": null,
      "overflow_y": null,
      "padding": null,
      "right": null,
      "top": null,
      "visibility": null,
      "width": null
     }
    },
    "82b121f88ade49d5b64ccf179f79aa4b": {
     "model_module": "@jupyter-widgets/controls",
     "model_module_version": "1.5.0",
     "model_name": "FloatProgressModel",
     "state": {
      "_dom_classes": [],
      "_model_module": "@jupyter-widgets/controls",
      "_model_module_version": "1.5.0",
      "_model_name": "FloatProgressModel",
      "_view_count": null,
      "_view_module": "@jupyter-widgets/controls",
      "_view_module_version": "1.5.0",
      "_view_name": "ProgressView",
      "bar_style": "success",
      "description": "",
      "description_tooltip": null,
      "layout": "IPY_MODEL_bc38191cb5a84c9d825b133f78b40ca9",
      "max": 419088,
      "min": 0,
      "orientation": "horizontal",
      "style": "IPY_MODEL_442086c893e94eaba3c4e117dc1fcddf",
      "value": 419088
     }
    },
    "83a4fb5c98c74ed2be7567f0036b7371": {
     "model_module": "@jupyter-widgets/controls",
     "model_module_version": "1.5.0",
     "model_name": "ProgressStyleModel",
     "state": {
      "_model_module": "@jupyter-widgets/controls",
      "_model_module_version": "1.5.0",
      "_model_name": "ProgressStyleModel",
      "_view_count": null,
      "_view_module": "@jupyter-widgets/base",
      "_view_module_version": "1.2.0",
      "_view_name": "StyleView",
      "bar_color": null,
      "description_width": ""
     }
    },
    "84b172e4aa5a488a8461c1decf53ab51": {
     "model_module": "@jupyter-widgets/controls",
     "model_module_version": "1.5.0",
     "model_name": "DescriptionStyleModel",
     "state": {
      "_model_module": "@jupyter-widgets/controls",
      "_model_module_version": "1.5.0",
      "_model_name": "DescriptionStyleModel",
      "_view_count": null,
      "_view_module": "@jupyter-widgets/base",
      "_view_module_version": "1.2.0",
      "_view_name": "StyleView",
      "description_width": ""
     }
    },
    "86849434a00f46db99407be1938ebfd6": {
     "model_module": "@jupyter-widgets/base",
     "model_module_version": "1.2.0",
     "model_name": "LayoutModel",
     "state": {
      "_model_module": "@jupyter-widgets/base",
      "_model_module_version": "1.2.0",
      "_model_name": "LayoutModel",
      "_view_count": null,
      "_view_module": "@jupyter-widgets/base",
      "_view_module_version": "1.2.0",
      "_view_name": "LayoutView",
      "align_content": null,
      "align_items": null,
      "align_self": null,
      "border": null,
      "bottom": null,
      "display": null,
      "flex": null,
      "flex_flow": null,
      "grid_area": null,
      "grid_auto_columns": null,
      "grid_auto_flow": null,
      "grid_auto_rows": null,
      "grid_column": null,
      "grid_gap": null,
      "grid_row": null,
      "grid_template_areas": null,
      "grid_template_columns": null,
      "grid_template_rows": null,
      "height": null,
      "justify_content": null,
      "justify_items": null,
      "left": null,
      "margin": null,
      "max_height": null,
      "max_width": null,
      "min_height": null,
      "min_width": null,
      "object_fit": null,
      "object_position": null,
      "order": null,
      "overflow": null,
      "overflow_x": null,
      "overflow_y": null,
      "padding": null,
      "right": null,
      "top": null,
      "visibility": null,
      "width": null
     }
    },
    "898a561ff98240ae90e8ee8a671fd031": {
     "model_module": "@jupyter-widgets/controls",
     "model_module_version": "1.5.0",
     "model_name": "FloatProgressModel",
     "state": {
      "_dom_classes": [],
      "_model_module": "@jupyter-widgets/controls",
      "_model_module_version": "1.5.0",
      "_model_name": "FloatProgressModel",
      "_view_count": null,
      "_view_module": "@jupyter-widgets/controls",
      "_view_module_version": "1.5.0",
      "_view_name": "ProgressView",
      "bar_style": "success",
      "description": "",
      "description_tooltip": null,
      "layout": "IPY_MODEL_8a316d6a3f604cc7a8df85ebb9429589",
      "max": 1319,
      "min": 0,
      "orientation": "horizontal",
      "style": "IPY_MODEL_8f0dc8bf7cc74e84a73381f94cc04227",
      "value": 1319
     }
    },
    "8a316d6a3f604cc7a8df85ebb9429589": {
     "model_module": "@jupyter-widgets/base",
     "model_module_version": "1.2.0",
     "model_name": "LayoutModel",
     "state": {
      "_model_module": "@jupyter-widgets/base",
      "_model_module_version": "1.2.0",
      "_model_name": "LayoutModel",
      "_view_count": null,
      "_view_module": "@jupyter-widgets/base",
      "_view_module_version": "1.2.0",
      "_view_name": "LayoutView",
      "align_content": null,
      "align_items": null,
      "align_self": null,
      "border": null,
      "bottom": null,
      "display": null,
      "flex": null,
      "flex_flow": null,
      "grid_area": null,
      "grid_auto_columns": null,
      "grid_auto_flow": null,
      "grid_auto_rows": null,
      "grid_column": null,
      "grid_gap": null,
      "grid_row": null,
      "grid_template_areas": null,
      "grid_template_columns": null,
      "grid_template_rows": null,
      "height": null,
      "justify_content": null,
      "justify_items": null,
      "left": null,
      "margin": null,
      "max_height": null,
      "max_width": null,
      "min_height": null,
      "min_width": null,
      "object_fit": null,
      "object_position": null,
      "order": null,
      "overflow": null,
      "overflow_x": null,
      "overflow_y": null,
      "padding": null,
      "right": null,
      "top": null,
      "visibility": null,
      "width": null
     }
    },
    "8d63425a627b4d798185acb59d5f361f": {
     "model_module": "@jupyter-widgets/controls",
     "model_module_version": "1.5.0",
     "model_name": "HTMLModel",
     "state": {
      "_dom_classes": [],
      "_model_module": "@jupyter-widgets/controls",
      "_model_module_version": "1.5.0",
      "_model_name": "HTMLModel",
      "_view_count": null,
      "_view_module": "@jupyter-widgets/controls",
      "_view_module_version": "1.5.0",
      "_view_name": "HTMLView",
      "description": "",
      "description_tooltip": null,
      "layout": "IPY_MODEL_c7daaf5ee66a4688a1595efd926d31ce",
      "placeholder": "​",
      "style": "IPY_MODEL_cee881f0e3d14a64b71542b0b57bb97c",
      "value": " 7.94k/7.94k [00:00&lt;00:00, 498kB/s]"
     }
    },
    "8f0dc8bf7cc74e84a73381f94cc04227": {
     "model_module": "@jupyter-widgets/controls",
     "model_module_version": "1.5.0",
     "model_name": "ProgressStyleModel",
     "state": {
      "_model_module": "@jupyter-widgets/controls",
      "_model_module_version": "1.5.0",
      "_model_name": "ProgressStyleModel",
      "_view_count": null,
      "_view_module": "@jupyter-widgets/base",
      "_view_module_version": "1.2.0",
      "_view_name": "StyleView",
      "bar_color": null,
      "description_width": ""
     }
    },
    "9142be3b09d14e108552b0dbf66d6bf4": {
     "model_module": "@jupyter-widgets/controls",
     "model_module_version": "1.5.0",
     "model_name": "ProgressStyleModel",
     "state": {
      "_model_module": "@jupyter-widgets/controls",
      "_model_module_version": "1.5.0",
      "_model_name": "ProgressStyleModel",
      "_view_count": null,
      "_view_module": "@jupyter-widgets/base",
      "_view_module_version": "1.2.0",
      "_view_name": "StyleView",
      "bar_color": null,
      "description_width": ""
     }
    },
    "917ae4c008084d5eb48016a1fc58bd2b": {
     "model_module": "@jupyter-widgets/controls",
     "model_module_version": "1.5.0",
     "model_name": "ProgressStyleModel",
     "state": {
      "_model_module": "@jupyter-widgets/controls",
      "_model_module_version": "1.5.0",
      "_model_name": "ProgressStyleModel",
      "_view_count": null,
      "_view_module": "@jupyter-widgets/base",
      "_view_module_version": "1.2.0",
      "_view_name": "StyleView",
      "bar_color": null,
      "description_width": ""
     }
    },
    "950173ed4ad5430b93f8ae5fcc52967c": {
     "model_module": "@jupyter-widgets/base",
     "model_module_version": "1.2.0",
     "model_name": "LayoutModel",
     "state": {
      "_model_module": "@jupyter-widgets/base",
      "_model_module_version": "1.2.0",
      "_model_name": "LayoutModel",
      "_view_count": null,
      "_view_module": "@jupyter-widgets/base",
      "_view_module_version": "1.2.0",
      "_view_name": "LayoutView",
      "align_content": null,
      "align_items": null,
      "align_self": null,
      "border": null,
      "bottom": null,
      "display": null,
      "flex": null,
      "flex_flow": null,
      "grid_area": null,
      "grid_auto_columns": null,
      "grid_auto_flow": null,
      "grid_auto_rows": null,
      "grid_column": null,
      "grid_gap": null,
      "grid_row": null,
      "grid_template_areas": null,
      "grid_template_columns": null,
      "grid_template_rows": null,
      "height": null,
      "justify_content": null,
      "justify_items": null,
      "left": null,
      "margin": null,
      "max_height": null,
      "max_width": null,
      "min_height": null,
      "min_width": null,
      "object_fit": null,
      "object_position": null,
      "order": null,
      "overflow": null,
      "overflow_x": null,
      "overflow_y": null,
      "padding": null,
      "right": null,
      "top": null,
      "visibility": null,
      "width": null
     }
    },
    "95e1020181b8494dbd65600333a1dc54": {
     "model_module": "@jupyter-widgets/base",
     "model_module_version": "1.2.0",
     "model_name": "LayoutModel",
     "state": {
      "_model_module": "@jupyter-widgets/base",
      "_model_module_version": "1.2.0",
      "_model_name": "LayoutModel",
      "_view_count": null,
      "_view_module": "@jupyter-widgets/base",
      "_view_module_version": "1.2.0",
      "_view_name": "LayoutView",
      "align_content": null,
      "align_items": null,
      "align_self": null,
      "border": null,
      "bottom": null,
      "display": null,
      "flex": null,
      "flex_flow": null,
      "grid_area": null,
      "grid_auto_columns": null,
      "grid_auto_flow": null,
      "grid_auto_rows": null,
      "grid_column": null,
      "grid_gap": null,
      "grid_row": null,
      "grid_template_areas": null,
      "grid_template_columns": null,
      "grid_template_rows": null,
      "height": null,
      "justify_content": null,
      "justify_items": null,
      "left": null,
      "margin": null,
      "max_height": null,
      "max_width": null,
      "min_height": null,
      "min_width": null,
      "object_fit": null,
      "object_position": null,
      "order": null,
      "overflow": null,
      "overflow_x": null,
      "overflow_y": null,
      "padding": null,
      "right": null,
      "top": null,
      "visibility": null,
      "width": null
     }
    },
    "984446109cc1470780c356b9988aa60c": {
     "model_module": "@jupyter-widgets/controls",
     "model_module_version": "1.5.0",
     "model_name": "DescriptionStyleModel",
     "state": {
      "_model_module": "@jupyter-widgets/controls",
      "_model_module_version": "1.5.0",
      "_model_name": "DescriptionStyleModel",
      "_view_count": null,
      "_view_module": "@jupyter-widgets/base",
      "_view_module_version": "1.2.0",
      "_view_name": "StyleView",
      "description_width": ""
     }
    },
    "9a4c61e162d9499790d41b6cc92b5b81": {
     "model_module": "@jupyter-widgets/base",
     "model_module_version": "1.2.0",
     "model_name": "LayoutModel",
     "state": {
      "_model_module": "@jupyter-widgets/base",
      "_model_module_version": "1.2.0",
      "_model_name": "LayoutModel",
      "_view_count": null,
      "_view_module": "@jupyter-widgets/base",
      "_view_module_version": "1.2.0",
      "_view_name": "LayoutView",
      "align_content": null,
      "align_items": null,
      "align_self": null,
      "border": null,
      "bottom": null,
      "display": null,
      "flex": null,
      "flex_flow": null,
      "grid_area": null,
      "grid_auto_columns": null,
      "grid_auto_flow": null,
      "grid_auto_rows": null,
      "grid_column": null,
      "grid_gap": null,
      "grid_row": null,
      "grid_template_areas": null,
      "grid_template_columns": null,
      "grid_template_rows": null,
      "height": null,
      "justify_content": null,
      "justify_items": null,
      "left": null,
      "margin": null,
      "max_height": null,
      "max_width": null,
      "min_height": null,
      "min_width": null,
      "object_fit": null,
      "object_position": null,
      "order": null,
      "overflow": null,
      "overflow_x": null,
      "overflow_y": null,
      "padding": null,
      "right": null,
      "top": null,
      "visibility": null,
      "width": null
     }
    },
    "a0de0976617647caaeaf03d01cd4f275": {
     "model_module": "@jupyter-widgets/controls",
     "model_module_version": "1.5.0",
     "model_name": "HTMLModel",
     "state": {
      "_dom_classes": [],
      "_model_module": "@jupyter-widgets/controls",
      "_model_module_version": "1.5.0",
      "_model_name": "HTMLModel",
      "_view_count": null,
      "_view_module": "@jupyter-widgets/controls",
      "_view_module_version": "1.5.0",
      "_view_name": "HTMLView",
      "description": "",
      "description_tooltip": null,
      "layout": "IPY_MODEL_6ea2f52e36b84bde93bda43afac77ccd",
      "placeholder": "​",
      "style": "IPY_MODEL_a1a747d019cf481d9acc0fcb650dedb8",
      "value": " 1319/1319 [00:00&lt;00:00, 40370.16 examples/s]"
     }
    },
    "a1a747d019cf481d9acc0fcb650dedb8": {
     "model_module": "@jupyter-widgets/controls",
     "model_module_version": "1.5.0",
     "model_name": "DescriptionStyleModel",
     "state": {
      "_model_module": "@jupyter-widgets/controls",
      "_model_module_version": "1.5.0",
      "_model_name": "DescriptionStyleModel",
      "_view_count": null,
      "_view_module": "@jupyter-widgets/base",
      "_view_module_version": "1.2.0",
      "_view_name": "StyleView",
      "description_width": ""
     }
    },
    "a2bb5d172d1549cf8e9689d13b65d6ff": {
     "model_module": "@jupyter-widgets/controls",
     "model_module_version": "1.5.0",
     "model_name": "HTMLModel",
     "state": {
      "_dom_classes": [],
      "_model_module": "@jupyter-widgets/controls",
      "_model_module_version": "1.5.0",
      "_model_name": "HTMLModel",
      "_view_count": null,
      "_view_module": "@jupyter-widgets/controls",
      "_view_module_version": "1.5.0",
      "_view_name": "HTMLView",
      "description": "",
      "description_tooltip": null,
      "layout": "IPY_MODEL_7d835c098d374be69351e85d399187b6",
      "placeholder": "​",
      "style": "IPY_MODEL_a2e7b6cc5bc6417dad120958272d15d7",
      "value": " 7473/7473 [00:00&lt;00:00, 8219.81 examples/s]"
     }
    },
    "a2ccbc7f37ee455887f5c3a5dd628897": {
     "model_module": "@jupyter-widgets/controls",
     "model_module_version": "1.5.0",
     "model_name": "DescriptionStyleModel",
     "state": {
      "_model_module": "@jupyter-widgets/controls",
      "_model_module_version": "1.5.0",
      "_model_name": "DescriptionStyleModel",
      "_view_count": null,
      "_view_module": "@jupyter-widgets/base",
      "_view_module_version": "1.2.0",
      "_view_name": "StyleView",
      "description_width": ""
     }
    },
    "a2e7b6cc5bc6417dad120958272d15d7": {
     "model_module": "@jupyter-widgets/controls",
     "model_module_version": "1.5.0",
     "model_name": "DescriptionStyleModel",
     "state": {
      "_model_module": "@jupyter-widgets/controls",
      "_model_module_version": "1.5.0",
      "_model_name": "DescriptionStyleModel",
      "_view_count": null,
      "_view_module": "@jupyter-widgets/base",
      "_view_module_version": "1.2.0",
      "_view_name": "StyleView",
      "description_width": ""
     }
    },
    "a5a3c0b389864cc6bbcaccc3f519dbc5": {
     "model_module": "@jupyter-widgets/base",
     "model_module_version": "1.2.0",
     "model_name": "LayoutModel",
     "state": {
      "_model_module": "@jupyter-widgets/base",
      "_model_module_version": "1.2.0",
      "_model_name": "LayoutModel",
      "_view_count": null,
      "_view_module": "@jupyter-widgets/base",
      "_view_module_version": "1.2.0",
      "_view_name": "LayoutView",
      "align_content": null,
      "align_items": null,
      "align_self": null,
      "border": null,
      "bottom": null,
      "display": null,
      "flex": null,
      "flex_flow": null,
      "grid_area": null,
      "grid_auto_columns": null,
      "grid_auto_flow": null,
      "grid_auto_rows": null,
      "grid_column": null,
      "grid_gap": null,
      "grid_row": null,
      "grid_template_areas": null,
      "grid_template_columns": null,
      "grid_template_rows": null,
      "height": null,
      "justify_content": null,
      "justify_items": null,
      "left": null,
      "margin": null,
      "max_height": null,
      "max_width": null,
      "min_height": null,
      "min_width": null,
      "object_fit": null,
      "object_position": null,
      "order": null,
      "overflow": null,
      "overflow_x": null,
      "overflow_y": null,
      "padding": null,
      "right": null,
      "top": null,
      "visibility": null,
      "width": null
     }
    },
    "a7343f69d34c4017863976dd0d042d81": {
     "model_module": "@jupyter-widgets/base",
     "model_module_version": "1.2.0",
     "model_name": "LayoutModel",
     "state": {
      "_model_module": "@jupyter-widgets/base",
      "_model_module_version": "1.2.0",
      "_model_name": "LayoutModel",
      "_view_count": null,
      "_view_module": "@jupyter-widgets/base",
      "_view_module_version": "1.2.0",
      "_view_name": "LayoutView",
      "align_content": null,
      "align_items": null,
      "align_self": null,
      "border": null,
      "bottom": null,
      "display": null,
      "flex": null,
      "flex_flow": null,
      "grid_area": null,
      "grid_auto_columns": null,
      "grid_auto_flow": null,
      "grid_auto_rows": null,
      "grid_column": null,
      "grid_gap": null,
      "grid_row": null,
      "grid_template_areas": null,
      "grid_template_columns": null,
      "grid_template_rows": null,
      "height": null,
      "justify_content": null,
      "justify_items": null,
      "left": null,
      "margin": null,
      "max_height": null,
      "max_width": null,
      "min_height": null,
      "min_width": null,
      "object_fit": null,
      "object_position": null,
      "order": null,
      "overflow": null,
      "overflow_x": null,
      "overflow_y": null,
      "padding": null,
      "right": null,
      "top": null,
      "visibility": null,
      "width": null
     }
    },
    "a78233d89a92478c91818dff2f67138a": {
     "model_module": "@jupyter-widgets/controls",
     "model_module_version": "1.5.0",
     "model_name": "ProgressStyleModel",
     "state": {
      "_model_module": "@jupyter-widgets/controls",
      "_model_module_version": "1.5.0",
      "_model_name": "ProgressStyleModel",
      "_view_count": null,
      "_view_module": "@jupyter-widgets/base",
      "_view_module_version": "1.2.0",
      "_view_name": "StyleView",
      "bar_color": null,
      "description_width": ""
     }
    },
    "acaad390c905486f886cc4354f2c9a1b": {
     "model_module": "@jupyter-widgets/base",
     "model_module_version": "1.2.0",
     "model_name": "LayoutModel",
     "state": {
      "_model_module": "@jupyter-widgets/base",
      "_model_module_version": "1.2.0",
      "_model_name": "LayoutModel",
      "_view_count": null,
      "_view_module": "@jupyter-widgets/base",
      "_view_module_version": "1.2.0",
      "_view_name": "LayoutView",
      "align_content": null,
      "align_items": null,
      "align_self": null,
      "border": null,
      "bottom": null,
      "display": null,
      "flex": null,
      "flex_flow": null,
      "grid_area": null,
      "grid_auto_columns": null,
      "grid_auto_flow": null,
      "grid_auto_rows": null,
      "grid_column": null,
      "grid_gap": null,
      "grid_row": null,
      "grid_template_areas": null,
      "grid_template_columns": null,
      "grid_template_rows": null,
      "height": null,
      "justify_content": null,
      "justify_items": null,
      "left": null,
      "margin": null,
      "max_height": null,
      "max_width": null,
      "min_height": null,
      "min_width": null,
      "object_fit": null,
      "object_position": null,
      "order": null,
      "overflow": null,
      "overflow_x": null,
      "overflow_y": null,
      "padding": null,
      "right": null,
      "top": null,
      "visibility": null,
      "width": null
     }
    },
    "acdd429a1e5e4ac7955b4fb0c82768c3": {
     "model_module": "@jupyter-widgets/controls",
     "model_module_version": "1.5.0",
     "model_name": "HTMLModel",
     "state": {
      "_dom_classes": [],
      "_model_module": "@jupyter-widgets/controls",
      "_model_module_version": "1.5.0",
      "_model_name": "HTMLModel",
      "_view_count": null,
      "_view_module": "@jupyter-widgets/controls",
      "_view_module_version": "1.5.0",
      "_view_name": "HTMLView",
      "description": "",
      "description_tooltip": null,
      "layout": "IPY_MODEL_1e67985ae7e249db813d35f9da7d4ae8",
      "placeholder": "​",
      "style": "IPY_MODEL_18cdd1db75664e9cac95ae3b090de00a",
      "value": "Generating test split: 100%"
     }
    },
    "aebcce44c41646ee9471fd356ed84d64": {
     "model_module": "@jupyter-widgets/controls",
     "model_module_version": "1.5.0",
     "model_name": "HTMLModel",
     "state": {
      "_dom_classes": [],
      "_model_module": "@jupyter-widgets/controls",
      "_model_module_version": "1.5.0",
      "_model_name": "HTMLModel",
      "_view_count": null,
      "_view_module": "@jupyter-widgets/controls",
      "_view_module_version": "1.5.0",
      "_view_name": "HTMLView",
      "description": "",
      "description_tooltip": null,
      "layout": "IPY_MODEL_587802ca722f46d28d9dbdb0c6284806",
      "placeholder": "​",
      "style": "IPY_MODEL_cf0b9cdce9ec48aba3af2f4719e1d232",
      "value": "Generating train split: 100%"
     }
    },
    "aff39f283df241c8abb65ff7b789a107": {
     "model_module": "@jupyter-widgets/base",
     "model_module_version": "1.2.0",
     "model_name": "LayoutModel",
     "state": {
      "_model_module": "@jupyter-widgets/base",
      "_model_module_version": "1.2.0",
      "_model_name": "LayoutModel",
      "_view_count": null,
      "_view_module": "@jupyter-widgets/base",
      "_view_module_version": "1.2.0",
      "_view_name": "LayoutView",
      "align_content": null,
      "align_items": null,
      "align_self": null,
      "border": null,
      "bottom": null,
      "display": null,
      "flex": null,
      "flex_flow": null,
      "grid_area": null,
      "grid_auto_columns": null,
      "grid_auto_flow": null,
      "grid_auto_rows": null,
      "grid_column": null,
      "grid_gap": null,
      "grid_row": null,
      "grid_template_areas": null,
      "grid_template_columns": null,
      "grid_template_rows": null,
      "height": null,
      "justify_content": null,
      "justify_items": null,
      "left": null,
      "margin": null,
      "max_height": null,
      "max_width": null,
      "min_height": null,
      "min_width": null,
      "object_fit": null,
      "object_position": null,
      "order": null,
      "overflow": null,
      "overflow_x": null,
      "overflow_y": null,
      "padding": null,
      "right": null,
      "top": null,
      "visibility": null,
      "width": null
     }
    },
    "b07cb45dfdb64b25bc083a5c7727f18a": {
     "model_module": "@jupyter-widgets/controls",
     "model_module_version": "1.5.0",
     "model_name": "HBoxModel",
     "state": {
      "_dom_classes": [],
      "_model_module": "@jupyter-widgets/controls",
      "_model_module_version": "1.5.0",
      "_model_name": "HBoxModel",
      "_view_count": null,
      "_view_module": "@jupyter-widgets/controls",
      "_view_module_version": "1.5.0",
      "_view_name": "HBoxView",
      "box_style": "",
      "children": [
       "IPY_MODEL_b835edc321f34219b3a37bc07f6c7471",
       "IPY_MODEL_79b9037619a94baea5487d7b66d472f3",
       "IPY_MODEL_13a7a2364e53499db9f29eec0544a5a2"
      ],
      "layout": "IPY_MODEL_950173ed4ad5430b93f8ae5fcc52967c"
     }
    },
    "b41bcee17e33463391b1ca832e2d3c71": {
     "model_module": "@jupyter-widgets/controls",
     "model_module_version": "1.5.0",
     "model_name": "HBoxModel",
     "state": {
      "_dom_classes": [],
      "_model_module": "@jupyter-widgets/controls",
      "_model_module_version": "1.5.0",
      "_model_name": "HBoxModel",
      "_view_count": null,
      "_view_module": "@jupyter-widgets/controls",
      "_view_module_version": "1.5.0",
      "_view_name": "HBoxView",
      "box_style": "",
      "children": [
       "IPY_MODEL_0612843e4d304b9f9bc0c89cea6fbc3c",
       "IPY_MODEL_cf2e2fe63ff0499480f478a2bcaf2a94",
       "IPY_MODEL_caa7f5ccd720495b9af77eeca0294219"
      ],
      "layout": "IPY_MODEL_0846cd64feb44b1fa5fc33b188c0755d"
     }
    },
    "b76f3a70b19d46109c78d492b0327cfa": {
     "model_module": "@jupyter-widgets/controls",
     "model_module_version": "1.5.0",
     "model_name": "HBoxModel",
     "state": {
      "_dom_classes": [],
      "_model_module": "@jupyter-widgets/controls",
      "_model_module_version": "1.5.0",
      "_model_name": "HBoxModel",
      "_view_count": null,
      "_view_module": "@jupyter-widgets/controls",
      "_view_module_version": "1.5.0",
      "_view_name": "HBoxView",
      "box_style": "",
      "children": [
       "IPY_MODEL_0705e7f45edc4501880498aad2c7f06c",
       "IPY_MODEL_db6ec8ae31254d9cb8c6de73f209f93b",
       "IPY_MODEL_8d63425a627b4d798185acb59d5f361f"
      ],
      "layout": "IPY_MODEL_e3c8450ede574352a9b6eff81008b280"
     }
    },
    "b835edc321f34219b3a37bc07f6c7471": {
     "model_module": "@jupyter-widgets/controls",
     "model_module_version": "1.5.0",
     "model_name": "HTMLModel",
     "state": {
      "_dom_classes": [],
      "_model_module": "@jupyter-widgets/controls",
      "_model_module_version": "1.5.0",
      "_model_name": "HTMLModel",
      "_view_count": null,
      "_view_module": "@jupyter-widgets/controls",
      "_view_module_version": "1.5.0",
      "_view_name": "HTMLView",
      "description": "",
      "description_tooltip": null,
      "layout": "IPY_MODEL_6b9ec0dac1a74172b4f949d93de287ed",
      "placeholder": "​",
      "style": "IPY_MODEL_28476c2c0e0f4a83bed551117bc1d1dc",
      "value": "generation_config.json: 100%"
     }
    },
    "baf6584f6dbc44e8a2590c1b137c0014": {
     "model_module": "@jupyter-widgets/base",
     "model_module_version": "1.2.0",
     "model_name": "LayoutModel",
     "state": {
      "_model_module": "@jupyter-widgets/base",
      "_model_module_version": "1.2.0",
      "_model_name": "LayoutModel",
      "_view_count": null,
      "_view_module": "@jupyter-widgets/base",
      "_view_module_version": "1.2.0",
      "_view_name": "LayoutView",
      "align_content": null,
      "align_items": null,
      "align_self": null,
      "border": null,
      "bottom": null,
      "display": null,
      "flex": null,
      "flex_flow": null,
      "grid_area": null,
      "grid_auto_columns": null,
      "grid_auto_flow": null,
      "grid_auto_rows": null,
      "grid_column": null,
      "grid_gap": null,
      "grid_row": null,
      "grid_template_areas": null,
      "grid_template_columns": null,
      "grid_template_rows": null,
      "height": null,
      "justify_content": null,
      "justify_items": null,
      "left": null,
      "margin": null,
      "max_height": null,
      "max_width": null,
      "min_height": null,
      "min_width": null,
      "object_fit": null,
      "object_position": null,
      "order": null,
      "overflow": null,
      "overflow_x": null,
      "overflow_y": null,
      "padding": null,
      "right": null,
      "top": null,
      "visibility": null,
      "width": null
     }
    },
    "bc38191cb5a84c9d825b133f78b40ca9": {
     "model_module": "@jupyter-widgets/base",
     "model_module_version": "1.2.0",
     "model_name": "LayoutModel",
     "state": {
      "_model_module": "@jupyter-widgets/base",
      "_model_module_version": "1.2.0",
      "_model_name": "LayoutModel",
      "_view_count": null,
      "_view_module": "@jupyter-widgets/base",
      "_view_module_version": "1.2.0",
      "_view_name": "LayoutView",
      "align_content": null,
      "align_items": null,
      "align_self": null,
      "border": null,
      "bottom": null,
      "display": null,
      "flex": null,
      "flex_flow": null,
      "grid_area": null,
      "grid_auto_columns": null,
      "grid_auto_flow": null,
      "grid_auto_rows": null,
      "grid_column": null,
      "grid_gap": null,
      "grid_row": null,
      "grid_template_areas": null,
      "grid_template_columns": null,
      "grid_template_rows": null,
      "height": null,
      "justify_content": null,
      "justify_items": null,
      "left": null,
      "margin": null,
      "max_height": null,
      "max_width": null,
      "min_height": null,
      "min_width": null,
      "object_fit": null,
      "object_position": null,
      "order": null,
      "overflow": null,
      "overflow_x": null,
      "overflow_y": null,
      "padding": null,
      "right": null,
      "top": null,
      "visibility": null,
      "width": null
     }
    },
    "bd23f42005964f8488cb904eb5027c36": {
     "model_module": "@jupyter-widgets/controls",
     "model_module_version": "1.5.0",
     "model_name": "HBoxModel",
     "state": {
      "_dom_classes": [],
      "_model_module": "@jupyter-widgets/controls",
      "_model_module_version": "1.5.0",
      "_model_name": "HBoxModel",
      "_view_count": null,
      "_view_module": "@jupyter-widgets/controls",
      "_view_module_version": "1.5.0",
      "_view_name": "HBoxView",
      "box_style": "",
      "children": [
       "IPY_MODEL_4e54a84fc1144102a95d6b2a6ab42a77",
       "IPY_MODEL_d85221592c58470ea305eb4e996bb002",
       "IPY_MODEL_70089eca200841768ea64ec33c1b5d94"
      ],
      "layout": "IPY_MODEL_9a4c61e162d9499790d41b6cc92b5b81"
     }
    },
    "c18abc503cd64f11b263f0922e562009": {
     "model_module": "@jupyter-widgets/controls",
     "model_module_version": "1.5.0",
     "model_name": "DescriptionStyleModel",
     "state": {
      "_model_module": "@jupyter-widgets/controls",
      "_model_module_version": "1.5.0",
      "_model_name": "DescriptionStyleModel",
      "_view_count": null,
      "_view_module": "@jupyter-widgets/base",
      "_view_module_version": "1.2.0",
      "_view_name": "StyleView",
      "description_width": ""
     }
    },
    "c2bff709a9864f65bd95ffe01c6c533e": {
     "model_module": "@jupyter-widgets/controls",
     "model_module_version": "1.5.0",
     "model_name": "FloatProgressModel",
     "state": {
      "_dom_classes": [],
      "_model_module": "@jupyter-widgets/controls",
      "_model_module_version": "1.5.0",
      "_model_name": "FloatProgressModel",
      "_view_count": null,
      "_view_module": "@jupyter-widgets/controls",
      "_view_module_version": "1.5.0",
      "_view_name": "ProgressView",
      "bar_style": "success",
      "description": "",
      "description_tooltip": null,
      "layout": "IPY_MODEL_37ff068ff04b4b9f83f1221752d1047d",
      "max": 54674,
      "min": 0,
      "orientation": "horizontal",
      "style": "IPY_MODEL_9142be3b09d14e108552b0dbf66d6bf4",
      "value": 54674
     }
    },
    "c7daaf5ee66a4688a1595efd926d31ce": {
     "model_module": "@jupyter-widgets/base",
     "model_module_version": "1.2.0",
     "model_name": "LayoutModel",
     "state": {
      "_model_module": "@jupyter-widgets/base",
      "_model_module_version": "1.2.0",
      "_model_name": "LayoutModel",
      "_view_count": null,
      "_view_module": "@jupyter-widgets/base",
      "_view_module_version": "1.2.0",
      "_view_name": "LayoutView",
      "align_content": null,
      "align_items": null,
      "align_self": null,
      "border": null,
      "bottom": null,
      "display": null,
      "flex": null,
      "flex_flow": null,
      "grid_area": null,
      "grid_auto_columns": null,
      "grid_auto_flow": null,
      "grid_auto_rows": null,
      "grid_column": null,
      "grid_gap": null,
      "grid_row": null,
      "grid_template_areas": null,
      "grid_template_columns": null,
      "grid_template_rows": null,
      "height": null,
      "justify_content": null,
      "justify_items": null,
      "left": null,
      "margin": null,
      "max_height": null,
      "max_width": null,
      "min_height": null,
      "min_width": null,
      "object_fit": null,
      "object_position": null,
      "order": null,
      "overflow": null,
      "overflow_x": null,
      "overflow_y": null,
      "padding": null,
      "right": null,
      "top": null,
      "visibility": null,
      "width": null
     }
    },
    "c965c166ca8542e4a7875710bfc2e198": {
     "model_module": "@jupyter-widgets/controls",
     "model_module_version": "1.5.0",
     "model_name": "DescriptionStyleModel",
     "state": {
      "_model_module": "@jupyter-widgets/controls",
      "_model_module_version": "1.5.0",
      "_model_name": "DescriptionStyleModel",
      "_view_count": null,
      "_view_module": "@jupyter-widgets/base",
      "_view_module_version": "1.2.0",
      "_view_name": "StyleView",
      "description_width": ""
     }
    },
    "caa7f5ccd720495b9af77eeca0294219": {
     "model_module": "@jupyter-widgets/controls",
     "model_module_version": "1.5.0",
     "model_name": "HTMLModel",
     "state": {
      "_dom_classes": [],
      "_model_module": "@jupyter-widgets/controls",
      "_model_module_version": "1.5.0",
      "_model_name": "HTMLModel",
      "_view_count": null,
      "_view_module": "@jupyter-widgets/controls",
      "_view_module_version": "1.5.0",
      "_view_name": "HTMLView",
      "description": "",
      "description_tooltip": null,
      "layout": "IPY_MODEL_00964d737c354efcbce326eccda219a1",
      "placeholder": "​",
      "style": "IPY_MODEL_dc6f62009a984f2abaa675b511bb4f8c",
      "value": " 2.24G/2.24G [00:13&lt;00:00, 247MB/s]"
     }
    },
    "cee881f0e3d14a64b71542b0b57bb97c": {
     "model_module": "@jupyter-widgets/controls",
     "model_module_version": "1.5.0",
     "model_name": "DescriptionStyleModel",
     "state": {
      "_model_module": "@jupyter-widgets/controls",
      "_model_module_version": "1.5.0",
      "_model_name": "DescriptionStyleModel",
      "_view_count": null,
      "_view_module": "@jupyter-widgets/base",
      "_view_module_version": "1.2.0",
      "_view_name": "StyleView",
      "description_width": ""
     }
    },
    "cf0b9cdce9ec48aba3af2f4719e1d232": {
     "model_module": "@jupyter-widgets/controls",
     "model_module_version": "1.5.0",
     "model_name": "DescriptionStyleModel",
     "state": {
      "_model_module": "@jupyter-widgets/controls",
      "_model_module_version": "1.5.0",
      "_model_name": "DescriptionStyleModel",
      "_view_count": null,
      "_view_module": "@jupyter-widgets/base",
      "_view_module_version": "1.2.0",
      "_view_name": "StyleView",
      "description_width": ""
     }
    },
    "cf2e2fe63ff0499480f478a2bcaf2a94": {
     "model_module": "@jupyter-widgets/controls",
     "model_module_version": "1.5.0",
     "model_name": "FloatProgressModel",
     "state": {
      "_dom_classes": [],
      "_model_module": "@jupyter-widgets/controls",
      "_model_module_version": "1.5.0",
      "_model_name": "FloatProgressModel",
      "_view_count": null,
      "_view_module": "@jupyter-widgets/controls",
      "_view_module_version": "1.5.0",
      "_view_name": "ProgressView",
      "bar_style": "success",
      "description": "",
      "description_tooltip": null,
      "layout": "IPY_MODEL_a5a3c0b389864cc6bbcaccc3f519dbc5",
      "max": 2242762780,
      "min": 0,
      "orientation": "horizontal",
      "style": "IPY_MODEL_a78233d89a92478c91818dff2f67138a",
      "value": 2242762780
     }
    },
    "cf70775646da4d8fa11a3ddb990788c6": {
     "model_module": "@jupyter-widgets/controls",
     "model_module_version": "1.5.0",
     "model_name": "DescriptionStyleModel",
     "state": {
      "_model_module": "@jupyter-widgets/controls",
      "_model_module_version": "1.5.0",
      "_model_name": "DescriptionStyleModel",
      "_view_count": null,
      "_view_module": "@jupyter-widgets/base",
      "_view_module_version": "1.2.0",
      "_view_name": "StyleView",
      "description_width": ""
     }
    },
    "d1dc6e96edc14fcdb6ec0c864bcc6107": {
     "model_module": "@jupyter-widgets/controls",
     "model_module_version": "1.5.0",
     "model_name": "DescriptionStyleModel",
     "state": {
      "_model_module": "@jupyter-widgets/controls",
      "_model_module_version": "1.5.0",
      "_model_name": "DescriptionStyleModel",
      "_view_count": null,
      "_view_module": "@jupyter-widgets/base",
      "_view_module_version": "1.2.0",
      "_view_name": "StyleView",
      "description_width": ""
     }
    },
    "d1e47ee29b29457fac8bdafc1e9740c2": {
     "model_module": "@jupyter-widgets/controls",
     "model_module_version": "1.5.0",
     "model_name": "HTMLModel",
     "state": {
      "_dom_classes": [],
      "_model_module": "@jupyter-widgets/controls",
      "_model_module_version": "1.5.0",
      "_model_name": "HTMLModel",
      "_view_count": null,
      "_view_module": "@jupyter-widgets/controls",
      "_view_module_version": "1.5.0",
      "_view_name": "HTMLView",
      "description": "",
      "description_tooltip": null,
      "layout": "IPY_MODEL_6b6833ce1b494e679ff2b3d83762896b",
      "placeholder": "​",
      "style": "IPY_MODEL_d1dc6e96edc14fcdb6ec0c864bcc6107",
      "value": " 17.2M/17.2M [00:00&lt;00:00, 242MB/s]"
     }
    },
    "d4bff4a5291248f78a8fb868392f210d": {
     "model_module": "@jupyter-widgets/base",
     "model_module_version": "1.2.0",
     "model_name": "LayoutModel",
     "state": {
      "_model_module": "@jupyter-widgets/base",
      "_model_module_version": "1.2.0",
      "_model_name": "LayoutModel",
      "_view_count": null,
      "_view_module": "@jupyter-widgets/base",
      "_view_module_version": "1.2.0",
      "_view_name": "LayoutView",
      "align_content": null,
      "align_items": null,
      "align_self": null,
      "border": null,
      "bottom": null,
      "display": null,
      "flex": null,
      "flex_flow": null,
      "grid_area": null,
      "grid_auto_columns": null,
      "grid_auto_flow": null,
      "grid_auto_rows": null,
      "grid_column": null,
      "grid_gap": null,
      "grid_row": null,
      "grid_template_areas": null,
      "grid_template_columns": null,
      "grid_template_rows": null,
      "height": null,
      "justify_content": null,
      "justify_items": null,
      "left": null,
      "margin": null,
      "max_height": null,
      "max_width": null,
      "min_height": null,
      "min_width": null,
      "object_fit": null,
      "object_position": null,
      "order": null,
      "overflow": null,
      "overflow_x": null,
      "overflow_y": null,
      "padding": null,
      "right": null,
      "top": null,
      "visibility": null,
      "width": null
     }
    },
    "d54473e003ea4b7ea0a6578f6311b6d7": {
     "model_module": "@jupyter-widgets/controls",
     "model_module_version": "1.5.0",
     "model_name": "HTMLModel",
     "state": {
      "_dom_classes": [],
      "_model_module": "@jupyter-widgets/controls",
      "_model_module_version": "1.5.0",
      "_model_name": "HTMLModel",
      "_view_count": null,
      "_view_module": "@jupyter-widgets/controls",
      "_view_module_version": "1.5.0",
      "_view_name": "HTMLView",
      "description": "",
      "description_tooltip": null,
      "layout": "IPY_MODEL_aff39f283df241c8abb65ff7b789a107",
      "placeholder": "​",
      "style": "IPY_MODEL_68d62e278599468488378f0d27e8c328",
      "value": "tokenizer.json: 100%"
     }
    },
    "d85221592c58470ea305eb4e996bb002": {
     "model_module": "@jupyter-widgets/controls",
     "model_module_version": "1.5.0",
     "model_name": "FloatProgressModel",
     "state": {
      "_dom_classes": [],
      "_model_module": "@jupyter-widgets/controls",
      "_model_module_version": "1.5.0",
      "_model_name": "FloatProgressModel",
      "_view_count": null,
      "_view_module": "@jupyter-widgets/controls",
      "_view_module_version": "1.5.0",
      "_view_name": "ProgressView",
      "bar_style": "success",
      "description": "",
      "description_tooltip": null,
      "layout": "IPY_MODEL_12b0fa8d9fbb4670bb7796099ba26250",
      "max": 2306545,
      "min": 0,
      "orientation": "horizontal",
      "style": "IPY_MODEL_5a85574ae25a4dc9910136b29903d256",
      "value": 2306545
     }
    },
    "d91cc0de25904ec79605d5f37db37c0f": {
     "model_module": "@jupyter-widgets/controls",
     "model_module_version": "1.5.0",
     "model_name": "HBoxModel",
     "state": {
      "_dom_classes": [],
      "_model_module": "@jupyter-widgets/controls",
      "_model_module_version": "1.5.0",
      "_model_name": "HBoxModel",
      "_view_count": null,
      "_view_module": "@jupyter-widgets/controls",
      "_view_module_version": "1.5.0",
      "_view_name": "HBoxView",
      "box_style": "",
      "children": [
       "IPY_MODEL_acdd429a1e5e4ac7955b4fb0c82768c3",
       "IPY_MODEL_898a561ff98240ae90e8ee8a671fd031",
       "IPY_MODEL_a0de0976617647caaeaf03d01cd4f275"
      ],
      "layout": "IPY_MODEL_a7343f69d34c4017863976dd0d042d81"
     }
    },
    "db6ec8ae31254d9cb8c6de73f209f93b": {
     "model_module": "@jupyter-widgets/controls",
     "model_module_version": "1.5.0",
     "model_name": "FloatProgressModel",
     "state": {
      "_dom_classes": [],
      "_model_module": "@jupyter-widgets/controls",
      "_model_module_version": "1.5.0",
      "_model_name": "FloatProgressModel",
      "_view_count": null,
      "_view_module": "@jupyter-widgets/controls",
      "_view_module_version": "1.5.0",
      "_view_name": "ProgressView",
      "bar_style": "success",
      "description": "",
      "description_tooltip": null,
      "layout": "IPY_MODEL_de7fe2271fcb4b9eb5286fd3c14689ca",
      "max": 7940,
      "min": 0,
      "orientation": "horizontal",
      "style": "IPY_MODEL_089a77048d41437594967c8c1759f568",
      "value": 7940
     }
    },
    "dc6f62009a984f2abaa675b511bb4f8c": {
     "model_module": "@jupyter-widgets/controls",
     "model_module_version": "1.5.0",
     "model_name": "DescriptionStyleModel",
     "state": {
      "_model_module": "@jupyter-widgets/controls",
      "_model_module_version": "1.5.0",
      "_model_name": "DescriptionStyleModel",
      "_view_count": null,
      "_view_module": "@jupyter-widgets/base",
      "_view_module_version": "1.2.0",
      "_view_name": "StyleView",
      "description_width": ""
     }
    },
    "dce7fec9cba44b12832635c70fd538af": {
     "model_module": "@jupyter-widgets/controls",
     "model_module_version": "1.5.0",
     "model_name": "FloatProgressModel",
     "state": {
      "_dom_classes": [],
      "_model_module": "@jupyter-widgets/controls",
      "_model_module_version": "1.5.0",
      "_model_name": "FloatProgressModel",
      "_view_count": null,
      "_view_module": "@jupyter-widgets/controls",
      "_view_module_version": "1.5.0",
      "_view_name": "ProgressView",
      "bar_style": "success",
      "description": "",
      "description_tooltip": null,
      "layout": "IPY_MODEL_ef6a513b7ea94315ae01dac1229f2d67",
      "max": 17209920,
      "min": 0,
      "orientation": "horizontal",
      "style": "IPY_MODEL_83a4fb5c98c74ed2be7567f0036b7371",
      "value": 17209920
     }
    },
    "de7fe2271fcb4b9eb5286fd3c14689ca": {
     "model_module": "@jupyter-widgets/base",
     "model_module_version": "1.2.0",
     "model_name": "LayoutModel",
     "state": {
      "_model_module": "@jupyter-widgets/base",
      "_model_module_version": "1.2.0",
      "_model_name": "LayoutModel",
      "_view_count": null,
      "_view_module": "@jupyter-widgets/base",
      "_view_module_version": "1.2.0",
      "_view_name": "LayoutView",
      "align_content": null,
      "align_items": null,
      "align_self": null,
      "border": null,
      "bottom": null,
      "display": null,
      "flex": null,
      "flex_flow": null,
      "grid_area": null,
      "grid_auto_columns": null,
      "grid_auto_flow": null,
      "grid_auto_rows": null,
      "grid_column": null,
      "grid_gap": null,
      "grid_row": null,
      "grid_template_areas": null,
      "grid_template_columns": null,
      "grid_template_rows": null,
      "height": null,
      "justify_content": null,
      "justify_items": null,
      "left": null,
      "margin": null,
      "max_height": null,
      "max_width": null,
      "min_height": null,
      "min_width": null,
      "object_fit": null,
      "object_position": null,
      "order": null,
      "overflow": null,
      "overflow_x": null,
      "overflow_y": null,
      "padding": null,
      "right": null,
      "top": null,
      "visibility": null,
      "width": null
     }
    },
    "e3c8450ede574352a9b6eff81008b280": {
     "model_module": "@jupyter-widgets/base",
     "model_module_version": "1.2.0",
     "model_name": "LayoutModel",
     "state": {
      "_model_module": "@jupyter-widgets/base",
      "_model_module_version": "1.2.0",
      "_model_name": "LayoutModel",
      "_view_count": null,
      "_view_module": "@jupyter-widgets/base",
      "_view_module_version": "1.2.0",
      "_view_name": "LayoutView",
      "align_content": null,
      "align_items": null,
      "align_self": null,
      "border": null,
      "bottom": null,
      "display": null,
      "flex": null,
      "flex_flow": null,
      "grid_area": null,
      "grid_auto_columns": null,
      "grid_auto_flow": null,
      "grid_auto_rows": null,
      "grid_column": null,
      "grid_gap": null,
      "grid_row": null,
      "grid_template_areas": null,
      "grid_template_columns": null,
      "grid_template_rows": null,
      "height": null,
      "justify_content": null,
      "justify_items": null,
      "left": null,
      "margin": null,
      "max_height": null,
      "max_width": null,
      "min_height": null,
      "min_width": null,
      "object_fit": null,
      "object_position": null,
      "order": null,
      "overflow": null,
      "overflow_x": null,
      "overflow_y": null,
      "padding": null,
      "right": null,
      "top": null,
      "visibility": null,
      "width": null
     }
    },
    "eb6b46c8d4b3431899ed8e754c3d07a5": {
     "model_module": "@jupyter-widgets/controls",
     "model_module_version": "1.5.0",
     "model_name": "DescriptionStyleModel",
     "state": {
      "_model_module": "@jupyter-widgets/controls",
      "_model_module_version": "1.5.0",
      "_model_name": "DescriptionStyleModel",
      "_view_count": null,
      "_view_module": "@jupyter-widgets/base",
      "_view_module_version": "1.2.0",
      "_view_name": "StyleView",
      "description_width": ""
     }
    },
    "ee7a1a54b43b491bba5989eba9e77acc": {
     "model_module": "@jupyter-widgets/controls",
     "model_module_version": "1.5.0",
     "model_name": "DescriptionStyleModel",
     "state": {
      "_model_module": "@jupyter-widgets/controls",
      "_model_module_version": "1.5.0",
      "_model_name": "DescriptionStyleModel",
      "_view_count": null,
      "_view_module": "@jupyter-widgets/base",
      "_view_module_version": "1.2.0",
      "_view_name": "StyleView",
      "description_width": ""
     }
    },
    "ef19d63d75004ad9b7e3837355cd3d18": {
     "model_module": "@jupyter-widgets/controls",
     "model_module_version": "1.5.0",
     "model_name": "FloatProgressModel",
     "state": {
      "_dom_classes": [],
      "_model_module": "@jupyter-widgets/controls",
      "_model_module_version": "1.5.0",
      "_model_name": "FloatProgressModel",
      "_view_count": null,
      "_view_module": "@jupyter-widgets/controls",
      "_view_module_version": "1.5.0",
      "_view_name": "ProgressView",
      "bar_style": "success",
      "description": "",
      "description_tooltip": null,
      "layout": "IPY_MODEL_3580e5df1022450a9d361490b64e1010",
      "max": 454,
      "min": 0,
      "orientation": "horizontal",
      "style": "IPY_MODEL_4cb8358e945b43499833d5927851e725",
      "value": 454
     }
    },
    "ef6a513b7ea94315ae01dac1229f2d67": {
     "model_module": "@jupyter-widgets/base",
     "model_module_version": "1.2.0",
     "model_name": "LayoutModel",
     "state": {
      "_model_module": "@jupyter-widgets/base",
      "_model_module_version": "1.2.0",
      "_model_name": "LayoutModel",
      "_view_count": null,
      "_view_module": "@jupyter-widgets/base",
      "_view_module_version": "1.2.0",
      "_view_name": "LayoutView",
      "align_content": null,
      "align_items": null,
      "align_self": null,
      "border": null,
      "bottom": null,
      "display": null,
      "flex": null,
      "flex_flow": null,
      "grid_area": null,
      "grid_auto_columns": null,
      "grid_auto_flow": null,
      "grid_auto_rows": null,
      "grid_column": null,
      "grid_gap": null,
      "grid_row": null,
      "grid_template_areas": null,
      "grid_template_columns": null,
      "grid_template_rows": null,
      "height": null,
      "justify_content": null,
      "justify_items": null,
      "left": null,
      "margin": null,
      "max_height": null,
      "max_width": null,
      "min_height": null,
      "min_width": null,
      "object_fit": null,
      "object_position": null,
      "order": null,
      "overflow": null,
      "overflow_x": null,
      "overflow_y": null,
      "padding": null,
      "right": null,
      "top": null,
      "visibility": null,
      "width": null
     }
    },
    "f1894a7066e94bec9fe84da332321f04": {
     "model_module": "@jupyter-widgets/base",
     "model_module_version": "1.2.0",
     "model_name": "LayoutModel",
     "state": {
      "_model_module": "@jupyter-widgets/base",
      "_model_module_version": "1.2.0",
      "_model_name": "LayoutModel",
      "_view_count": null,
      "_view_module": "@jupyter-widgets/base",
      "_view_module_version": "1.2.0",
      "_view_name": "LayoutView",
      "align_content": null,
      "align_items": null,
      "align_self": null,
      "border": null,
      "bottom": null,
      "display": null,
      "flex": null,
      "flex_flow": null,
      "grid_area": null,
      "grid_auto_columns": null,
      "grid_auto_flow": null,
      "grid_auto_rows": null,
      "grid_column": null,
      "grid_gap": null,
      "grid_row": null,
      "grid_template_areas": null,
      "grid_template_columns": null,
      "grid_template_rows": null,
      "height": null,
      "justify_content": null,
      "justify_items": null,
      "left": null,
      "margin": null,
      "max_height": null,
      "max_width": null,
      "min_height": null,
      "min_width": null,
      "object_fit": null,
      "object_position": null,
      "order": null,
      "overflow": null,
      "overflow_x": null,
      "overflow_y": null,
      "padding": null,
      "right": null,
      "top": null,
      "visibility": null,
      "width": null
     }
    },
    "f9d50d7662b74bc88bc6509519cb63cf": {
     "model_module": "@jupyter-widgets/controls",
     "model_module_version": "1.5.0",
     "model_name": "HBoxModel",
     "state": {
      "_dom_classes": [],
      "_model_module": "@jupyter-widgets/controls",
      "_model_module_version": "1.5.0",
      "_model_name": "HBoxModel",
      "_view_count": null,
      "_view_module": "@jupyter-widgets/controls",
      "_view_module_version": "1.5.0",
      "_view_name": "HBoxView",
      "box_style": "",
      "children": [
       "IPY_MODEL_aebcce44c41646ee9471fd356ed84d64",
       "IPY_MODEL_518473d60fd44ab3a176ea49f1f6e291",
       "IPY_MODEL_a2bb5d172d1549cf8e9689d13b65d6ff"
      ],
      "layout": "IPY_MODEL_f1894a7066e94bec9fe84da332321f04"
     }
    },
    "fab1b1e49b454642aaf08506676a0182": {
     "model_module": "@jupyter-widgets/base",
     "model_module_version": "1.2.0",
     "model_name": "LayoutModel",
     "state": {
      "_model_module": "@jupyter-widgets/base",
      "_model_module_version": "1.2.0",
      "_model_name": "LayoutModel",
      "_view_count": null,
      "_view_module": "@jupyter-widgets/base",
      "_view_module_version": "1.2.0",
      "_view_name": "LayoutView",
      "align_content": null,
      "align_items": null,
      "align_self": null,
      "border": null,
      "bottom": null,
      "display": null,
      "flex": null,
      "flex_flow": null,
      "grid_area": null,
      "grid_auto_columns": null,
      "grid_auto_flow": null,
      "grid_auto_rows": null,
      "grid_column": null,
      "grid_gap": null,
      "grid_row": null,
      "grid_template_areas": null,
      "grid_template_columns": null,
      "grid_template_rows": null,
      "height": null,
      "justify_content": null,
      "justify_items": null,
      "left": null,
      "margin": null,
      "max_height": null,
      "max_width": null,
      "min_height": null,
      "min_width": null,
      "object_fit": null,
      "object_position": null,
      "order": null,
      "overflow": null,
      "overflow_x": null,
      "overflow_y": null,
      "padding": null,
      "right": null,
      "top": null,
      "visibility": null,
      "width": null
     }
    },
    "fab46e310cef44ebaa2b18be6e24c7ba": {
     "model_module": "@jupyter-widgets/controls",
     "model_module_version": "1.5.0",
     "model_name": "HTMLModel",
     "state": {
      "_dom_classes": [],
      "_model_module": "@jupyter-widgets/controls",
      "_model_module_version": "1.5.0",
      "_model_name": "HTMLModel",
      "_view_count": null,
      "_view_module": "@jupyter-widgets/controls",
      "_view_module_version": "1.5.0",
      "_view_name": "HTMLView",
      "description": "",
      "description_tooltip": null,
      "layout": "IPY_MODEL_5c75c6f589584190aceb8b090fa526f1",
      "placeholder": "​",
      "style": "IPY_MODEL_51f19e2792454b86a98b72718619eea0",
      "value": "tokenizer_config.json: 100%"
     }
    }
   }
  }
 },
 "nbformat": 4,
 "nbformat_minor": 4
}
