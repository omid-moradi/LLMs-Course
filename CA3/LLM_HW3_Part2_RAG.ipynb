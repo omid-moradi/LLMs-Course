{
  "cells": [
    {
      "cell_type": "markdown",
      "metadata": {
        "id": "q7wp7OPc9Kcc"
      },
      "source": [
        "# **CA3-Part2, LLMs Spring 2025**\n",
        "\n",
        "- **Name:**\n",
        "- **Student ID:**\n",
        "\n",
        "---\n",
        "#### Your submission should be named using the following format: `CA3-Part2_LASTNAME_STUDENTID.ipynb`.\n",
        "\n",
        "---\n",
        "\n",
        "##### *How to do this problem set:*\n",
        "\n",
        "- Some questions require writing Python code and computing results, and the rest of them have written answers. For coding problems, you will have to fill out all code blocks under each `Completion` section.\n",
        "\n",
        "- For text-based answers, you should replace the text that says `WRITE YOUR ANSWER HERE` with your actual answer, or you can look for `Report` and `Question` blocks.\n",
        "\n",
        "- There is no penalty for using AI assistance on this homework as long as you fully disclose it in the final cell of this notebook (this includes storing any prompts that you feed to large language models). That said, anyone caught using AI assistance without proper disclosure will receive a zero on the assignment (we have several automatic tools to detect such cases). We're literally allowing you to use it with no limitations, so there is no reason to lie!\n",
        "\n",
        "---\n",
        "\n",
        "##### *Academic honesty*\n",
        "\n",
        "- We will audit the Colab notebooks from a set number of students, chosen at random. The audits will check that the code you wrote actually generates the answers in your notebook. If you turn in correct answers on your notebook without code that actually generates those answers, we will consider this a serious case of cheating.\n",
        "\n",
        "- We will also run automatic checks of Colab notebooks for plagiarism. Copying code from others is also considered a serious case of cheating.\n",
        "\n",
        "---\n",
        "\n",
        "If you have any further questions or concerns, contact the TAs via email or Telegram."
      ]
    },
    {
      "cell_type": "markdown",
      "metadata": {
        "id": "Zivgc23P8r0f"
      },
      "source": [
        "# RAG (50 points)"
      ]
    },
    {
      "cell_type": "markdown",
      "metadata": {
        "id": "7koJfgPBRlNz"
      },
      "source": [
        "If you have any further questions or concerns, contact the TA via email (pouya.sadeghi@ut.ac.ir) or telegram."
      ]
    },
    {
      "cell_type": "markdown",
      "metadata": {
        "id": "lNHplrzc8r0f"
      },
      "source": [
        "## Install Requirements"
      ]
    },
    {
      "cell_type": "code",
      "execution_count": 1,
      "metadata": {
        "colab": {
          "base_uri": "https://localhost:8080/"
        },
        "id": "iX-Lm3M58r0f",
        "outputId": "c6b22387-92f7-46eb-da51-3548c19d2c78"
      },
      "outputs": [
        {
          "output_type": "stream",
          "name": "stdout",
          "text": [
            "\u001b[2K   \u001b[90m━━━━━━━━━━━━━━━━━━━━━━━━━━━━━━━━━━━━━━━━\u001b[0m \u001b[32m2.5/2.5 MB\u001b[0m \u001b[31m56.9 MB/s\u001b[0m eta \u001b[36m0:00:00\u001b[0m\n",
            "\u001b[2K   \u001b[90m━━━━━━━━━━━━━━━━━━━━━━━━━━━━━━━━━━━━━━━━\u001b[0m \u001b[32m45.2/45.2 kB\u001b[0m \u001b[31m3.1 MB/s\u001b[0m eta \u001b[36m0:00:00\u001b[0m\n",
            "\u001b[2K   \u001b[90m━━━━━━━━━━━━━━━━━━━━━━━━━━━━━━━━━━━━━━━━\u001b[0m \u001b[32m50.9/50.9 kB\u001b[0m \u001b[31m4.3 MB/s\u001b[0m eta \u001b[36m0:00:00\u001b[0m\n",
            "\u001b[2K   \u001b[90m━━━━━━━━━━━━━━━━━━━━━━━━━━━━━━━━━━━━━━━━\u001b[0m \u001b[32m111.0/111.0 kB\u001b[0m \u001b[31m4.4 MB/s\u001b[0m eta \u001b[36m0:00:00\u001b[0m\n",
            "\u001b[2K   \u001b[90m━━━━━━━━━━━━━━━━━━━━━━━━━━━━━━━━━━━━━━━━\u001b[0m \u001b[32m363.4/363.4 MB\u001b[0m \u001b[31m3.9 MB/s\u001b[0m eta \u001b[36m0:00:00\u001b[0m\n",
            "\u001b[2K   \u001b[90m━━━━━━━━━━━━━━━━━━━━━━━━━━━━━━━━━━━━━━━━\u001b[0m \u001b[32m13.8/13.8 MB\u001b[0m \u001b[31m81.4 MB/s\u001b[0m eta \u001b[36m0:00:00\u001b[0m\n",
            "\u001b[2K   \u001b[90m━━━━━━━━━━━━━━━━━━━━━━━━━━━━━━━━━━━━━━━━\u001b[0m \u001b[32m24.6/24.6 MB\u001b[0m \u001b[31m65.4 MB/s\u001b[0m eta \u001b[36m0:00:00\u001b[0m\n",
            "\u001b[2K   \u001b[90m━━━━━━━━━━━━━━━━━━━━━━━━━━━━━━━━━━━━━━━━\u001b[0m \u001b[32m883.7/883.7 kB\u001b[0m \u001b[31m53.7 MB/s\u001b[0m eta \u001b[36m0:00:00\u001b[0m\n",
            "\u001b[2K   \u001b[90m━━━━━━━━━━━━━━━━━━━━━━━━━━━━━━━━━━━━━━━━\u001b[0m \u001b[32m664.8/664.8 MB\u001b[0m \u001b[31m1.3 MB/s\u001b[0m eta \u001b[36m0:00:00\u001b[0m\n",
            "\u001b[2K   \u001b[90m━━━━━━━━━━━━━━━━━━━━━━━━━━━━━━━━━━━━━━━━\u001b[0m \u001b[32m211.5/211.5 MB\u001b[0m \u001b[31m2.3 MB/s\u001b[0m eta \u001b[36m0:00:00\u001b[0m\n",
            "\u001b[2K   \u001b[90m━━━━━━━━━━━━━━━━━━━━━━━━━━━━━━━━━━━━━━━━\u001b[0m \u001b[32m56.3/56.3 MB\u001b[0m \u001b[31m12.1 MB/s\u001b[0m eta \u001b[36m0:00:00\u001b[0m\n",
            "\u001b[2K   \u001b[90m━━━━━━━━━━━━━━━━━━━━━━━━━━━━━━━━━━━━━━━━\u001b[0m \u001b[32m127.9/127.9 MB\u001b[0m \u001b[31m7.8 MB/s\u001b[0m eta \u001b[36m0:00:00\u001b[0m\n",
            "\u001b[2K   \u001b[90m━━━━━━━━━━━━━━━━━━━━━━━━━━━━━━━━━━━━━━━━\u001b[0m \u001b[32m207.5/207.5 MB\u001b[0m \u001b[31m6.4 MB/s\u001b[0m eta \u001b[36m0:00:00\u001b[0m\n",
            "\u001b[2K   \u001b[90m━━━━━━━━━━━━━━━━━━━━━━━━━━━━━━━━━━━━━━━━\u001b[0m \u001b[32m21.1/21.1 MB\u001b[0m \u001b[31m70.0 MB/s\u001b[0m eta \u001b[36m0:00:00\u001b[0m\n",
            "\u001b[?25h"
          ]
        }
      ],
      "source": [
        "!pip install -q langchain langchain_community langchain_huggingface huggingface_hub\n",
        "!pip install -q sentence_transformers tiktoken lark datasets"
      ]
    },
    {
      "cell_type": "code",
      "execution_count": 3,
      "metadata": {
        "colab": {
          "base_uri": "https://localhost:8080/"
        },
        "id": "3MhNsfsNVAVW",
        "outputId": "4ac83bea-c56c-49e8-8a10-429290084a19"
      },
      "outputs": [
        {
          "output_type": "stream",
          "name": "stdout",
          "text": [
            "Mon Jul  7 17:40:08 2025       \n",
            "+-----------------------------------------------------------------------------------------+\n",
            "| NVIDIA-SMI 550.54.15              Driver Version: 550.54.15      CUDA Version: 12.4     |\n",
            "|-----------------------------------------+------------------------+----------------------+\n",
            "| GPU  Name                 Persistence-M | Bus-Id          Disp.A | Volatile Uncorr. ECC |\n",
            "| Fan  Temp   Perf          Pwr:Usage/Cap |           Memory-Usage | GPU-Util  Compute M. |\n",
            "|                                         |                        |               MIG M. |\n",
            "|=========================================+========================+======================|\n",
            "|   0  Tesla T4                       Off |   00000000:00:04.0 Off |                    0 |\n",
            "| N/A   47C    P8              9W /   70W |       0MiB /  15360MiB |      0%      Default |\n",
            "|                                         |                        |                  N/A |\n",
            "+-----------------------------------------+------------------------+----------------------+\n",
            "                                                                                         \n",
            "+-----------------------------------------------------------------------------------------+\n",
            "| Processes:                                                                              |\n",
            "|  GPU   GI   CI        PID   Type   Process name                              GPU Memory |\n",
            "|        ID   ID                                                               Usage      |\n",
            "|=========================================================================================|\n",
            "|  No running processes found                                                             |\n",
            "+-----------------------------------------------------------------------------------------+\n",
            "\u001b[2K     \u001b[90m━━━━━━━━━━━━━━━━━━━━━━━━━━━━━━━━━━━━━━━━\u001b[0m \u001b[32m61.0/61.0 kB\u001b[0m \u001b[31m3.7 MB/s\u001b[0m eta \u001b[36m0:00:00\u001b[0m\n",
            "\u001b[2K   \u001b[90m━━━━━━━━━━━━━━━━━━━━━━━━━━━━━━━━━━━━━━━━\u001b[0m \u001b[32m48.0/48.0 MB\u001b[0m \u001b[31m14.5 MB/s\u001b[0m eta \u001b[36m0:00:00\u001b[0m\n",
            "\u001b[2K   \u001b[90m━━━━━━━━━━━━━━━━━━━━━━━━━━━━━━━━━━━━━━━━\u001b[0m \u001b[32m18.3/18.3 MB\u001b[0m \u001b[31m107.6 MB/s\u001b[0m eta \u001b[36m0:00:00\u001b[0m\n",
            "\u001b[?25h\u001b[31mERROR: pip's dependency resolver does not currently take into account all the packages that are installed. This behaviour is the source of the following dependency conflicts.\n",
            "thinc 8.3.6 requires numpy<3.0.0,>=2.0.0, but you have numpy 1.26.4 which is incompatible.\u001b[0m\u001b[31m\n",
            "\u001b[0m"
          ]
        }
      ],
      "source": [
        "# To determine your system's CUDA version, run the following command:\n",
        "!nvidia-smi\n",
        "\n",
        "# Based on your CUDA version, install the appropriate FAISS-GPU package:\n",
        "\n",
        "# For CUDA 12.x:\n",
        "!pip install -q faiss-gpu-cu12\n",
        "\n",
        "# For CUDA 11.x:\n",
        "# !pip install faiss-gpu-cu11\n",
        "\n",
        "# If you prefer the CPU-only version of FAISS:\n",
        "# !pip install -q faiss-cpu"
      ]
    },
    {
      "cell_type": "markdown",
      "metadata": {
        "id": "TuwfOPincl-1"
      },
      "source": [
        "## 1. An Overview of Information Retrieval (IR) and RAG (2 points)\n"
      ]
    },
    {
      "cell_type": "markdown",
      "metadata": {
        "id": "gHWLyGsKc59P"
      },
      "source": [
        "- **Information Retrieval (IR)**: The process of obtaining information system resources relevant to a specific information need from a collection of those resources. Each IR system consists of a collection of documents, a set of queries, and a retrieval function that ranks the documents based on their relevance to the query.\n",
        "- **Retrieval-Augmented Generation (RAG)**: A model that combines the strengths of retrieval-based and generation-based approaches. It retrieves relevant documents from a large corpus and uses them to generate a response to a query. RAG is particularly useful for tasks where the answer is not explicitly present in the training data but can be inferred from related documents.\n",
        "- **RAG Architecture**: The RAG architecture consists of two main components:\n",
        "  - **Retriever**: This component retrieves relevant documents from a large corpus based on the input query. It can be implemented using various retrieval methods, such as BM25 or dense retrieval.\n",
        "  - **Generator**: This component generates a response based on the retrieved documents and the input query. It can be implemented using transformer-based models.\n",
        "  \n",
        "In this computer assignment, you will implement a RAG pipeline using the LangChain framework. You will use two different retrievers: TF-IDF and dense retriever."
      ]
    },
    {
      "cell_type": "markdown",
      "metadata": {
        "id": "L0wV_2SCcl-2"
      },
      "source": [
        "#### Question 1: (2 points)\n",
        "1. Why do we need to use RAG?\n",
        "2. What is LangChain and how does it help in building RAG pipelines?\n",
        "<!-- 2. What are the advantages of RAG over generation methods? -->\n",
        "<!-- 3. What is the difference between dense and sparse retrievers? -->"
      ]
    },
    {
      "cell_type": "markdown",
      "metadata": {
        "id": "jMZ64sjL9Kci"
      },
      "source": [
        "1.  **Why do we need to use RAG?**\n",
        "    We need to use RAG primarily to address the inherent limitations of standalone Large Language Models (LLMs). LLMs are trained on a fixed dataset, meaning their knowledge is static and quickly becomes outdated concerning recent events or niche information. They also suffer from a tendency to \"hallucinate,\" generating plausible but factually incorrect information. Furthermore, LLMs have a limited context window, preventing them from directly processing an entire large knowledge base. RAG overcomes these issues by allowing LLMs to retrieve relevant, up-to-date information from an external corpus and use it to ground their responses, thereby reducing hallucinations and providing more accurate and verifiable answers.\n",
        "\n",
        "2.  **What is LangChain and how does it help in building RAG pipelines?**\n",
        "    LangChain is a powerful framework designed for developing applications powered by language models. It offers a modular set of components that facilitate working with LLMs, including connecting them to external data sources, integrating various tools, and constructing complex \"chains\" and \"agents\". For building RAG pipelines, LangChain provides the structural backbone to seamlessly integrate the \"Retriever\" and \"Generator\" components. It simplifies the process of fetching relevant documents, passing them as context to the LLM, and managing the overall flow from user query to model response, making the development of sophisticated RAG systems more streamlined and efficient."
      ]
    },
    {
      "cell_type": "markdown",
      "metadata": {
        "id": "OiB9LEjb8r0f"
      },
      "source": [
        "## 2. An Overview of LangChain (12 points + 2)\n",
        "\n",
        "In this overview, we will provide a step-by-step guide on how to construct a basic application using LangChain. To learn more about this framework, check its [tutorial](https://python.langchain.com/docs/tutorials/) which is available for different releases!"
      ]
    },
    {
      "cell_type": "markdown",
      "metadata": {
        "id": "DPaEdN5E8r0g"
      },
      "source": [
        "### 2.1 Lets load our model (4 points)\n"
      ]
    },
    {
      "cell_type": "markdown",
      "metadata": {
        "id": "tRahQhR_cl-2"
      },
      "source": [
        "#### Question 2: (2 points)\n",
        "\n",
        "1. Explain how different parameters, such as `temperature`, `max_length`, `top_p`, `top_k`, and `repetition_penalty`, affect the generation process in a language model."
      ]
    },
    {
      "cell_type": "markdown",
      "metadata": {
        "id": "kdHOM7QT9Kci"
      },
      "source": [
        "`# WRITE YOUR ANSWER HERE`"
      ]
    },
    {
      "cell_type": "markdown",
      "metadata": {
        "id": "YKqpgVSmcl-2"
      },
      "source": [
        "#### Completion 1: (2 points)\n",
        "\n",
        "Load the `microsoft/Phi-4-mini-instruct` model and its tokenizer, and create a `text-generation` pipeline. Use the LangChain framework to integrate the model into your application. You should configure the pipeline with appropriate parameters, such as *max_new_tokens*, *temperature*, *top_p*, *top_k*, and *repetition_penalty*."
      ]
    },
    {
      "cell_type": "code",
      "execution_count": null,
      "metadata": {
        "id": "64-XOX3M8r0g"
      },
      "outputs": [],
      "source": [
        "model_id = \"microsoft/Phi-4-mini-instruct\"\n",
        "\n",
        "# Load the model and tokenizer\n",
        "tokenizer =\n",
        "model =\n",
        "\n",
        "# Create the pipeline\n",
        "pipe = pipeline(\n",
        "    \"text-generation\",\n",
        "    ...\n",
        ")\n",
        "\n",
        "# Load the pipeline into LangChain\n",
        "llm ="
      ]
    },
    {
      "cell_type": "code",
      "execution_count": null,
      "metadata": {
        "id": "hAxNYgBGcl-3"
      },
      "outputs": [],
      "source": [
        "response = llm.invoke(\"Who is the president of the United States?\")\n",
        "print(response)"
      ]
    },
    {
      "cell_type": "markdown",
      "metadata": {
        "id": "joCaX8tY8r0g"
      },
      "source": [
        "### 2.2 Simple Chain (4 points)"
      ]
    },
    {
      "cell_type": "markdown",
      "metadata": {
        "id": "sdkMm3Mz8r0h"
      },
      "source": [
        "#### Completion 2: (2 points)\n",
        "\n",
        "Complete the next cell to create a simple chain that takes the name of a football (soccer) player as input and outputs some information about that person. To do so:\n",
        "\n",
        "1. Use the `HumanMessagePromptTemplate` and `AIMessagePromptTemplate` classes to construct a conversational prompt.\n",
        "2. Use `ChatPromptTemplate` to organize the messages.\n",
        "3. Pass the prompt into the model you have loaded before.\n",
        "4. Use `StrOutputParser` to return a plain string.\n",
        "\n",
        "Your final chain should take a dictionary with a **person_name** key and return a brief description about that player."
      ]
    },
    {
      "cell_type": "code",
      "execution_count": null,
      "metadata": {
        "id": "gMEB4D4z8r0h"
      },
      "outputs": [],
      "source": [
        "from langchain_core.prompts import ChatPromptTemplate, HumanMessagePromptTemplate, AIMessagePromptTemplate\n",
        "from langchain_core.output_parsers import StrOutputParser\n",
        "\n",
        "\n",
        "# Create a simple prompt template with a human message and an AI message\n",
        "prompt = ChatPromptTemplate.from_messages([\n",
        "])\n",
        "\n",
        "output_parser = StrOutputParser()\n",
        "\n",
        "# Create a simple chain with the prompt, LLM, and output parser. The goal is to generate a response to the prompt and parse the output as a string.\n",
        "simple_chain ="
      ]
    },
    {
      "cell_type": "code",
      "execution_count": null,
      "metadata": {
        "id": "tGGAq5Atcl-3"
      },
      "outputs": [],
      "source": [
        "answer = simple_chain.invoke({\"person_name\": \"Kylian Mbappé\"})\n",
        "print(answer)"
      ]
    },
    {
      "cell_type": "markdown",
      "metadata": {
        "id": "hq8wDeKK8r0h"
      },
      "source": [
        "#### Question 3: (2 points)\n",
        "\n",
        "1. Write about the objectives behind the creation of `HumanMessagePromptTemplate` and `AIMessagePromptTemplate` classes. What they actually do and how should we use them? Write a brief description."
      ]
    },
    {
      "cell_type": "markdown",
      "metadata": {
        "id": "2kx80OHi9Kcl"
      },
      "source": [
        "`# WRITE YOUR ANSWER HERE`"
      ]
    },
    {
      "cell_type": "markdown",
      "metadata": {
        "id": "MoN6LFaW8r0h"
      },
      "source": [
        "### 2.3 JSON Chain (4 points)"
      ]
    },
    {
      "cell_type": "markdown",
      "metadata": {
        "id": "F56RIBhk8r0i"
      },
      "source": [
        "#### Completion 3: (1 point)\n",
        "\n",
        "Now we want to improve the chain to extract data from the model response. Modify the existing prompt to request information about a football player, such as:\n",
        "- full name\n",
        "- nationality\n",
        "- age\n",
        "- current club\n",
        "- position\n",
        "\n",
        "In this chain, you can use `SystemMessagePromptTemplate` as well.\n",
        "At the end, use `JsonOutputParser` to parse the model's output and return a dictionary."
      ]
    },
    {
      "cell_type": "code",
      "execution_count": null,
      "metadata": {
        "id": "ztIkrpmk8r0i"
      },
      "outputs": [],
      "source": [
        "from langchain_core.prompts import SystemMessagePromptTemplate, ChatPromptTemplate, HumanMessagePromptTemplate, AIMessagePromptTemplate\n",
        "from langchain_core.output_parsers import JsonOutputParser\n",
        "\n",
        "# Create the prompt template.\n",
        "prompt = ChatPromptTemplate.from_messages([\n",
        "])\n",
        "\n",
        "# Use JsonOutputParser to parse the response as a dictionary\n",
        "output_parser = JsonOutputParser()\n",
        "\n",
        "# Define the chain. This time, we want output to be parsed as JSON, using the JsonOutputParser.\n",
        "json_chain ="
      ]
    },
    {
      "cell_type": "code",
      "execution_count": null,
      "metadata": {
        "id": "TVy5yaAJi3NU"
      },
      "outputs": [],
      "source": [
        "json_chain.invoke({\"player_name\": \"Lionel Messi\"})"
      ]
    },
    {
      "cell_type": "code",
      "execution_count": null,
      "metadata": {
        "id": "8xMWli_Ocl-4"
      },
      "outputs": [],
      "source": [
        "# Batch the requests for multiple\n",
        "batch_questions = [\n",
        "  {\"player_name\": \"Lionel Messi\"},\n",
        "  {\"player_name\": \"Cristiano Ronaldo\"},\n",
        "  {\"player_name\": \"Kylian Mbappé\"},\n",
        "  {\"player_name\": \"Neymar\"}\n",
        "]\n",
        "answers = json_chain.batch(batch_questions)\n",
        "\n",
        "# Print the extracted information\n",
        "for (q, a) in zip(batch_questions, answers):\n",
        "  print(f\"{q['player_name']}:\")\n",
        "  for key, value in a.items():\n",
        "    print(f\"  {key}: {value}\")\n",
        "  print()"
      ]
    },
    {
      "cell_type": "markdown",
      "metadata": {
        "id": "bJ0ogQiMcl-4"
      },
      "source": [
        "#### Report 1: (1 point)\n",
        "\n",
        "Explain the challenges you faced in this step. How did you manage to solve them? How could the parameters you used in the text generation pipeline affect the model’s output?"
      ]
    },
    {
      "cell_type": "markdown",
      "metadata": {
        "id": "cU6K2Pfl9Kcm"
      },
      "source": [
        "`# WRITE YOUR ANSWER HERE`"
      ]
    },
    {
      "cell_type": "markdown",
      "metadata": {
        "id": "eHyPzbMD9Kcm"
      },
      "source": [
        "#### Question 4: (2 points)\n",
        "\n",
        "1. How sampling parameters such as *temperature*, *top_p*, and *top_k* can affect our JSON pipeline? Answer the question with respect to the format and content."
      ]
    },
    {
      "cell_type": "markdown",
      "metadata": {
        "id": "vAvDZVtk9Kcn"
      },
      "source": [
        "`# WRITE YOUR ANSWER HERE`"
      ]
    },
    {
      "cell_type": "markdown",
      "metadata": {
        "id": "4RF_aXt6dC9g"
      },
      "source": [
        "### 2.4 (Optional) Tool use: Web search (2 points)"
      ]
    },
    {
      "cell_type": "markdown",
      "metadata": {
        "id": "zjkcoqElcl-4"
      },
      "source": [
        "#### Completion 4: (2 points)\n",
        "\n",
        "Add context about each player by using web search. For this purpose, you need to use a web search tool, and write a function to check the output of the search tool."
      ]
    },
    {
      "cell_type": "code",
      "execution_count": null,
      "metadata": {
        "id": "zE-1-fzpcl-4"
      },
      "outputs": [],
      "source": [
        "# Code here. Note that you may need to install additional packages for web search tool.\n",
        "\n",
        "\n",
        "\n",
        "# Define the chain here\n",
        "footballer_chain = (\n",
        "\n",
        ")\n"
      ]
    },
    {
      "cell_type": "code",
      "execution_count": null,
      "metadata": {
        "id": "7UhjgFJTcl-4"
      },
      "outputs": [],
      "source": [
        "# Batch the requests for multiple\n",
        "batch_questions = [\n",
        "  {\"player_name\": \"Lionel Messi\"},\n",
        "  {\"player_name\": \"Cristiano Ronaldo\"},\n",
        "  {\"player_name\": \"Kylian Mbappé\"},\n",
        "  {\"player_name\": \"Neymar\"},\n",
        "  {\"player_name\": \"Declan Rice\"},\n",
        "  {\"player_name\": \"Trent Alexander-Arnold\"},\n",
        "  {\"player_name\": \"John Stones\"},\n",
        "  {\"player_name\": \"Alphonso Davies\"}\n",
        "]\n",
        "answers = footballer_chain.batch(batch_questions)\n",
        "\n",
        "# Print the extracted information\n",
        "for (q, a) in zip(batch_questions, answers):\n",
        "  print(f\"{q['player_name']}:\")\n",
        "  for key, value in a.items():\n",
        "    print(f\"  {key}: {value}\")\n",
        "  print()"
      ]
    },
    {
      "cell_type": "markdown",
      "metadata": {
        "id": "HS8as30J8r0i"
      },
      "source": [
        "## 3. Build a RAG pipeline (26 points + 3)"
      ]
    },
    {
      "cell_type": "markdown",
      "metadata": {
        "id": "0aM-prY48r0i"
      },
      "source": [
        "In this section, We use a subset of [RecipeNLG](https://recipenlg.cs.put.poznan.pl) dataset to build our RAG pipelines. The dataset contains recipes and their corresponding instructions.\n",
        "\n",
        "You can download the subset from [this google drive link](https://drive.google.com/file/d/1mgPcQKc7-SaWVyxaJ404L6dGkQvODca5/view?usp=sharing) or from the course website."
      ]
    },
    {
      "cell_type": "markdown",
      "metadata": {
        "id": "fW2JuoTzNNek"
      },
      "source": [
        "### 3.1 Load and prepare the dataset (4 points)"
      ]
    },
    {
      "cell_type": "markdown",
      "metadata": {
        "id": "NGWVvgLqNNek"
      },
      "source": [
        "#### Completion 5: (4 point)\n",
        "\n",
        "First, you should load the dataset, which is stored in a CSV file. and converting it to a `datasets.Dataset` object.\n",
        "\n",
        "The dataset contains the following columns:\n",
        "- **title**: The name of the recipe\n",
        "- **ingredients**: A list of ingredients used in the recipe, including quantities and preparation methods\n",
        "- **directions**: The instructions for preparing the recipe, presented as a list of sequential steps\n",
        "- **NER**: A list of named entities representing the core food items and cooking components extracted from each recipe, without quantities or preparation instructions.\n",
        "\n",
        "**Attention**: You should carefully process list objects (ingredients, directions, and NER) and convert them to a string document.\n",
        "\n",
        "**Attention 2**: The provided dataset, has 5k recipes. You can use a smaller subset of the dataset for your experiments. For example, you can use the first 100 recipes for your experiments or more, based on your resource limitation."
      ]
    },
    {
      "cell_type": "code",
      "execution_count": null,
      "metadata": {
        "id": "YIkZv62ZNNek"
      },
      "outputs": [],
      "source": [
        "!pip install -q gdown"
      ]
    },
    {
      "cell_type": "code",
      "execution_count": null,
      "metadata": {
        "id": "6cVk_djLNNek"
      },
      "outputs": [],
      "source": [
        "!gdown 1mgPcQKc7-SaWVyxaJ404L6dGkQvODca5 -O data_5000.csv"
      ]
    },
    {
      "cell_type": "code",
      "execution_count": null,
      "metadata": {
        "id": "dmjlX1Go8r0i"
      },
      "outputs": [],
      "source": [
        "# Code here to load and process the dataset\n",
        "\n",
        "\n",
        "# Store the datasets.Dataset object in the variable `dataset`\n",
        "dataset =\n",
        "print(dataset)"
      ]
    },
    {
      "cell_type": "code",
      "execution_count": null,
      "metadata": {
        "id": "WF2MjTYelRfB"
      },
      "outputs": [],
      "source": [
        "# In this cell, you should store the dataset, as a list of `langchain_core.documents.Document` objects, which can simplify your future steps.\n",
        "# You should decide how to convert the dataset to documents\n",
        "from langchain_core.documents import Document\n",
        "\n",
        "documents: list[Document] = []\n",
        "\n",
        "\n",
        "print(f\"Number of documents: {len(documents)}\")"
      ]
    },
    {
      "cell_type": "code",
      "execution_count": null,
      "metadata": {
        "id": "2bHNwp3sNNel"
      },
      "outputs": [],
      "source": [
        "# Now, you should use a splitter to divide long texts into smaller, manageable chunks so they can fit within the context window of language models or retrievers.\n",
        "# Use `RecursiveCharacterTextSplitter` to split the documents into smaller chunks, ans set the `chunk_size` and `chunk_overlap` parameters accordingly.\n",
        "\n",
        "\n",
        "\n",
        "chunks = []\n",
        "\n",
        "print(f\"Number of chunks: {len(chunks)}\")"
      ]
    },
    {
      "cell_type": "markdown",
      "metadata": {
        "id": "FN7dSqY-NNel"
      },
      "source": [
        "### 3.2 Sparse Retriever (3 points)\n",
        "\n",
        "In this section, we would create a sparse retriever for our RAG pipeline."
      ]
    },
    {
      "cell_type": "markdown",
      "metadata": {
        "id": "Elzh6QSSNNem"
      },
      "source": [
        "#### Question 5: (2 points)\n",
        "\n",
        "1. Explain how a sparse retriever like TF-IDF represents documents and queries. How does this representation influence which documents are retrieved?\n",
        "2. Sparse retrievers rely on exact token matches between queries and documents. What are the strengths and weaknesses of this approach, especially compared to dense retrievers?"
      ]
    },
    {
      "cell_type": "markdown",
      "metadata": {
        "id": "9VXT5RG79Kcw"
      },
      "source": [
        "`# WRITE YOUR ANSWER HERE`"
      ]
    },
    {
      "cell_type": "markdown",
      "metadata": {
        "id": "QvmpQ-BtNNem"
      },
      "source": [
        "#### Completion 6: (1 point)\n",
        "\n",
        "Complete the code cells below to create a sparse retriever, which would be later used in our RAG pipeline."
      ]
    },
    {
      "cell_type": "code",
      "execution_count": null,
      "metadata": {
        "id": "6Rq6DS9wNNem"
      },
      "outputs": [],
      "source": [
        "# Prepare your retriever. For this section, you should use a sparse retriever such as `TFIDF` or `BM25`.\n",
        "# We want our retriever to retrieve the first 3 chunks that are most relevant to the query.\n",
        "\n",
        "\n",
        "sparse_retriever ="
      ]
    },
    {
      "cell_type": "code",
      "execution_count": null,
      "metadata": {
        "id": "S7IoZQioNNem"
      },
      "outputs": [],
      "source": [
        "# Query below is related to `Zucchini Nut Bread` recipe.\n",
        "\n",
        "Sample_query = \"\\\n",
        "The kitchen smells warm and sweet already. \\\n",
        "I’ve beaten the eggs until they’re nice and frothy, then slowly mixed in the sugar, vegetable oil, and vanilla. \\\n",
        "it’s turned into a thick, glossy batter, smooth and golden. \\\n",
        "I’ve just stirred in the fresh, grated zucchini, and it’s added a slightly textured, green-flecked look to the mix. \\\n",
        "It’s moist, with a nice balance of richness and freshness from the zucchini.\"\n",
        "\n",
        "# Use the sparse retriever to get the most relevant chunks for the query\n",
        "retrieved_chunks =\n",
        "\n",
        "# Now, see what chunks were retrieved\n",
        "for i, chunk in enumerate(retrieved_chunks, start=1):\n",
        "    print(f\"Chunk {i}:\")\n",
        "    # print(chunk.page_content)\n",
        "    print(\"Metadata:\", chunk.metadata)\n",
        "    print()"
      ]
    },
    {
      "cell_type": "markdown",
      "metadata": {
        "id": "0qnbeJnz8r0k"
      },
      "source": [
        "### 3.3 Semantic Retriever (4 points)"
      ]
    },
    {
      "cell_type": "markdown",
      "metadata": {
        "id": "YgEphnmn8r0k"
      },
      "source": [
        "#### Question 6: (2 point)\n",
        "\n",
        "1. How does a semantic retriever represent documents and queries differently from a sparse retriever? Explain why this helps in cases where there are no exact word overlaps.\n",
        "2. What role do embedding models (e.g., sentence-transformers) play in semantic retrieval? How does the choice of embedding model affect the retriever’s performance?"
      ]
    },
    {
      "cell_type": "markdown",
      "metadata": {
        "id": "loa5uJFE9Kcx"
      },
      "source": [
        "`# WRITE YOUR ANSWER HERE`"
      ]
    },
    {
      "cell_type": "markdown",
      "metadata": {
        "id": "w1GCzoOXUf8c"
      },
      "source": [
        "#### Completion 7: (2 point)\n",
        "\n",
        "Let's create a semantic retriever. We would use `BAAI/bge-small-en` as our embedding model, and `FAISS` as our vector store. Complete the code cells below to create a semantic retriever, which would be later used in our RAG pipeline.\n",
        "\n",
        "As explained before, we want our retriever to retrieve the first 3 most relevant documents."
      ]
    },
    {
      "cell_type": "code",
      "execution_count": null,
      "metadata": {
        "id": "V6NzUEAs8r0k"
      },
      "outputs": [],
      "source": [
        "# Code here\n",
        "\n",
        "embedding_model =\n",
        "semantic_retriever ="
      ]
    },
    {
      "cell_type": "code",
      "execution_count": null,
      "metadata": {
        "id": "l5Uc59HkUf8c"
      },
      "outputs": [],
      "source": [
        "# Query below is related to `Zucchini Nut Bread` recipe.\n",
        "\n",
        "Sample_query = \"\\\n",
        "The kitchen smells warm and sweet already. \\\n",
        "I’ve beaten the eggs until they’re nice and frothy, then slowly mixed in the sugar, vegetable oil, and vanilla. \\\n",
        "it’s turned into a thick, glossy batter, smooth and golden. \\\n",
        "I’ve just stirred in the fresh, grated zucchini, and it’s added a slightly textured, green-flecked look to the mix. \\\n",
        "It’s moist, with a nice balance of richness and freshness from the zucchini.\"\n",
        "\n",
        "# Use the semantic retriever to get the most relevant chunks for the query\n",
        "retrieved_chunks =\n",
        "\n",
        "# Now, see what chunks were retrieved\n",
        "for i, chunk in enumerate(retrieved_chunks, start=1):\n",
        "    print(f\"Chunk {i}:\")\n",
        "    # print(chunk.page_content)\n",
        "    print(\"Metadata:\", chunk.metadata)\n",
        "    print()"
      ]
    },
    {
      "cell_type": "markdown",
      "metadata": {
        "id": "FYbF75HP2bBc"
      },
      "source": [
        "### 3.4 Create RAG pipelines (6 points)"
      ]
    },
    {
      "cell_type": "markdown",
      "metadata": {
        "id": "k_KnISF32bBc"
      },
      "source": [
        "#### Question 7: (2 points)\n",
        "\n",
        "1. What are the main components of a RAG system, and how do they interact during inference? Describe the flow from user input to model output.\n",
        "2. Describe two different strategies for integrating retrieved context into the prompt. What are the trade-offs between these approaches?"
      ]
    },
    {
      "cell_type": "markdown",
      "metadata": {
        "id": "-TJ2_4Bn9Kcz"
      },
      "source": [
        "`# WRITE YOUR ANSWER HERE`"
      ]
    },
    {
      "cell_type": "markdown",
      "metadata": {
        "id": "avtuGMuT2bBc"
      },
      "source": [
        "#### Completion 8: (4 points)\n",
        "\n",
        "Follow the instructions below to build a RAG pipeline using the retrievers you created in the previous sections."
      ]
    },
    {
      "cell_type": "code",
      "execution_count": null,
      "metadata": {
        "id": "Dqo5m1La2bBc"
      },
      "outputs": [],
      "source": [
        "Sample_query = \"\"\"\\\n",
        "The kitchen smells warm and sweet already. \\\n",
        "I’ve beaten the eggs until they’re nice and frothy, then slowly mixed in the sugar, vegetable oil, and vanilla. \\\n",
        "it’s turned into a thick, glossy batter, smooth and golden. \\\n",
        "I’ve just stirred in the fresh, grated zucchini, and it’s added a slightly textured, green-flecked look to the mix. \\\n",
        "It’s moist, with a nice balance of richness and freshness from the zucchini.\n",
        "\n",
        "What is your best guess about what am I cooking?\\\n",
        "\"\"\""
      ]
    },
    {
      "cell_type": "code",
      "execution_count": null,
      "metadata": {
        "id": "xxybNSeT2bBc"
      },
      "outputs": [],
      "source": [
        "# We are going to use \"microsoft/Phi-4-mini-instruct\" as our LLM again. If you need, load it again here and as before.\n",
        "\n",
        "model_id = \"microsoft/Phi-4-mini-instruct\"\n",
        "tokenizer =\n",
        "model =\n",
        "pipe =\n",
        "llm ="
      ]
    },
    {
      "cell_type": "code",
      "execution_count": null,
      "metadata": {
        "id": "j-_gpU7u2bBc"
      },
      "outputs": [],
      "source": [
        "# First, we need to define a new chat template, that provide the retrieved documents as context to the LLM.\n",
        "from langchain_core.prompts import SystemMessagePromptTemplate, ChatPromptTemplate, HumanMessagePromptTemplate, AIMessagePromptTemplate\n",
        "\n",
        "\n",
        "prompt = ChatPromptTemplate.from_messages([\n",
        "\n",
        "])"
      ]
    },
    {
      "cell_type": "code",
      "execution_count": null,
      "metadata": {
        "id": "2YU0sdZa2bBc"
      },
      "outputs": [],
      "source": [
        "# Now, let's create a simple RAG pipeline, using the sparse retriever. Note that we need the retrieved context as part of the output, so that we can later use it for evaluation.\n",
        "from langchain_core.output_parsers import StrOutputParser\n",
        "\n",
        "output_parser = StrOutputParser()\n",
        "\n",
        "sparse_rag = (\n",
        "    # INVOKE CHAIN WITH: {\"question\" : \"<<SOME USER QUESTION>>\"}\n",
        "    # \"question\" : (input)  populated by getting the value of the \"question\" key\n",
        "    # \"context\"  : (output) chunks retrieved by the sparse retriever, based on the \"question\" value\n",
        "    # \"response\" : (output) the \"context\" and \"question\" values are used to format our prompt object and then piped\n",
        "    #                       into the LLM and stored in a key called \"response\"\n",
        "\n",
        ")\n",
        "\n",
        "# Now, let's test the sparse RAG pipeline with a sample query.\n",
        "response =\n",
        "print(response[\"response\"])"
      ]
    },
    {
      "cell_type": "code",
      "execution_count": null,
      "metadata": {
        "id": "xRy88ZMi2bBc"
      },
      "outputs": [],
      "source": [
        "# For this cell, everything is the same as the previous cell, except that we are using the semantic retriever instead of the sparse retriever.\n",
        "\n",
        "semantic_rag = (\n",
        "    # The same as previous cell, but using the semantic retriever instead of the sparse retriever\n",
        ")\n",
        "\n",
        "# Now, let's test the semantic RAG pipeline with a sample query.\n",
        "response =\n",
        "print(response[\"response\"])"
      ]
    },
    {
      "cell_type": "code",
      "execution_count": null,
      "metadata": {
        "id": "RvYodfcg2bBd"
      },
      "outputs": [],
      "source": [
        "# Finally, let's try the same query with the LLM directly, without any retrieval.\n",
        "response =\n",
        "print(response)"
      ]
    },
    {
      "cell_type": "markdown",
      "metadata": {
        "id": "5mCOh9_i2bBd"
      },
      "source": [
        "### 3.5 Evaluate our pipelines (9 points)\n",
        "\n",
        "In this section, we are going to evaluate our RAG pipelines. First, we would design 5 queries to evaluate our RAG pipelines and our LLM alone."
      ]
    },
    {
      "cell_type": "markdown",
      "metadata": {
        "id": "yDgQ1uNE2bBd"
      },
      "source": [
        "#### Completion 9: (1 point)\n",
        "\n",
        "Add 4 more queries, similar to the example. The examples would be based on the first 100 recipes of our dataset.\n",
        "We would keep the title of the recipe that we used to create the query, for future reference."
      ]
    },
    {
      "cell_type": "code",
      "execution_count": null,
      "metadata": {
        "id": "o2pV6lw_2bBd"
      },
      "outputs": [],
      "source": [
        "queries = [\n",
        "    {\n",
        "        \"title\": \"Balsamic Chicken Pasta with Fresh Cheese\",\n",
        "        \"query\": \"I am cooking dinner. Here is what my kitchen looks like:\\nThe linguine is cooked and set aside. The red bell peppers are soft and slightly caramelized. The balsamic dressing is mixed with garlic, salt, pepper, and fresh basil. Each component is ready in its bowl, colorful and aromatic.\\n\\nWhat should I do as my next step?\"\n",
        "    },\n",
        "    # Add 4 more\n",
        "]"
      ]
    },
    {
      "cell_type": "code",
      "execution_count": null,
      "metadata": {
        "id": "4Gglt-XH2bBd"
      },
      "outputs": [],
      "source": [
        "from textwrap import fill\n",
        "questions = [{\"question\": q[\"query\"]} for q in queries]\n",
        "\n",
        "llm_responses = llm.batch([q[\"query\"] for q in queries])\n",
        "sparse_rag_responses = sparse_rag.batch(questions)\n",
        "semantic_rag_responses = semantic_rag.batch(questions)\n",
        "\n",
        "for query, r1, r2, r3 in zip(queries, llm_responses, sparse_rag_responses, semantic_rag_responses):\n",
        "    print(f'{query[\"title\"]}:')\n",
        "    print(f'  - Without  RAG: {fill(r1, width=90, initial_indent=\"\", subsequent_indent=\" \"*18)}')\n",
        "    print(f'  - Sparse   RAG: {fill(r2[\"response\"], width=90, initial_indent=\"\", subsequent_indent=\" \"*18)}')\n",
        "    print(f'  - Semantic RAG: {fill(r3[\"response\"], width=90, initial_indent=\"\", subsequent_indent=\" \"*18)}')\n",
        "    print()"
      ]
    },
    {
      "cell_type": "markdown",
      "metadata": {
        "id": "AOJLRpnD2bBd"
      },
      "source": [
        "#### Report 2: (2 points)\n",
        "\n",
        "Write a report about the experiments above. Your report should address the following:\n",
        "1. Compare the quality of the answers. In which cases did Sparse or Semantic RAG help improve the response? Was there any example where it hurt the performance?\n",
        "2. Discuss the differences between Sparse and Semantic RAG. Based on your examples, which one seems more effective and why?\n",
        "3. Any surprising findings or patterns? Did anything behave differently than you expected?\n"
      ]
    },
    {
      "cell_type": "markdown",
      "metadata": {
        "id": "qGpTaetj9Kc2"
      },
      "source": [
        "`# WRITE YOUR ANSWER HERE`"
      ]
    },
    {
      "cell_type": "markdown",
      "metadata": {
        "id": "5TJIR0sJ2bBd"
      },
      "source": [
        "#### Completion 10: (3 points)\n",
        "\n",
        "Now we want to automate the evaluation process. For this purpose, we are going to use the `ragas`. Follow the instructions of each cell to create the evaluation pipeline. To learn more about this framework, please refer to its [get started](https://docs.ragas.io/en/stable/getstarted/) or [how-to](https://docs.ragas.io/en/stable/howtos/) pages."
      ]
    },
    {
      "cell_type": "code",
      "execution_count": null,
      "metadata": {
        "id": "wxjSZO7V2bBd"
      },
      "outputs": [],
      "source": [
        "!pip install -q ragas rapidfuzz"
      ]
    },
    {
      "cell_type": "code",
      "execution_count": null,
      "metadata": {
        "id": "JG_Q2JCf2bBd"
      },
      "outputs": [],
      "source": [
        "# Load the LLM as ragas llm. For this, we can use the provided wrapper for our existing LLM.\n",
        "\n",
        "ragas_llm ="
      ]
    },
    {
      "cell_type": "code",
      "execution_count": null,
      "metadata": {
        "id": "QuL-IP9L2bBd"
      },
      "outputs": [],
      "source": [
        "# Generate 10 test cases, using ragas, based on your documents. You can use a subset of your documents for faster runtime.\n",
        "test_set =\n",
        "\n",
        "\n",
        "test_set.test_data[0]"
      ]
    },
    {
      "cell_type": "code",
      "execution_count": null,
      "metadata": {
        "id": "2O-XwiVs2bBd"
      },
      "outputs": [],
      "source": [
        "test_df = test_set.to_pandas()\n",
        "test_df.head(3)"
      ]
    },
    {
      "cell_type": "code",
      "execution_count": null,
      "metadata": {
        "id": "dU3QIdVW2bBd"
      },
      "outputs": [],
      "source": [
        "test_questions = test_df[\"question\"].values.tolist()\n",
        "test_ground_truths = test_df[\"ground_truth\"].values.tolist()"
      ]
    },
    {
      "cell_type": "code",
      "execution_count": null,
      "metadata": {
        "id": "SAyWxf1u2bBd"
      },
      "outputs": [],
      "source": [
        "results = {\n",
        "    \"sparse\": {\n",
        "        \"answers\": [],\n",
        "        \"contexts\": []\n",
        "    },\n",
        "    \"dense\": {\n",
        "        \"answers\": [],\n",
        "        \"contexts\": []\n",
        "    },\n",
        "}\n",
        "\n",
        "for question in test_questions:\n",
        "    q = {\"question\": question}\n",
        "    s_response = sparse_rag.invoke(q)\n",
        "    d_response = semantic_rag.invoke(q)\n",
        "\n",
        "    results[\"sparse\"][\"answers\"].append(s_response[\"response\"])\n",
        "    results[\"sparse\"][\"contexts\"].append([context.page_content for context in s_response[\"context\"]])\n",
        "    results[\"dense\"][\"answers\"].append(d_response[\"response\"])\n",
        "    results[\"dense\"][\"contexts\"].append([context.page_content for context in d_response[\"context\"]])\n",
        "\n",
        "from datasets import Dataset\n",
        "\n",
        "sparse_response_dataset = Dataset.from_dict({\n",
        "    \"question\" : test_questions,\n",
        "    \"answer\" : results[\"sparse\"][\"answers\"],\n",
        "    \"contexts\" : results[\"sparse\"][\"contexts\"],\n",
        "    \"ground_truth\" : test_ground_truths\n",
        "})\n",
        "dense_response_dataset = Dataset.from_dict({\n",
        "    \"question\" : test_questions,\n",
        "    \"answer\" : results[\"dense\"][\"answers\"],\n",
        "    \"contexts\" : results[\"dense\"][\"contexts\"],\n",
        "    \"ground_truth\" : test_ground_truths\n",
        "})"
      ]
    },
    {
      "cell_type": "code",
      "execution_count": null,
      "metadata": {
        "id": "MHHmIKiV2bBd"
      },
      "outputs": [],
      "source": [
        "# Load ragas evaluation metrics. We would use all possible metrics, including:\n",
        "# - Faithfulness\n",
        "# - Answer relevancy\n",
        "# - Answer correctness\n",
        "# - retrieved context related metrics\n",
        "\n",
        "metrics = [\n",
        "\n",
        "]"
      ]
    },
    {
      "cell_type": "code",
      "execution_count": null,
      "metadata": {
        "id": "9Gn_stOM2bBd"
      },
      "outputs": [],
      "source": [
        "# Use ragas evaluator to report the score of each pipeline, using the metrics defined above.\n",
        "\n",
        "sparse_scores =\n",
        "dense_scores =\n",
        "\n",
        "print(f\"Sparse RAG Score: {sparse_scores}\")\n",
        "print(f\"Dense RAG Score: {dense_scores}\")"
      ]
    },
    {
      "cell_type": "code",
      "execution_count": null,
      "metadata": {
        "id": "1p1Zsbbv2bBe"
      },
      "outputs": [],
      "source": [
        "sparse_scores.to_pandas().head(3)"
      ]
    },
    {
      "cell_type": "code",
      "execution_count": null,
      "metadata": {
        "id": "XkrM-3XC2bBe"
      },
      "outputs": [],
      "source": [
        "dense_scores.to_pandas().head(3)"
      ]
    },
    {
      "cell_type": "code",
      "execution_count": null,
      "metadata": {
        "id": "cGTkCkXR2bBe"
      },
      "outputs": [],
      "source": [
        "import pandas as pd\n",
        "\n",
        "df_sparse = pd.DataFrame(list(sparse_scores.items()), columns=['Metric', 'Sparse Retriever'])\n",
        "df_dense = pd.DataFrame(list(dense_scores.items()), columns=['Metric', 'Dense Retriever'])\n",
        "\n",
        "df_merged = pd.merge(df_sparse, df_dense, on='Metric')\n",
        "\n",
        "df_merged['Delta'] = df_merged['Dense Retriever'] - df_merged['Sparse Retriever']\n",
        "\n",
        "df_merged"
      ]
    },
    {
      "cell_type": "markdown",
      "metadata": {
        "id": "LgCuLLiP2bBe"
      },
      "source": [
        "#### Report 3: (1 point)\n",
        "\n",
        "Compare the automated evaluation (using ragas) with your manual evaluation from the previous step. In your report, make sure to address the following:\n",
        "1. How are the two evaluation methods different? Briefly describe what makes the automated evaluation distinct from your manual judgment process (e.g., consistency, objectivity, criteria used).\n",
        "2.\tDo both evaluations show the same results? Were the rankings or judgments about the quality of responses consistent between your analysis and the automated scores?\n",
        "3.\tIf there were differences, why might that be? Reflect on what factors could lead to different results."
      ]
    },
    {
      "cell_type": "markdown",
      "metadata": {
        "id": "SnvhxPHK9Kc5"
      },
      "source": [
        "`# WRITE YOUR ANSWER HERE`"
      ]
    },
    {
      "cell_type": "markdown",
      "metadata": {
        "id": "wSIS7xwI2bBe"
      },
      "source": [
        "#### Question 8: (2 points)\n",
        "\n",
        "1. Explain the underlying mechanism and techniques used by `ragas` to evaluate the performance of RAG pipelines. How does it ensure that the evaluation is both comprehensive and relevant to the task?"
      ]
    },
    {
      "cell_type": "markdown",
      "metadata": {
        "id": "ApBfYdw89Kc6"
      },
      "source": [
        "`# WRITE YOUR ANSWER HERE`"
      ]
    },
    {
      "cell_type": "markdown",
      "metadata": {
        "id": "UrgGWbOG2bBe"
      },
      "source": [
        "### 3.6 (Optional) Other strategy: (3 points)"
      ]
    },
    {
      "cell_type": "markdown",
      "metadata": {
        "id": "12LXj99X2bBe"
      },
      "source": [
        "#### Question 9: (3 points)\n",
        "\n",
        "There are other retriever strategies you can use to improve the performance of your RAG pipeline. In this task:\n",
        "1. Explain what the `MultiQueryRetriever` does and how it can help improve retrieval quality in your pipeline.\n",
        "2. Implement the `MultiQueryRetriever` in your RAG pipeline and evaluate its performance using both manual and automated methods.\n",
        "3. You may also make additional improvements to your pipeline. If you do so, briefly explain what changes you made, how they affect the system, and why they might improve performance."
      ]
    },
    {
      "cell_type": "markdown",
      "metadata": {
        "id": "tX09aqSe9Kc6"
      },
      "source": [
        "`# WRITE YOUR ANSWER HERE`"
      ]
    },
    {
      "cell_type": "markdown",
      "metadata": {
        "id": "sUMa9seb9Kc7"
      },
      "source": [
        "## 4. Read more: (10 points)"
      ]
    },
    {
      "cell_type": "markdown",
      "metadata": {
        "id": "j7zaFJgj9Kc7"
      },
      "source": [
        "#### Cache-Augmented Generation (CAG): (4 points)\n",
        "\n",
        "1. What is Cache-Augmented Generation (CAG)? How does it improve efficiency or performance during generation?\n",
        "2. What are the similarities and differences between Cache-Augmented Generation (CAG) and Retrieval-Augmented Generation (RAG)? In what scenarios might you prefer one over the other?"
      ]
    },
    {
      "cell_type": "markdown",
      "metadata": {
        "id": "ayjrAeA49Kc7"
      },
      "source": [
        "`# WRITE YOUR ANSWER HERE`"
      ]
    },
    {
      "cell_type": "markdown",
      "metadata": {
        "id": "vbV9U9or9Kc7"
      },
      "source": [
        "#### Multi-modal RAG: (6 points)\n",
        "\n",
        "1. How do models like CLIP enable the embedding of both text and images into a shared vector space? What are the advantages and disadvantages of using a unified embedding space for cross-modal retrieval in RAG systems.\n",
        "2. In systems like [Colpali](https://arxiv.org/pdf/2407.01449), how does dividing document images into patches enhance the retrieval process in multimodal RAG? Explore how patch-based processing preserves structural information and its impact on retrieval accuracy.\n",
        "3. What are the implications of converting non-text modalities (e.g., images) into textual representations for retrieval purposes? Discuss the benefits and drawbacks of grounding all modalities into a primary modality, such as text, in the context of RAG."
      ]
    },
    {
      "cell_type": "markdown",
      "metadata": {
        "id": "junLQ_x69Kc7"
      },
      "source": [
        "`# WRITE YOUR ANSWER HERE`"
      ]
    }
  ],
  "metadata": {
    "accelerator": "GPU",
    "colab": {
      "collapsed_sections": [
        "TuwfOPincl-1",
        "OiB9LEjb8r0f",
        "FN7dSqY-NNel",
        "QvmpQ-BtNNem"
      ],
      "gpuType": "T4",
      "provenance": []
    },
    "kernelspec": {
      "display_name": "Python 3",
      "name": "python3"
    },
    "language_info": {
      "name": "python"
    }
  },
  "nbformat": 4,
  "nbformat_minor": 0
}